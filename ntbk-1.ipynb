{
 "cells": [
  {
   "cell_type": "markdown",
   "metadata": {
    "ExecuteTime": {
     "end_time": "2019-11-16T19:45:28.974544Z",
     "start_time": "2019-11-16T19:45:28.970666Z"
    }
   },
   "source": [
    "# Clean and explore FEC Data and Census Bureau data"
   ]
  },
  {
   "cell_type": "markdown",
   "metadata": {},
   "source": [
    "## Clean and explore FEC Data"
   ]
  },
  {
   "cell_type": "code",
   "execution_count": 1,
   "metadata": {
    "ExecuteTime": {
     "end_time": "2019-11-16T21:36:14.463675Z",
     "start_time": "2019-11-16T21:36:11.252925Z"
    }
   },
   "outputs": [],
   "source": [
    "import pandas as pd\n",
    "import numpy as np\n",
    "import matplotlib.pyplot as plt\n",
    "import datetime\n",
    "import sqlite3\n",
    "from sklearn.preprocessing import LabelEncoder"
   ]
  },
  {
   "cell_type": "code",
   "execution_count": 2,
   "metadata": {
    "ExecuteTime": {
     "end_time": "2019-11-16T21:36:14.610170Z",
     "start_time": "2019-11-16T21:36:14.467638Z"
    }
   },
   "outputs": [
    {
     "name": "stdout",
     "output_type": "stream",
     "text": [
      "Num of candidate ids: 28 \n",
      " Num of committee ids: 28 \n",
      " Num of candidate names: 28 \n",
      " Shape: (19875, 18)\n"
     ]
    }
   ],
   "source": [
    "df = pd.read_csv('raw_data/fec-pol-contr.csv', index_col=False, na_values=[99999])\n",
    "\n",
    "print('Num of candidate ids:',len(df['cand_id'].unique()),'\\n',\n",
    "      'Num of committee ids:', len(df['cmte_id'].unique()),'\\n',\n",
    "      'Num of candidate names:', len(df['cand_nm'].unique()),'\\n',\n",
    "      'Shape:', df.shape)"
   ]
  },
  {
   "cell_type": "code",
   "execution_count": 3,
   "metadata": {
    "ExecuteTime": {
     "end_time": "2019-11-16T21:36:14.634488Z",
     "start_time": "2019-11-16T21:36:14.615416Z"
    }
   },
   "outputs": [
    {
     "name": "stdout",
     "output_type": "stream",
     "text": [
      "Num of candidates: 4\n"
     ]
    }
   ],
   "source": [
    "cand_list = ['Warren, Elizabeth ', \n",
    "             'Sanders, Bernard', \n",
    "             'Buttigieg, Pete', \n",
    "             'Biden, Joseph R Jr']\n",
    "df = df.loc[df.cand_nm.isin(cand_list)]\n",
    "print('Num of candidates:', len(df.cand_nm.unique()))"
   ]
  },
  {
   "cell_type": "code",
   "execution_count": 4,
   "metadata": {
    "ExecuteTime": {
     "end_time": "2019-11-16T21:36:14.648480Z",
     "start_time": "2019-11-16T21:36:14.638343Z"
    }
   },
   "outputs": [
    {
     "name": "stdout",
     "output_type": "stream",
     "text": [
      "SA17A    11712\n",
      "SB28A      206\n",
      "Name: form_tp, dtype: int64\n"
     ]
    }
   ],
   "source": [
    "print(df.form_tp.value_counts())"
   ]
  },
  {
   "cell_type": "code",
   "execution_count": 5,
   "metadata": {
    "ExecuteTime": {
     "end_time": "2019-11-16T21:36:14.668754Z",
     "start_time": "2019-11-16T21:36:14.651285Z"
    }
   },
   "outputs": [
    {
     "name": "stdout",
     "output_type": "stream",
     "text": [
      "SA17A    11712\n",
      "Name: form_tp, dtype: int64\n"
     ]
    }
   ],
   "source": [
    "# drop the refunds (SB28A)\n",
    "df = df[df.form_tp != 'SB28A']\n",
    "print(df.form_tp.value_counts())"
   ]
  },
  {
   "cell_type": "code",
   "execution_count": 6,
   "metadata": {
    "ExecuteTime": {
     "end_time": "2019-11-16T21:36:14.684743Z",
     "start_time": "2019-11-16T21:36:14.673954Z"
    }
   },
   "outputs": [
    {
     "name": "stdout",
     "output_type": "stream",
     "text": [
      "WASHINGTON     11701\n",
      "BOLLING AFB       11\n",
      "Name: contbr_city, dtype: int64\n"
     ]
    }
   ],
   "source": [
    "print(df.contbr_city.value_counts())"
   ]
  },
  {
   "cell_type": "code",
   "execution_count": 7,
   "metadata": {
    "ExecuteTime": {
     "end_time": "2019-11-16T21:36:15.309942Z",
     "start_time": "2019-11-16T21:36:14.688148Z"
    }
   },
   "outputs": [
    {
     "name": "stderr",
     "output_type": "stream",
     "text": [
      "/Users/alyssaliguori/anaconda3/lib/python3.7/site-packages/ipykernel_launcher.py:4: SettingWithCopyWarning: \n",
      "A value is trying to be set on a copy of a slice from a DataFrame\n",
      "\n",
      "See the caveats in the documentation: http://pandas.pydata.org/pandas-docs/stable/indexing.html#indexing-view-versus-copy\n",
      "  after removing the cwd from sys.path.\n"
     ]
    }
   ],
   "source": [
    "# change bolling afb to washington\n",
    "indx = df.loc[(df.contbr_city == 'BOLLING AFB')].index\n",
    "for ind in list(indx):\n",
    "    df.contbr_city[ind] = 'WASHINGTON'"
   ]
  },
  {
   "cell_type": "code",
   "execution_count": 8,
   "metadata": {
    "ExecuteTime": {
     "end_time": "2019-11-16T21:36:15.323332Z",
     "start_time": "2019-11-16T21:36:15.315372Z"
    }
   },
   "outputs": [
    {
     "name": "stdout",
     "output_type": "stream",
     "text": [
      "WASHINGTON    11712\n",
      "Name: contbr_city, dtype: int64\n"
     ]
    }
   ],
   "source": [
    "print(df.contbr_city.value_counts())"
   ]
  },
  {
   "cell_type": "code",
   "execution_count": 9,
   "metadata": {
    "ExecuteTime": {
     "end_time": "2019-11-16T21:36:15.397273Z",
     "start_time": "2019-11-16T21:36:15.327228Z"
    }
   },
   "outputs": [],
   "source": [
    "df.loc[(df.contbr_zip.isna() != False)]                         \n",
    "df.loc[df.contbr_nm == 'THOMPSON, KENNETH D JR', 'contbr_zip'] = 20001"
   ]
  },
  {
   "cell_type": "code",
   "execution_count": 10,
   "metadata": {
    "ExecuteTime": {
     "end_time": "2019-11-16T21:36:15.428264Z",
     "start_time": "2019-11-16T21:36:15.401591Z"
    }
   },
   "outputs": [
    {
     "name": "stdout",
     "output_type": "stream",
     "text": [
      "Unique zip codes: 49\n"
     ]
    }
   ],
   "source": [
    "df['contbr_zip'] = df.contbr_zip.astype('str')\n",
    "df.contbr_zip = df['contbr_zip'].apply(lambda x: x[0:5])\n",
    "print('Unique zip codes:', len(df.contbr_zip.unique()))"
   ]
  },
  {
   "cell_type": "code",
   "execution_count": 11,
   "metadata": {
    "ExecuteTime": {
     "end_time": "2019-11-16T21:36:15.439825Z",
     "start_time": "2019-11-16T21:36:15.432306Z"
    }
   },
   "outputs": [
    {
     "name": "stdout",
     "output_type": "stream",
     "text": [
      "Null zip codes: 0\n"
     ]
    }
   ],
   "source": [
    "print('Null zip codes:', df.contbr_zip.isna().sum())"
   ]
  },
  {
   "cell_type": "code",
   "execution_count": 12,
   "metadata": {
    "ExecuteTime": {
     "end_time": "2019-11-16T21:36:15.454770Z",
     "start_time": "2019-11-16T21:36:15.446479Z"
    }
   },
   "outputs": [
    {
     "name": "stdout",
     "output_type": "stream",
     "text": [
      "['20001' '20007' '20006' '20003' '20008' '20013' '20037' '20018' '20010'\n",
      " '20002' '20009' '20016' '20024' '20011' '20005' '20015' '20012' '20552'\n",
      " '20212' '20004' '20036' '20019' '20526' '20017' '20301' '20540' '20032'\n",
      " '20020' '22205' '25413' '20585' '20057' '20375' '20472' '20270' '20026'\n",
      " '20229' '20420' '20591' '20500' '20210' '20038' '20044' '20014' '20027'\n",
      " '20577' '11217' '20052' '20035']\n"
     ]
    }
   ],
   "source": [
    "print(df.contbr_zip.unique())"
   ]
  },
  {
   "cell_type": "code",
   "execution_count": 13,
   "metadata": {
    "ExecuteTime": {
     "end_time": "2019-11-16T21:36:15.486797Z",
     "start_time": "2019-11-16T21:36:15.460157Z"
    }
   },
   "outputs": [],
   "source": [
    "# (df.contbr_zip == '11217')].index)\n",
    "df = df[df.contbr_zip !='11217']"
   ]
  },
  {
   "cell_type": "code",
   "execution_count": 14,
   "metadata": {
    "ExecuteTime": {
     "end_time": "2019-11-16T21:36:15.501871Z",
     "start_time": "2019-11-16T21:36:15.490274Z"
    }
   },
   "outputs": [
    {
     "data": {
      "text/plain": [
       "48"
      ]
     },
     "execution_count": 14,
     "metadata": {},
     "output_type": "execute_result"
    }
   ],
   "source": [
    "len(df.contbr_zip.unique())"
   ]
  },
  {
   "cell_type": "code",
   "execution_count": 15,
   "metadata": {
    "ExecuteTime": {
     "end_time": "2019-11-16T21:36:15.518956Z",
     "start_time": "2019-11-16T21:36:15.505358Z"
    }
   },
   "outputs": [
    {
     "name": "stdout",
     "output_type": "stream",
     "text": [
      "Min contribution: $ 0.01\n"
     ]
    }
   ],
   "source": [
    "# filter out negative values\n",
    "df = df.loc[df.contb_receipt_amt > 0]\n",
    "print('Min contribution: $', df.contb_receipt_amt.min())"
   ]
  },
  {
   "cell_type": "code",
   "execution_count": 16,
   "metadata": {
    "ExecuteTime": {
     "end_time": "2019-11-16T21:36:15.538603Z",
     "start_time": "2019-11-16T21:36:15.523597Z"
    }
   },
   "outputs": [
    {
     "name": "stdout",
     "output_type": "stream",
     "text": [
      "Max contribution: $ 2800.0\n"
     ]
    }
   ],
   "source": [
    "# filter out values over legal limit of $2800\n",
    "df = df.loc[df.contb_receipt_amt <= 2800]\n",
    "print('Max contribution: $', df.contb_receipt_amt.max())"
   ]
  },
  {
   "cell_type": "code",
   "execution_count": 17,
   "metadata": {
    "ExecuteTime": {
     "end_time": "2019-11-16T21:36:15.557113Z",
     "start_time": "2019-11-16T21:36:15.541682Z"
    }
   },
   "outputs": [
    {
     "data": {
      "text/plain": [
       "count    11624.000000\n",
       "mean       204.599122\n",
       "std        469.674814\n",
       "min          0.010000\n",
       "25%         25.000000\n",
       "50%         50.000000\n",
       "75%        100.000000\n",
       "max       2800.000000\n",
       "Name: contb_receipt_amt, dtype: float64"
      ]
     },
     "execution_count": 17,
     "metadata": {},
     "output_type": "execute_result"
    }
   ],
   "source": [
    "df.contb_receipt_amt.describe()"
   ]
  },
  {
   "cell_type": "code",
   "execution_count": 18,
   "metadata": {
    "ExecuteTime": {
     "end_time": "2019-11-16T21:36:16.749820Z",
     "start_time": "2019-11-16T21:36:15.560901Z"
    }
   },
   "outputs": [],
   "source": [
    "# convert receipt date to datetime format and then add second column called converted_date\n",
    "df.contb_receipt_dt = pd.to_datetime(df.contb_receipt_dt)"
   ]
  },
  {
   "cell_type": "code",
   "execution_count": 19,
   "metadata": {
    "ExecuteTime": {
     "end_time": "2019-11-16T21:36:16.766888Z",
     "start_time": "2019-11-16T21:36:16.753420Z"
    }
   },
   "outputs": [
    {
     "data": {
      "text/plain": [
       "count                   11624\n",
       "unique                    253\n",
       "top       2019-09-30 00:00:00\n",
       "freq                      435\n",
       "first     2018-12-31 00:00:00\n",
       "last      2019-09-30 00:00:00\n",
       "Name: contb_receipt_dt, dtype: object"
      ]
     },
     "execution_count": 19,
     "metadata": {},
     "output_type": "execute_result"
    }
   ],
   "source": [
    "df.contb_receipt_dt.describe()"
   ]
  },
  {
   "cell_type": "code",
   "execution_count": 20,
   "metadata": {
    "ExecuteTime": {
     "end_time": "2019-11-16T21:36:16.838618Z",
     "start_time": "2019-11-16T21:36:16.770968Z"
    }
   },
   "outputs": [],
   "source": [
    "df['converted_date'] = df.contb_receipt_dt.map(lambda x: 100*x.year + x.month)\n",
    "df['payment_yr'] = df.contb_receipt_dt.map(lambda x: x.year)"
   ]
  },
  {
   "cell_type": "code",
   "execution_count": 21,
   "metadata": {
    "ExecuteTime": {
     "end_time": "2019-11-16T21:36:16.849190Z",
     "start_time": "2019-11-16T21:36:16.841024Z"
    }
   },
   "outputs": [
    {
     "data": {
      "text/plain": [
       "Index(['cmte_id', 'cand_id', 'cand_nm', 'contbr_nm', 'contbr_city',\n",
       "       'contbr_st', 'contbr_zip', 'contbr_employer', 'contbr_occupation',\n",
       "       'contb_receipt_amt', 'contb_receipt_dt', 'receipt_desc', 'memo_cd',\n",
       "       'memo_text', 'form_tp', 'file_num', 'tran_id', 'election_tp',\n",
       "       'converted_date', 'payment_yr'],\n",
       "      dtype='object')"
      ]
     },
     "execution_count": 21,
     "metadata": {},
     "output_type": "execute_result"
    }
   ],
   "source": [
    "df.columns"
   ]
  },
  {
   "cell_type": "code",
   "execution_count": 22,
   "metadata": {
    "ExecuteTime": {
     "end_time": "2019-11-16T21:36:16.879218Z",
     "start_time": "2019-11-16T21:36:16.852366Z"
    }
   },
   "outputs": [
    {
     "data": {
      "text/html": [
       "<div>\n",
       "<style scoped>\n",
       "    .dataframe tbody tr th:only-of-type {\n",
       "        vertical-align: middle;\n",
       "    }\n",
       "\n",
       "    .dataframe tbody tr th {\n",
       "        vertical-align: top;\n",
       "    }\n",
       "\n",
       "    .dataframe thead th {\n",
       "        text-align: right;\n",
       "    }\n",
       "</style>\n",
       "<table border=\"1\" class=\"dataframe\">\n",
       "  <thead>\n",
       "    <tr style=\"text-align: right;\">\n",
       "      <th></th>\n",
       "      <th>cmte_id</th>\n",
       "      <th>cand_id</th>\n",
       "      <th>cand_nm</th>\n",
       "      <th>contbr_nm</th>\n",
       "      <th>contbr_city</th>\n",
       "      <th>contbr_st</th>\n",
       "      <th>contbr_zip</th>\n",
       "      <th>contbr_employer</th>\n",
       "      <th>contbr_occupation</th>\n",
       "      <th>contb_receipt_amt</th>\n",
       "      <th>contb_receipt_dt</th>\n",
       "      <th>receipt_desc</th>\n",
       "      <th>memo_cd</th>\n",
       "      <th>memo_text</th>\n",
       "      <th>form_tp</th>\n",
       "      <th>file_num</th>\n",
       "      <th>tran_id</th>\n",
       "      <th>election_tp</th>\n",
       "      <th>converted_date</th>\n",
       "      <th>payment_yr</th>\n",
       "    </tr>\n",
       "  </thead>\n",
       "  <tbody>\n",
       "    <tr>\n",
       "      <th>103</th>\n",
       "      <td>C00696948</td>\n",
       "      <td>P60007168</td>\n",
       "      <td>Sanders, Bernard</td>\n",
       "      <td>SUNKETT, BROOKS W</td>\n",
       "      <td>WASHINGTON</td>\n",
       "      <td>DC</td>\n",
       "      <td>20001</td>\n",
       "      <td>CWA</td>\n",
       "      <td>UNION REPRESENTATIVE</td>\n",
       "      <td>100.0</td>\n",
       "      <td>2019-06-07</td>\n",
       "      <td>NaN</td>\n",
       "      <td>NaN</td>\n",
       "      <td>* EARMARKED CONTRIBUTION: SEE BELOW</td>\n",
       "      <td>SA17A</td>\n",
       "      <td>1354564</td>\n",
       "      <td>11449936</td>\n",
       "      <td>P2020</td>\n",
       "      <td>201906</td>\n",
       "      <td>2019</td>\n",
       "    </tr>\n",
       "    <tr>\n",
       "      <th>104</th>\n",
       "      <td>C00696948</td>\n",
       "      <td>P60007168</td>\n",
       "      <td>Sanders, Bernard</td>\n",
       "      <td>SUNKETT, BROOKS W</td>\n",
       "      <td>WASHINGTON</td>\n",
       "      <td>DC</td>\n",
       "      <td>20001</td>\n",
       "      <td>CWA</td>\n",
       "      <td>UNION REPRESENTATIVE</td>\n",
       "      <td>3.0</td>\n",
       "      <td>2019-06-07</td>\n",
       "      <td>NaN</td>\n",
       "      <td>NaN</td>\n",
       "      <td>* EARMARKED CONTRIBUTION: SEE BELOW</td>\n",
       "      <td>SA17A</td>\n",
       "      <td>1354564</td>\n",
       "      <td>11450038</td>\n",
       "      <td>P2020</td>\n",
       "      <td>201906</td>\n",
       "      <td>2019</td>\n",
       "    </tr>\n",
       "    <tr>\n",
       "      <th>105</th>\n",
       "      <td>C00696948</td>\n",
       "      <td>P60007168</td>\n",
       "      <td>Sanders, Bernard</td>\n",
       "      <td>SUNKETT, BROOKS W</td>\n",
       "      <td>WASHINGTON</td>\n",
       "      <td>DC</td>\n",
       "      <td>20001</td>\n",
       "      <td>CWA</td>\n",
       "      <td>UNION REPRESENTATIVE</td>\n",
       "      <td>27.0</td>\n",
       "      <td>2019-06-27</td>\n",
       "      <td>NaN</td>\n",
       "      <td>NaN</td>\n",
       "      <td>* EARMARKED CONTRIBUTION: SEE BELOW</td>\n",
       "      <td>SA17A</td>\n",
       "      <td>1354564</td>\n",
       "      <td>11698884</td>\n",
       "      <td>P2020</td>\n",
       "      <td>201906</td>\n",
       "      <td>2019</td>\n",
       "    </tr>\n",
       "  </tbody>\n",
       "</table>\n",
       "</div>"
      ],
      "text/plain": [
       "       cmte_id    cand_id           cand_nm          contbr_nm contbr_city  \\\n",
       "103  C00696948  P60007168  Sanders, Bernard  SUNKETT, BROOKS W  WASHINGTON   \n",
       "104  C00696948  P60007168  Sanders, Bernard  SUNKETT, BROOKS W  WASHINGTON   \n",
       "105  C00696948  P60007168  Sanders, Bernard  SUNKETT, BROOKS W  WASHINGTON   \n",
       "\n",
       "    contbr_st contbr_zip contbr_employer     contbr_occupation  \\\n",
       "103        DC      20001             CWA  UNION REPRESENTATIVE   \n",
       "104        DC      20001             CWA  UNION REPRESENTATIVE   \n",
       "105        DC      20001             CWA  UNION REPRESENTATIVE   \n",
       "\n",
       "     contb_receipt_amt contb_receipt_dt receipt_desc memo_cd  \\\n",
       "103              100.0       2019-06-07          NaN     NaN   \n",
       "104                3.0       2019-06-07          NaN     NaN   \n",
       "105               27.0       2019-06-27          NaN     NaN   \n",
       "\n",
       "                               memo_text form_tp  file_num   tran_id  \\\n",
       "103  * EARMARKED CONTRIBUTION: SEE BELOW   SA17A   1354564  11449936   \n",
       "104  * EARMARKED CONTRIBUTION: SEE BELOW   SA17A   1354564  11450038   \n",
       "105  * EARMARKED CONTRIBUTION: SEE BELOW   SA17A   1354564  11698884   \n",
       "\n",
       "    election_tp  converted_date  payment_yr  \n",
       "103       P2020          201906        2019  \n",
       "104       P2020          201906        2019  \n",
       "105       P2020          201906        2019  "
      ]
     },
     "execution_count": 22,
     "metadata": {},
     "output_type": "execute_result"
    }
   ],
   "source": [
    "df.head(3)"
   ]
  },
  {
   "cell_type": "code",
   "execution_count": 23,
   "metadata": {
    "ExecuteTime": {
     "end_time": "2019-11-16T21:36:16.929718Z",
     "start_time": "2019-11-16T21:36:16.884553Z"
    }
   },
   "outputs": [
    {
     "data": {
      "text/html": [
       "<div>\n",
       "<style scoped>\n",
       "    .dataframe tbody tr th:only-of-type {\n",
       "        vertical-align: middle;\n",
       "    }\n",
       "\n",
       "    .dataframe tbody tr th {\n",
       "        vertical-align: top;\n",
       "    }\n",
       "\n",
       "    .dataframe thead th {\n",
       "        text-align: right;\n",
       "    }\n",
       "</style>\n",
       "<table border=\"1\" class=\"dataframe\">\n",
       "  <thead>\n",
       "    <tr style=\"text-align: right;\">\n",
       "      <th></th>\n",
       "      <th>cmte_id</th>\n",
       "      <th>cand_id</th>\n",
       "      <th>cand_nm</th>\n",
       "      <th>contbr_nm</th>\n",
       "      <th>contbr_city</th>\n",
       "      <th>contbr_st</th>\n",
       "      <th>contbr_zip</th>\n",
       "      <th>contbr_employer</th>\n",
       "      <th>contbr_occupation</th>\n",
       "      <th>contb_receipt_amt</th>\n",
       "      <th>contb_receipt_dt</th>\n",
       "      <th>receipt_desc</th>\n",
       "      <th>memo_cd</th>\n",
       "      <th>memo_text</th>\n",
       "      <th>form_tp</th>\n",
       "      <th>file_num</th>\n",
       "      <th>tran_id</th>\n",
       "      <th>election_tp</th>\n",
       "      <th>converted_date</th>\n",
       "      <th>payment_yr</th>\n",
       "    </tr>\n",
       "  </thead>\n",
       "  <tbody>\n",
       "    <tr>\n",
       "      <th>16813</th>\n",
       "      <td>C00693234</td>\n",
       "      <td>P00009621</td>\n",
       "      <td>Warren, Elizabeth</td>\n",
       "      <td>WOOD, JORDAN</td>\n",
       "      <td>WASHINGTON</td>\n",
       "      <td>DC</td>\n",
       "      <td>20001</td>\n",
       "      <td>END CITIZENS UNITED</td>\n",
       "      <td>POLITICAL DIRECTOR</td>\n",
       "      <td>10.0</td>\n",
       "      <td>2018-12-31</td>\n",
       "      <td>NaN</td>\n",
       "      <td>NaN</td>\n",
       "      <td>* EARMARKED CONTRIBUTION: SEE BELOW</td>\n",
       "      <td>SA17A</td>\n",
       "      <td>1343914</td>\n",
       "      <td>2552221</td>\n",
       "      <td>P2020</td>\n",
       "      <td>201812</td>\n",
       "      <td>2018</td>\n",
       "    </tr>\n",
       "    <tr>\n",
       "      <th>16691</th>\n",
       "      <td>C00693234</td>\n",
       "      <td>P00009621</td>\n",
       "      <td>Warren, Elizabeth</td>\n",
       "      <td>TANGLIS, MICHAEL JOSEPH</td>\n",
       "      <td>WASHINGTON</td>\n",
       "      <td>DC</td>\n",
       "      <td>20002</td>\n",
       "      <td>PUBLIC CITIZEN</td>\n",
       "      <td>SENIOR RESEARCHER</td>\n",
       "      <td>100.0</td>\n",
       "      <td>2018-12-31</td>\n",
       "      <td>NaN</td>\n",
       "      <td>NaN</td>\n",
       "      <td>* EARMARKED CONTRIBUTION: SEE BELOW</td>\n",
       "      <td>SA17A</td>\n",
       "      <td>1343914</td>\n",
       "      <td>2557367</td>\n",
       "      <td>P2020</td>\n",
       "      <td>201812</td>\n",
       "      <td>2018</td>\n",
       "    </tr>\n",
       "    <tr>\n",
       "      <th>13133</th>\n",
       "      <td>C00693234</td>\n",
       "      <td>P00009621</td>\n",
       "      <td>Warren, Elizabeth</td>\n",
       "      <td>BALDESSARI, MARTIN</td>\n",
       "      <td>WASHINGTON</td>\n",
       "      <td>DC</td>\n",
       "      <td>20010</td>\n",
       "      <td>NONE</td>\n",
       "      <td>NOT EMPLOYED</td>\n",
       "      <td>250.0</td>\n",
       "      <td>2018-12-31</td>\n",
       "      <td>NaN</td>\n",
       "      <td>NaN</td>\n",
       "      <td>* EARMARKED CONTRIBUTION: SEE BELOW</td>\n",
       "      <td>SA17A</td>\n",
       "      <td>1343914</td>\n",
       "      <td>2557502</td>\n",
       "      <td>P2020</td>\n",
       "      <td>201812</td>\n",
       "      <td>2018</td>\n",
       "    </tr>\n",
       "    <tr>\n",
       "      <th>16661</th>\n",
       "      <td>C00693234</td>\n",
       "      <td>P00009621</td>\n",
       "      <td>Warren, Elizabeth</td>\n",
       "      <td>SAUTTER, CHRIS</td>\n",
       "      <td>WASHINGTON</td>\n",
       "      <td>DC</td>\n",
       "      <td>20008</td>\n",
       "      <td>SELF EMPLOYED</td>\n",
       "      <td>LAWYER/CONSULTANT</td>\n",
       "      <td>100.0</td>\n",
       "      <td>2018-12-31</td>\n",
       "      <td>NaN</td>\n",
       "      <td>NaN</td>\n",
       "      <td>* EARMARKED CONTRIBUTION: SEE BELOW</td>\n",
       "      <td>SA17A</td>\n",
       "      <td>1343914</td>\n",
       "      <td>2557322</td>\n",
       "      <td>P2020</td>\n",
       "      <td>201812</td>\n",
       "      <td>2018</td>\n",
       "    </tr>\n",
       "    <tr>\n",
       "      <th>16697</th>\n",
       "      <td>C00693234</td>\n",
       "      <td>P00009621</td>\n",
       "      <td>Warren, Elizabeth</td>\n",
       "      <td>STERN, GENA</td>\n",
       "      <td>WASHINGTON</td>\n",
       "      <td>DC</td>\n",
       "      <td>20007</td>\n",
       "      <td>JPMORGAN CHASE</td>\n",
       "      <td>CHIEF OF STAFF, JPMCI</td>\n",
       "      <td>250.0</td>\n",
       "      <td>2018-12-31</td>\n",
       "      <td>NaN</td>\n",
       "      <td>NaN</td>\n",
       "      <td>* EARMARKED CONTRIBUTION: SEE BELOW</td>\n",
       "      <td>SA17A</td>\n",
       "      <td>1343914</td>\n",
       "      <td>2557479</td>\n",
       "      <td>P2020</td>\n",
       "      <td>201812</td>\n",
       "      <td>2018</td>\n",
       "    </tr>\n",
       "  </tbody>\n",
       "</table>\n",
       "</div>"
      ],
      "text/plain": [
       "         cmte_id    cand_id             cand_nm                contbr_nm  \\\n",
       "16813  C00693234  P00009621  Warren, Elizabeth              WOOD, JORDAN   \n",
       "16691  C00693234  P00009621  Warren, Elizabeth   TANGLIS, MICHAEL JOSEPH   \n",
       "13133  C00693234  P00009621  Warren, Elizabeth        BALDESSARI, MARTIN   \n",
       "16661  C00693234  P00009621  Warren, Elizabeth            SAUTTER, CHRIS   \n",
       "16697  C00693234  P00009621  Warren, Elizabeth               STERN, GENA   \n",
       "\n",
       "      contbr_city contbr_st contbr_zip      contbr_employer  \\\n",
       "16813  WASHINGTON        DC      20001  END CITIZENS UNITED   \n",
       "16691  WASHINGTON        DC      20002       PUBLIC CITIZEN   \n",
       "13133  WASHINGTON        DC      20010                 NONE   \n",
       "16661  WASHINGTON        DC      20008        SELF EMPLOYED   \n",
       "16697  WASHINGTON        DC      20007       JPMORGAN CHASE   \n",
       "\n",
       "           contbr_occupation  contb_receipt_amt contb_receipt_dt receipt_desc  \\\n",
       "16813     POLITICAL DIRECTOR               10.0       2018-12-31          NaN   \n",
       "16691      SENIOR RESEARCHER              100.0       2018-12-31          NaN   \n",
       "13133           NOT EMPLOYED              250.0       2018-12-31          NaN   \n",
       "16661      LAWYER/CONSULTANT              100.0       2018-12-31          NaN   \n",
       "16697  CHIEF OF STAFF, JPMCI              250.0       2018-12-31          NaN   \n",
       "\n",
       "      memo_cd                            memo_text form_tp  file_num  tran_id  \\\n",
       "16813     NaN  * EARMARKED CONTRIBUTION: SEE BELOW   SA17A   1343914  2552221   \n",
       "16691     NaN  * EARMARKED CONTRIBUTION: SEE BELOW   SA17A   1343914  2557367   \n",
       "13133     NaN  * EARMARKED CONTRIBUTION: SEE BELOW   SA17A   1343914  2557502   \n",
       "16661     NaN  * EARMARKED CONTRIBUTION: SEE BELOW   SA17A   1343914  2557322   \n",
       "16697     NaN  * EARMARKED CONTRIBUTION: SEE BELOW   SA17A   1343914  2557479   \n",
       "\n",
       "      election_tp  converted_date  payment_yr  \n",
       "16813       P2020          201812        2018  \n",
       "16691       P2020          201812        2018  \n",
       "13133       P2020          201812        2018  \n",
       "16661       P2020          201812        2018  \n",
       "16697       P2020          201812        2018  "
      ]
     },
     "execution_count": 23,
     "metadata": {},
     "output_type": "execute_result"
    }
   ],
   "source": [
    "df.sort_values(by=['payment_yr']).head()"
   ]
  },
  {
   "cell_type": "code",
   "execution_count": 24,
   "metadata": {
    "ExecuteTime": {
     "end_time": "2019-11-16T21:36:16.974774Z",
     "start_time": "2019-11-16T21:36:16.939285Z"
    }
   },
   "outputs": [
    {
     "data": {
      "text/html": [
       "<div>\n",
       "<style scoped>\n",
       "    .dataframe tbody tr th:only-of-type {\n",
       "        vertical-align: middle;\n",
       "    }\n",
       "\n",
       "    .dataframe tbody tr th {\n",
       "        vertical-align: top;\n",
       "    }\n",
       "\n",
       "    .dataframe thead th {\n",
       "        text-align: right;\n",
       "    }\n",
       "</style>\n",
       "<table border=\"1\" class=\"dataframe\">\n",
       "  <thead>\n",
       "    <tr style=\"text-align: right;\">\n",
       "      <th></th>\n",
       "      <th></th>\n",
       "      <th>contb_receipt_amt</th>\n",
       "    </tr>\n",
       "    <tr>\n",
       "      <th>cand_nm</th>\n",
       "      <th>payment_yr</th>\n",
       "      <th></th>\n",
       "    </tr>\n",
       "  </thead>\n",
       "  <tbody>\n",
       "    <tr>\n",
       "      <th>Biden, Joseph R Jr</th>\n",
       "      <th>2019</th>\n",
       "      <td>455.352748</td>\n",
       "    </tr>\n",
       "    <tr>\n",
       "      <th>Buttigieg, Pete</th>\n",
       "      <th>2019</th>\n",
       "      <td>317.258267</td>\n",
       "    </tr>\n",
       "    <tr>\n",
       "      <th>Sanders, Bernard</th>\n",
       "      <th>2019</th>\n",
       "      <td>60.139579</td>\n",
       "    </tr>\n",
       "    <tr>\n",
       "      <th rowspan=\"2\" valign=\"top\">Warren, Elizabeth</th>\n",
       "      <th>2018</th>\n",
       "      <td>358.500000</td>\n",
       "    </tr>\n",
       "    <tr>\n",
       "      <th>2019</th>\n",
       "      <td>101.565576</td>\n",
       "    </tr>\n",
       "  </tbody>\n",
       "</table>\n",
       "</div>"
      ],
      "text/plain": [
       "                               contb_receipt_amt\n",
       "cand_nm            payment_yr                   \n",
       "Biden, Joseph R Jr 2019               455.352748\n",
       "Buttigieg, Pete    2019               317.258267\n",
       "Sanders, Bernard   2019                60.139579\n",
       "Warren, Elizabeth  2018               358.500000\n",
       "                   2019               101.565576"
      ]
     },
     "execution_count": 24,
     "metadata": {},
     "output_type": "execute_result"
    }
   ],
   "source": [
    "df_grouped_yr = df.groupby(['cand_nm','payment_yr']).mean()\n",
    "df_grouped_yr[['contb_receipt_amt']]"
   ]
  },
  {
   "cell_type": "code",
   "execution_count": 25,
   "metadata": {
    "ExecuteTime": {
     "end_time": "2019-11-16T21:36:16.989265Z",
     "start_time": "2019-11-16T21:36:16.980084Z"
    }
   },
   "outputs": [
    {
     "data": {
      "text/plain": [
       "(11624, 20)"
      ]
     },
     "execution_count": 25,
     "metadata": {},
     "output_type": "execute_result"
    }
   ],
   "source": [
    "df.shape"
   ]
  },
  {
   "cell_type": "code",
   "execution_count": 26,
   "metadata": {
    "ExecuteTime": {
     "end_time": "2019-11-16T21:36:17.009194Z",
     "start_time": "2019-11-16T21:36:16.992414Z"
    }
   },
   "outputs": [
    {
     "data": {
      "text/plain": [
       "(11614, 20)"
      ]
     },
     "execution_count": 26,
     "metadata": {},
     "output_type": "execute_result"
    }
   ],
   "source": [
    "# filter out 2016, 2017, and 2018 \n",
    "df = df[df.payment_yr >= 2019]\n",
    "df.shape"
   ]
  },
  {
   "cell_type": "code",
   "execution_count": 27,
   "metadata": {
    "ExecuteTime": {
     "end_time": "2019-11-16T21:36:17.039003Z",
     "start_time": "2019-11-16T21:36:17.014187Z"
    }
   },
   "outputs": [
    {
     "data": {
      "text/plain": [
       "(11614, 4)"
      ]
     },
     "execution_count": 27,
     "metadata": {},
     "output_type": "execute_result"
    }
   ],
   "source": [
    "# tran_id is not a unique value \n",
    "df[df.duplicated(subset = 'tran_id', keep=False)]\n",
    "df = df.drop(['cand_id', \n",
    "              'file_num', \n",
    "              'contbr_nm',\n",
    "              'contb_receipt_dt',\n",
    "              'form_tp',\n",
    "              'election_tp',\n",
    "              'contbr_city', \n",
    "              'memo_cd', \n",
    "              'receipt_desc', \n",
    "              'contbr_st', \n",
    "              'memo_text',\n",
    "              'cmte_id', \n",
    "              'tran_id',\n",
    "              'contbr_employer',\n",
    "              'contbr_occupation',\n",
    "              'payment_yr'\n",
    "             ], \n",
    "        axis=1)\n",
    "df.shape"
   ]
  },
  {
   "cell_type": "code",
   "execution_count": 28,
   "metadata": {
    "ExecuteTime": {
     "end_time": "2019-11-16T21:36:17.504115Z",
     "start_time": "2019-11-16T21:36:17.042525Z"
    }
   },
   "outputs": [
    {
     "data": {
      "image/png": "[encoded data removed]",
      "text/plain": [
       "<Figure size 432x288 with 1 Axes>"
      ]
     },
     "metadata": {
      "needs_background": "light"
     },
     "output_type": "display_data"
    }
   ],
   "source": [
    "# graph average contribution by candidate \n",
    "plt.scatter(df.contb_receipt_amt, df.cand_nm)\n",
    "plt.title('2019 Individual Average Contribution')\n",
    "plt.xlabel('Dollars')\n",
    "plt.show()"
   ]
  },
  {
   "cell_type": "code",
   "execution_count": 29,
   "metadata": {
    "ExecuteTime": {
     "end_time": "2019-11-16T21:36:17.523993Z",
     "start_time": "2019-11-16T21:36:17.508502Z"
    }
   },
   "outputs": [
    {
     "data": {
      "text/plain": [
       "cand_nm\n",
       "Biden, Joseph R Jr    455.352748\n",
       "Buttigieg, Pete       317.258267\n",
       "Sanders, Bernard       60.139579\n",
       "Warren, Elizabeth     101.565576\n",
       "Name: contb_receipt_amt, dtype: float64"
      ]
     },
     "execution_count": 29,
     "metadata": {},
     "output_type": "execute_result"
    }
   ],
   "source": [
    "df_grouped_cand = df.groupby('cand_nm').mean()\n",
    "df_grouped_cand['contb_receipt_amt']"
   ]
  },
  {
   "cell_type": "code",
   "execution_count": 30,
   "metadata": {
    "ExecuteTime": {
     "end_time": "2019-11-16T21:36:17.539675Z",
     "start_time": "2019-11-16T21:36:17.527779Z"
    }
   },
   "outputs": [
    {
     "data": {
      "text/plain": [
       "Buttigieg, Pete       3750\n",
       "Warren, Elizabeth     3612\n",
       "Sanders, Bernard      2829\n",
       "Biden, Joseph R Jr    1423\n",
       "Name: cand_nm, dtype: int64"
      ]
     },
     "execution_count": 30,
     "metadata": {},
     "output_type": "execute_result"
    }
   ],
   "source": [
    "df.cand_nm.value_counts()"
   ]
  },
  {
   "cell_type": "code",
   "execution_count": 31,
   "metadata": {
    "ExecuteTime": {
     "end_time": "2019-11-16T21:36:17.583468Z",
     "start_time": "2019-11-16T21:36:17.542887Z"
    }
   },
   "outputs": [
    {
     "data": {
      "text/plain": [
       "cand_nm\n",
       "Biden, Joseph R Jr    201904\n",
       "Buttigieg, Pete       201901\n",
       "Sanders, Bernard      201902\n",
       "Warren, Elizabeth     201901\n",
       "Name: converted_date, dtype: int64"
      ]
     },
     "execution_count": 31,
     "metadata": {},
     "output_type": "execute_result"
    }
   ],
   "source": [
    "df.groupby('cand_nm').min()['converted_date']"
   ]
  },
  {
   "cell_type": "code",
   "execution_count": 32,
   "metadata": {
    "ExecuteTime": {
     "end_time": "2019-11-16T21:36:17.604260Z",
     "start_time": "2019-11-16T21:36:17.587427Z"
    }
   },
   "outputs": [
    {
     "data": {
      "text/plain": [
       "cand_nm             converted_date\n",
       "Biden, Joseph R Jr  201904            711.465022\n",
       "                    201905            447.095444\n",
       "                    201906            596.462398\n",
       "                    201907            197.217160\n",
       "                    201908            516.234118\n",
       "                    201909            249.941526\n",
       "Buttigieg, Pete     201901            321.428571\n",
       "                    201902            571.052632\n",
       "                    201903            481.066948\n",
       "                    201904            533.287420\n",
       "                    201905            683.124096\n",
       "                    201906            327.772475\n",
       "                    201907            160.074282\n",
       "                    201908             94.050600\n",
       "                    201909            148.499467\n",
       "Sanders, Bernard    201902            310.810536\n",
       "                    201903             66.041284\n",
       "                    201904             62.499773\n",
       "                    201905             56.709263\n",
       "                    201906             63.565260\n",
       "                    201907             47.492265\n",
       "                    201908             43.202591\n",
       "                    201909             58.779683\n",
       "Warren, Elizabeth   201901            108.421026\n",
       "                    201902             95.515091\n",
       "                    201903            183.746829\n",
       "                    201904            113.150116\n",
       "                    201905            124.400435\n",
       "                    201906            130.624192\n",
       "                    201907             77.648713\n",
       "                    201908             80.141734\n",
       "                    201909             98.636833\n",
       "Name: contb_receipt_amt, dtype: float64"
      ]
     },
     "execution_count": 32,
     "metadata": {},
     "output_type": "execute_result"
    }
   ],
   "source": [
    "# contribution amount by month for each candidate \n",
    "df.groupby(['cand_nm','converted_date']).mean()['contb_receipt_amt']"
   ]
  },
  {
   "cell_type": "code",
   "execution_count": 33,
   "metadata": {
    "ExecuteTime": {
     "end_time": "2019-11-16T21:36:17.623260Z",
     "start_time": "2019-11-16T21:36:17.607480Z"
    }
   },
   "outputs": [
    {
     "data": {
      "text/html": [
       "<div>\n",
       "<style scoped>\n",
       "    .dataframe tbody tr th:only-of-type {\n",
       "        vertical-align: middle;\n",
       "    }\n",
       "\n",
       "    .dataframe tbody tr th {\n",
       "        vertical-align: top;\n",
       "    }\n",
       "\n",
       "    .dataframe thead th {\n",
       "        text-align: right;\n",
       "    }\n",
       "</style>\n",
       "<table border=\"1\" class=\"dataframe\">\n",
       "  <thead>\n",
       "    <tr style=\"text-align: right;\">\n",
       "      <th></th>\n",
       "      <th>cand_nm</th>\n",
       "      <th>contbr_zip</th>\n",
       "      <th>contb_receipt_amt</th>\n",
       "      <th>converted_date</th>\n",
       "    </tr>\n",
       "  </thead>\n",
       "  <tbody>\n",
       "    <tr>\n",
       "      <th>103</th>\n",
       "      <td>Sanders, Bernard</td>\n",
       "      <td>20001</td>\n",
       "      <td>100.0</td>\n",
       "      <td>201906</td>\n",
       "    </tr>\n",
       "    <tr>\n",
       "      <th>104</th>\n",
       "      <td>Sanders, Bernard</td>\n",
       "      <td>20001</td>\n",
       "      <td>3.0</td>\n",
       "      <td>201906</td>\n",
       "    </tr>\n",
       "    <tr>\n",
       "      <th>105</th>\n",
       "      <td>Sanders, Bernard</td>\n",
       "      <td>20001</td>\n",
       "      <td>27.0</td>\n",
       "      <td>201906</td>\n",
       "    </tr>\n",
       "    <tr>\n",
       "      <th>134</th>\n",
       "      <td>Sanders, Bernard</td>\n",
       "      <td>20007</td>\n",
       "      <td>3.0</td>\n",
       "      <td>201903</td>\n",
       "    </tr>\n",
       "    <tr>\n",
       "      <th>135</th>\n",
       "      <td>Sanders, Bernard</td>\n",
       "      <td>20001</td>\n",
       "      <td>27.0</td>\n",
       "      <td>201906</td>\n",
       "    </tr>\n",
       "  </tbody>\n",
       "</table>\n",
       "</div>"
      ],
      "text/plain": [
       "              cand_nm contbr_zip  contb_receipt_amt  converted_date\n",
       "103  Sanders, Bernard      20001              100.0          201906\n",
       "104  Sanders, Bernard      20001                3.0          201906\n",
       "105  Sanders, Bernard      20001               27.0          201906\n",
       "134  Sanders, Bernard      20007                3.0          201903\n",
       "135  Sanders, Bernard      20001               27.0          201906"
      ]
     },
     "execution_count": 33,
     "metadata": {},
     "output_type": "execute_result"
    }
   ],
   "source": [
    "df.head()"
   ]
  },
  {
   "cell_type": "markdown",
   "metadata": {
    "ExecuteTime": {
     "end_time": "2019-11-16T19:25:55.737475Z",
     "start_time": "2019-11-16T19:25:55.733358Z"
    }
   },
   "source": [
    "## Join US Census data to FEC data"
   ]
  },
  {
   "cell_type": "code",
   "execution_count": 34,
   "metadata": {
    "ExecuteTime": {
     "end_time": "2019-11-16T21:36:17.636373Z",
     "start_time": "2019-11-16T21:36:17.626338Z"
    }
   },
   "outputs": [],
   "source": [
    "conn = sqlite3.connect('')\n",
    "cur = conn.cursor()"
   ]
  },
  {
   "cell_type": "code",
   "execution_count": 35,
   "metadata": {
    "ExecuteTime": {
     "end_time": "2019-11-16T21:36:17.813880Z",
     "start_time": "2019-11-16T21:36:17.640039Z"
    }
   },
   "outputs": [],
   "source": [
    "census_data = pd.read_csv('raw_data/census-bureau-acs.csv', \n",
    "                          header =0, \n",
    "                          index_col=0, \n",
    "                          usecols=['GEO.id', 'GEO.id2','HC02_EST_VC02'], \n",
    "                          skiprows=[1,2],na_values='-'\n",
    "                         )\n",
    "census_data.to_sql('INCOME', conn, if_exists = 'append')"
   ]
  },
  {
   "cell_type": "code",
   "execution_count": 36,
   "metadata": {
    "ExecuteTime": {
     "end_time": "2019-11-16T21:36:17.828606Z",
     "start_time": "2019-11-16T21:36:17.816423Z"
    }
   },
   "outputs": [],
   "source": [
    "df_census = pd.DataFrame(census_data)\n",
    "df_census = df_census.rename(columns={'GEO.id2': 'zip', 'HC02_EST_VC02': 'income'})"
   ]
  },
  {
   "cell_type": "code",
   "execution_count": 37,
   "metadata": {
    "ExecuteTime": {
     "end_time": "2019-11-16T21:36:17.858462Z",
     "start_time": "2019-11-16T21:36:17.835798Z"
    }
   },
   "outputs": [
    {
     "name": "stdout",
     "output_type": "stream",
     "text": [
      "Census data types: \n",
      " zip         int64\n",
      "income    float64\n",
      "dtype: object \n",
      "\n",
      "FEC data types: \n",
      " cand_nm               object\n",
      "contbr_zip            object\n",
      "contb_receipt_amt    float64\n",
      "converted_date         int64\n",
      "dtype: object\n"
     ]
    }
   ],
   "source": [
    "len(df_census.income.value_counts())\n",
    "print('Census data types:', '\\n',df_census.dtypes, '\\n')\n",
    "print('FEC data types:','\\n', df.dtypes)\n",
    "df.contbr_zip = df.contbr_zip.astype(int)"
   ]
  },
  {
   "cell_type": "code",
   "execution_count": 38,
   "metadata": {
    "ExecuteTime": {
     "end_time": "2019-11-16T21:36:17.878178Z",
     "start_time": "2019-11-16T21:36:17.862105Z"
    }
   },
   "outputs": [],
   "source": [
    "df_merged = df.merge(df_census, \n",
    "                     how='left', \n",
    "                     left_on='contbr_zip', \n",
    "                     right_on='zip', \n",
    "                     suffixes=('_left','_right')\n",
    "                    )"
   ]
  },
  {
   "cell_type": "code",
   "execution_count": 39,
   "metadata": {
    "ExecuteTime": {
     "end_time": "2019-11-16T21:36:17.903604Z",
     "start_time": "2019-11-16T21:36:17.882463Z"
    }
   },
   "outputs": [
    {
     "name": "stdout",
     "output_type": "stream",
     "text": [
      "cand_nm                0\n",
      "contbr_zip             0\n",
      "contb_receipt_amt      0\n",
      "converted_date         0\n",
      "zip                  105\n",
      "income               112\n",
      "dtype: int64\n",
      "cand_nm               object\n",
      "contbr_zip             int64\n",
      "contb_receipt_amt    float64\n",
      "converted_date         int64\n",
      "zip                  float64\n",
      "income               float64\n",
      "dtype: object\n"
     ]
    }
   ],
   "source": [
    "print(df_merged.isna().sum())\n",
    "print(df_merged.dtypes)\n",
    "pd.to_numeric(df_merged.income);"
   ]
  },
  {
   "cell_type": "code",
   "execution_count": 40,
   "metadata": {
    "ExecuteTime": {
     "end_time": "2019-11-16T21:36:17.934164Z",
     "start_time": "2019-11-16T21:36:17.906536Z"
    }
   },
   "outputs": [
    {
     "name": "stdout",
     "output_type": "stream",
     "text": [
      "(11614, 6)\n",
      "cand_nm                0\n",
      "contbr_zip             0\n",
      "contb_receipt_amt      0\n",
      "converted_date         0\n",
      "zip                  105\n",
      "income               112\n",
      "dtype: int64\n"
     ]
    },
    {
     "data": {
      "text/html": [
       "<div>\n",
       "<style scoped>\n",
       "    .dataframe tbody tr th:only-of-type {\n",
       "        vertical-align: middle;\n",
       "    }\n",
       "\n",
       "    .dataframe tbody tr th {\n",
       "        vertical-align: top;\n",
       "    }\n",
       "\n",
       "    .dataframe thead th {\n",
       "        text-align: right;\n",
       "    }\n",
       "</style>\n",
       "<table border=\"1\" class=\"dataframe\">\n",
       "  <thead>\n",
       "    <tr style=\"text-align: right;\">\n",
       "      <th></th>\n",
       "      <th>cand_nm</th>\n",
       "      <th>contbr_zip</th>\n",
       "      <th>contb_receipt_amt</th>\n",
       "      <th>converted_date</th>\n",
       "      <th>zip</th>\n",
       "      <th>income</th>\n",
       "    </tr>\n",
       "  </thead>\n",
       "  <tbody>\n",
       "    <tr>\n",
       "      <th>0</th>\n",
       "      <td>Sanders, Bernard</td>\n",
       "      <td>20001</td>\n",
       "      <td>100.0</td>\n",
       "      <td>201906</td>\n",
       "      <td>20001.0</td>\n",
       "      <td>85976.0</td>\n",
       "    </tr>\n",
       "    <tr>\n",
       "      <th>1</th>\n",
       "      <td>Sanders, Bernard</td>\n",
       "      <td>20001</td>\n",
       "      <td>3.0</td>\n",
       "      <td>201906</td>\n",
       "      <td>20001.0</td>\n",
       "      <td>85976.0</td>\n",
       "    </tr>\n",
       "    <tr>\n",
       "      <th>2</th>\n",
       "      <td>Sanders, Bernard</td>\n",
       "      <td>20001</td>\n",
       "      <td>27.0</td>\n",
       "      <td>201906</td>\n",
       "      <td>20001.0</td>\n",
       "      <td>85976.0</td>\n",
       "    </tr>\n",
       "    <tr>\n",
       "      <th>3</th>\n",
       "      <td>Sanders, Bernard</td>\n",
       "      <td>20007</td>\n",
       "      <td>3.0</td>\n",
       "      <td>201903</td>\n",
       "      <td>20007.0</td>\n",
       "      <td>119267.0</td>\n",
       "    </tr>\n",
       "    <tr>\n",
       "      <th>4</th>\n",
       "      <td>Sanders, Bernard</td>\n",
       "      <td>20001</td>\n",
       "      <td>27.0</td>\n",
       "      <td>201906</td>\n",
       "      <td>20001.0</td>\n",
       "      <td>85976.0</td>\n",
       "    </tr>\n",
       "  </tbody>\n",
       "</table>\n",
       "</div>"
      ],
      "text/plain": [
       "            cand_nm  contbr_zip  contb_receipt_amt  converted_date      zip  \\\n",
       "0  Sanders, Bernard       20001              100.0          201906  20001.0   \n",
       "1  Sanders, Bernard       20001                3.0          201906  20001.0   \n",
       "2  Sanders, Bernard       20001               27.0          201906  20001.0   \n",
       "3  Sanders, Bernard       20007                3.0          201903  20007.0   \n",
       "4  Sanders, Bernard       20001               27.0          201906  20001.0   \n",
       "\n",
       "     income  \n",
       "0   85976.0  \n",
       "1   85976.0  \n",
       "2   85976.0  \n",
       "3  119267.0  \n",
       "4   85976.0  "
      ]
     },
     "execution_count": 40,
     "metadata": {},
     "output_type": "execute_result"
    }
   ],
   "source": [
    "print(df_merged.shape)\n",
    "print(df_merged.isna().sum())\n",
    "df_merged.head()"
   ]
  },
  {
   "cell_type": "code",
   "execution_count": 41,
   "metadata": {
    "ExecuteTime": {
     "end_time": "2019-11-16T21:36:17.977312Z",
     "start_time": "2019-11-16T21:36:17.938369Z"
    }
   },
   "outputs": [
    {
     "name": "stdout",
     "output_type": "stream",
     "text": [
      "3\n",
      "2\n",
      "1\n",
      "99\n"
     ]
    }
   ],
   "source": [
    "# how many income values are each candidate missing? \n",
    "print(len(df_merged.loc[(df_merged.cand_nm == 'Warren, Elizabeth ') \n",
    "                        & (df_merged.zip.isna() == True)\n",
    "                       ]))\n",
    "print(len(df_merged.loc[(df_merged.cand_nm == 'Biden, Joseph R Jr') \n",
    "                        & (df_merged.zip.isna() == True)\n",
    "                       ]))\n",
    "print(len(df_merged.loc[(df_merged.cand_nm == 'Buttigieg, Pete') \n",
    "                        & (df_merged.zip.isna() == True)\n",
    "                       ]))\n",
    "print(len(df_merged.loc[(df_merged.cand_nm == 'Sanders, Bernard') \n",
    "                        & (df_merged.zip.isna() == True)\n",
    "                       ]))"
   ]
  },
  {
   "cell_type": "code",
   "execution_count": 42,
   "metadata": {
    "ExecuteTime": {
     "end_time": "2019-11-16T21:36:17.999813Z",
     "start_time": "2019-11-16T21:36:17.980205Z"
    }
   },
   "outputs": [
    {
     "data": {
      "text/plain": [
       "11502"
      ]
     },
     "execution_count": 42,
     "metadata": {},
     "output_type": "execute_result"
    }
   ],
   "source": [
    "nulls = df_merged.loc[df_merged.income.isna() == True].index\n",
    "len(nulls)\n",
    "# drop null income values, most of them went to Bernie Sanders \n",
    "df_merged = df_merged.drop(index=nulls)\n",
    "len(df_merged)"
   ]
  },
  {
   "cell_type": "code",
   "execution_count": 43,
   "metadata": {
    "ExecuteTime": {
     "end_time": "2019-11-16T21:36:18.021799Z",
     "start_time": "2019-11-16T21:36:18.005186Z"
    }
   },
   "outputs": [
    {
     "name": "stdout",
     "output_type": "stream",
     "text": [
      "(11502, 6)\n"
     ]
    },
    {
     "data": {
      "text/plain": [
       "Buttigieg, Pete       3746\n",
       "Warren, Elizabeth     3609\n",
       "Sanders, Bernard      2726\n",
       "Biden, Joseph R Jr    1421\n",
       "Name: cand_nm, dtype: int64"
      ]
     },
     "execution_count": 43,
     "metadata": {},
     "output_type": "execute_result"
    }
   ],
   "source": [
    "print(df_merged.shape)\n",
    "df_merged.cand_nm.value_counts()"
   ]
  },
  {
   "cell_type": "code",
   "execution_count": 44,
   "metadata": {
    "ExecuteTime": {
     "end_time": "2019-11-16T21:36:18.041850Z",
     "start_time": "2019-11-16T21:36:18.028576Z"
    }
   },
   "outputs": [],
   "source": [
    "df_merged.drop(columns=['zip'], inplace=True)"
   ]
  },
  {
   "cell_type": "code",
   "execution_count": 45,
   "metadata": {
    "ExecuteTime": {
     "end_time": "2019-11-16T21:36:18.074136Z",
     "start_time": "2019-11-16T21:36:18.045764Z"
    }
   },
   "outputs": [
    {
     "name": "stdout",
     "output_type": "stream",
     "text": [
      "(11502, 5)\n"
     ]
    },
    {
     "data": {
      "text/html": [
       "<div>\n",
       "<style scoped>\n",
       "    .dataframe tbody tr th:only-of-type {\n",
       "        vertical-align: middle;\n",
       "    }\n",
       "\n",
       "    .dataframe tbody tr th {\n",
       "        vertical-align: top;\n",
       "    }\n",
       "\n",
       "    .dataframe thead th {\n",
       "        text-align: right;\n",
       "    }\n",
       "</style>\n",
       "<table border=\"1\" class=\"dataframe\">\n",
       "  <thead>\n",
       "    <tr style=\"text-align: right;\">\n",
       "      <th></th>\n",
       "      <th>cand_nm</th>\n",
       "      <th>contbr_zip</th>\n",
       "      <th>contb_receipt_amt</th>\n",
       "      <th>converted_date</th>\n",
       "      <th>income</th>\n",
       "    </tr>\n",
       "  </thead>\n",
       "  <tbody>\n",
       "    <tr>\n",
       "      <th>0</th>\n",
       "      <td>Sanders, Bernard</td>\n",
       "      <td>20001</td>\n",
       "      <td>100.0</td>\n",
       "      <td>201906</td>\n",
       "      <td>85976.0</td>\n",
       "    </tr>\n",
       "    <tr>\n",
       "      <th>1</th>\n",
       "      <td>Sanders, Bernard</td>\n",
       "      <td>20001</td>\n",
       "      <td>3.0</td>\n",
       "      <td>201906</td>\n",
       "      <td>85976.0</td>\n",
       "    </tr>\n",
       "    <tr>\n",
       "      <th>2</th>\n",
       "      <td>Sanders, Bernard</td>\n",
       "      <td>20001</td>\n",
       "      <td>27.0</td>\n",
       "      <td>201906</td>\n",
       "      <td>85976.0</td>\n",
       "    </tr>\n",
       "    <tr>\n",
       "      <th>3</th>\n",
       "      <td>Sanders, Bernard</td>\n",
       "      <td>20007</td>\n",
       "      <td>3.0</td>\n",
       "      <td>201903</td>\n",
       "      <td>119267.0</td>\n",
       "    </tr>\n",
       "    <tr>\n",
       "      <th>4</th>\n",
       "      <td>Sanders, Bernard</td>\n",
       "      <td>20001</td>\n",
       "      <td>27.0</td>\n",
       "      <td>201906</td>\n",
       "      <td>85976.0</td>\n",
       "    </tr>\n",
       "  </tbody>\n",
       "</table>\n",
       "</div>"
      ],
      "text/plain": [
       "            cand_nm  contbr_zip  contb_receipt_amt  converted_date    income\n",
       "0  Sanders, Bernard       20001              100.0          201906   85976.0\n",
       "1  Sanders, Bernard       20001                3.0          201906   85976.0\n",
       "2  Sanders, Bernard       20001               27.0          201906   85976.0\n",
       "3  Sanders, Bernard       20007                3.0          201903  119267.0\n",
       "4  Sanders, Bernard       20001               27.0          201906   85976.0"
      ]
     },
     "execution_count": 45,
     "metadata": {},
     "output_type": "execute_result"
    }
   ],
   "source": [
    "print(df_merged.shape)\n",
    "df_merged.head()"
   ]
  },
  {
   "cell_type": "code",
   "execution_count": 46,
   "metadata": {
    "ExecuteTime": {
     "end_time": "2019-11-16T21:36:18.130003Z",
     "start_time": "2019-11-16T21:36:18.079290Z"
    }
   },
   "outputs": [
    {
     "data": {
      "text/html": [
       "<div>\n",
       "<style scoped>\n",
       "    .dataframe tbody tr th:only-of-type {\n",
       "        vertical-align: middle;\n",
       "    }\n",
       "\n",
       "    .dataframe tbody tr th {\n",
       "        vertical-align: top;\n",
       "    }\n",
       "\n",
       "    .dataframe thead th {\n",
       "        text-align: right;\n",
       "    }\n",
       "</style>\n",
       "<table border=\"1\" class=\"dataframe\">\n",
       "  <thead>\n",
       "    <tr style=\"text-align: right;\">\n",
       "      <th></th>\n",
       "      <th>cand_nm</th>\n",
       "      <th>contbr_zip</th>\n",
       "      <th>contb_receipt_amt</th>\n",
       "      <th>converted_date</th>\n",
       "      <th>income</th>\n",
       "      <th>target</th>\n",
       "    </tr>\n",
       "  </thead>\n",
       "  <tbody>\n",
       "    <tr>\n",
       "      <th>0</th>\n",
       "      <td>Sanders, Bernard</td>\n",
       "      <td>20001</td>\n",
       "      <td>100.0</td>\n",
       "      <td>201906</td>\n",
       "      <td>85976.0</td>\n",
       "      <td>2</td>\n",
       "    </tr>\n",
       "    <tr>\n",
       "      <th>1</th>\n",
       "      <td>Sanders, Bernard</td>\n",
       "      <td>20001</td>\n",
       "      <td>3.0</td>\n",
       "      <td>201906</td>\n",
       "      <td>85976.0</td>\n",
       "      <td>2</td>\n",
       "    </tr>\n",
       "    <tr>\n",
       "      <th>2</th>\n",
       "      <td>Sanders, Bernard</td>\n",
       "      <td>20001</td>\n",
       "      <td>27.0</td>\n",
       "      <td>201906</td>\n",
       "      <td>85976.0</td>\n",
       "      <td>2</td>\n",
       "    </tr>\n",
       "    <tr>\n",
       "      <th>3</th>\n",
       "      <td>Sanders, Bernard</td>\n",
       "      <td>20007</td>\n",
       "      <td>3.0</td>\n",
       "      <td>201903</td>\n",
       "      <td>119267.0</td>\n",
       "      <td>2</td>\n",
       "    </tr>\n",
       "    <tr>\n",
       "      <th>4</th>\n",
       "      <td>Sanders, Bernard</td>\n",
       "      <td>20001</td>\n",
       "      <td>27.0</td>\n",
       "      <td>201906</td>\n",
       "      <td>85976.0</td>\n",
       "      <td>2</td>\n",
       "    </tr>\n",
       "  </tbody>\n",
       "</table>\n",
       "</div>"
      ],
      "text/plain": [
       "            cand_nm  contbr_zip  contb_receipt_amt  converted_date    income  \\\n",
       "0  Sanders, Bernard       20001              100.0          201906   85976.0   \n",
       "1  Sanders, Bernard       20001                3.0          201906   85976.0   \n",
       "2  Sanders, Bernard       20001               27.0          201906   85976.0   \n",
       "3  Sanders, Bernard       20007                3.0          201903  119267.0   \n",
       "4  Sanders, Bernard       20001               27.0          201906   85976.0   \n",
       "\n",
       "   target  \n",
       "0       2  \n",
       "1       2  \n",
       "2       2  \n",
       "3       2  \n",
       "4       2  "
      ]
     },
     "execution_count": 46,
     "metadata": {},
     "output_type": "execute_result"
    }
   ],
   "source": [
    "le = LabelEncoder()\n",
    "df_merged['target'] = None\n",
    "df_merged.target = le.fit_transform(df_merged.cand_nm)\n",
    "df_merged.head()"
   ]
  },
  {
   "cell_type": "code",
   "execution_count": 47,
   "metadata": {
    "ExecuteTime": {
     "end_time": "2019-11-16T21:36:18.154404Z",
     "start_time": "2019-11-16T21:36:18.138137Z"
    }
   },
   "outputs": [
    {
     "data": {
      "text/plain": [
       "cand_nm               object\n",
       "contbr_zip             int64\n",
       "contb_receipt_amt    float64\n",
       "converted_date         int64\n",
       "income               float64\n",
       "target                 int64\n",
       "dtype: object"
      ]
     },
     "execution_count": 47,
     "metadata": {},
     "output_type": "execute_result"
    }
   ],
   "source": [
    "df_merged.dtypes\n"
   ]
  },
  {
   "cell_type": "code",
   "execution_count": 48,
   "metadata": {
    "ExecuteTime": {
     "end_time": "2019-11-16T21:36:18.340082Z",
     "start_time": "2019-11-16T21:36:18.162614Z"
    }
   },
   "outputs": [],
   "source": [
    "df_merged.to_csv('clean_data/2019-fec-contr-census.csv')"
   ]
  }
 ],
 "metadata": {
  "kernelspec": {
   "display_name": "Python 3",
   "language": "python",
   "name": "python3"
  },
  "language_info": {
   "codemirror_mode": {
    "name": "ipython",
    "version": 3
   },
   "file_extension": ".py",
   "mimetype": "text/x-python",
   "name": "python",
   "nbconvert_exporter": "python",
   "pygments_lexer": "ipython3",
   "version": "3.7.3"
  },
  "toc": {
   "base_numbering": 1,
   "nav_menu": {},
   "number_sections": true,
   "sideBar": true,
   "skip_h1_title": false,
   "title_cell": "Table of Contents",
   "title_sidebar": "Contents",
   "toc_cell": false,
   "toc_position": {},
   "toc_section_display": true,
   "toc_window_display": false
  }
 },
 "nbformat": 4,
 "nbformat_minor": 2
}
