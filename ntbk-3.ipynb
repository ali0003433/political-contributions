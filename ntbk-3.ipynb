{
 "cells": [
  {
   "cell_type": "code",
   "execution_count": 4,
   "metadata": {},
   "outputs": [],
   "source": [
    "import pandas as pd\n",
    "import numpy as np\n",
    "import matplotlib.pyplot as plt\n",
    "import csv\n",
    "from sklearn.preprocessing import LabelEncoder, StandardScaler\n",
    "from sklearn.model_selection import train_test_split\n",
    "from sklearn.linear_model import LogisticRegression\n",
    "from sklearn.metrics import confusion_matrix, roc_curve, precision_score, accuracy_score\n",
    "%matplotlib inline"
   ]
  },
  {
   "cell_type": "code",
   "execution_count": 5,
   "metadata": {},
   "outputs": [
    {
     "data": {
      "text/html": [
       "<div>\n",
       "<style scoped>\n",
       "    .dataframe tbody tr th:only-of-type {\n",
       "        vertical-align: middle;\n",
       "    }\n",
       "\n",
       "    .dataframe tbody tr th {\n",
       "        vertical-align: top;\n",
       "    }\n",
       "\n",
       "    .dataframe thead th {\n",
       "        text-align: right;\n",
       "    }\n",
       "</style>\n",
       "<table border=\"1\" class=\"dataframe\">\n",
       "  <thead>\n",
       "    <tr style=\"text-align: right;\">\n",
       "      <th></th>\n",
       "      <th>cand_nm</th>\n",
       "      <th>contbr_zip</th>\n",
       "      <th>contbr_occupation</th>\n",
       "      <th>contb_receipt_amt</th>\n",
       "      <th>occ_cat</th>\n",
       "      <th>converted_date</th>\n",
       "      <th>zip</th>\n",
       "      <th>income</th>\n",
       "    </tr>\n",
       "  </thead>\n",
       "  <tbody>\n",
       "    <tr>\n",
       "      <th>0</th>\n",
       "      <td>Sanders, Bernard</td>\n",
       "      <td>20001</td>\n",
       "      <td>UNION REPRESENTATIVE</td>\n",
       "      <td>100.0</td>\n",
       "      <td>union representative</td>\n",
       "      <td>201906</td>\n",
       "      <td>20001.0</td>\n",
       "      <td>85976.0</td>\n",
       "    </tr>\n",
       "    <tr>\n",
       "      <th>1</th>\n",
       "      <td>Sanders, Bernard</td>\n",
       "      <td>20001</td>\n",
       "      <td>UNION REPRESENTATIVE</td>\n",
       "      <td>3.0</td>\n",
       "      <td>union representative</td>\n",
       "      <td>201906</td>\n",
       "      <td>20001.0</td>\n",
       "      <td>85976.0</td>\n",
       "    </tr>\n",
       "    <tr>\n",
       "      <th>2</th>\n",
       "      <td>Sanders, Bernard</td>\n",
       "      <td>20001</td>\n",
       "      <td>UNION REPRESENTATIVE</td>\n",
       "      <td>27.0</td>\n",
       "      <td>union representative</td>\n",
       "      <td>201906</td>\n",
       "      <td>20001.0</td>\n",
       "      <td>85976.0</td>\n",
       "    </tr>\n",
       "    <tr>\n",
       "      <th>3</th>\n",
       "      <td>Sanders, Bernard</td>\n",
       "      <td>20007</td>\n",
       "      <td>IT</td>\n",
       "      <td>3.0</td>\n",
       "      <td>it</td>\n",
       "      <td>201903</td>\n",
       "      <td>20007.0</td>\n",
       "      <td>119267.0</td>\n",
       "    </tr>\n",
       "    <tr>\n",
       "      <th>4</th>\n",
       "      <td>Sanders, Bernard</td>\n",
       "      <td>20001</td>\n",
       "      <td>SOFTWARE DEVELOPER</td>\n",
       "      <td>27.0</td>\n",
       "      <td>it</td>\n",
       "      <td>201906</td>\n",
       "      <td>20001.0</td>\n",
       "      <td>85976.0</td>\n",
       "    </tr>\n",
       "  </tbody>\n",
       "</table>\n",
       "</div>"
      ],
      "text/plain": [
       "            cand_nm  contbr_zip     contbr_occupation  contb_receipt_amt  \\\n",
       "0  Sanders, Bernard       20001  UNION REPRESENTATIVE              100.0   \n",
       "1  Sanders, Bernard       20001  UNION REPRESENTATIVE                3.0   \n",
       "2  Sanders, Bernard       20001  UNION REPRESENTATIVE               27.0   \n",
       "3  Sanders, Bernard       20007                    IT                3.0   \n",
       "4  Sanders, Bernard       20001    SOFTWARE DEVELOPER               27.0   \n",
       "\n",
       "                occ_cat  converted_date      zip    income  \n",
       "0  union representative          201906  20001.0   85976.0  \n",
       "1  union representative          201906  20001.0   85976.0  \n",
       "2  union representative          201906  20001.0   85976.0  \n",
       "3                    it          201903  20007.0  119267.0  \n",
       "4                    it          201906  20001.0   85976.0  "
      ]
     },
     "execution_count": 5,
     "metadata": {},
     "output_type": "execute_result"
    }
   ],
   "source": [
    "df = pd.read_csv('final_data/contr-income.csv', index_col=0)\n",
    "df.head()"
   ]
  },
  {
   "cell_type": "code",
   "execution_count": 6,
   "metadata": {},
   "outputs": [
    {
     "data": {
      "text/plain": [
       "cand_nm\n",
       "Biden, Joseph R Jr    455.965489\n",
       "Buttigieg, Pete       316.766818\n",
       "Sanders, Bernard       59.188698\n",
       "Warren, Elizabeth     101.616753\n",
       "Name: contb_receipt_amt, dtype: float64"
      ]
     },
     "execution_count": 6,
     "metadata": {},
     "output_type": "execute_result"
    }
   ],
   "source": [
    "# mean contribution amount by candidate\n",
    "df.groupby('cand_nm').mean()['contb_receipt_amt']"
   ]
  },
  {
   "cell_type": "code",
   "execution_count": 7,
   "metadata": {},
   "outputs": [
    {
     "data": {
      "text/plain": [
       "cand_nm\n",
       "Biden, Joseph R Jr    103579.781844\n",
       "Buttigieg, Pete        96094.845969\n",
       "Sanders, Bernard       91437.470653\n",
       "Warren, Elizabeth      92991.747298\n",
       "Name: income, dtype: float64"
      ]
     },
     "execution_count": 7,
     "metadata": {},
     "output_type": "execute_result"
    }
   ],
   "source": [
    "# mode zip code \n",
    "df.groupby('cand_nm').mean()['income']"
   ]
  },
  {
   "cell_type": "code",
   "execution_count": 111,
   "metadata": {},
   "outputs": [
    {
     "data": {
      "text/plain": [
       "cand_nm\n",
       "Biden, Joseph R Jr        volunteer\n",
       "Buttigieg, Pete                wine\n",
       "Sanders, Bernard               yoga\n",
       "Warren, Elizabeth     writer/editor\n",
       "Name: occ_cat, dtype: object"
      ]
     },
     "execution_count": 111,
     "metadata": {},
     "output_type": "execute_result"
    }
   ],
   "source": [
    "df.groupby('cand_nm').max()['occ_cat']"
   ]
  },
  {
   "cell_type": "code",
   "execution_count": 9,
   "metadata": {},
   "outputs": [
    {
     "data": {
      "text/plain": [
       "cand_nm\n",
       "Biden, Joseph R Jr    201904\n",
       "Buttigieg, Pete       201901\n",
       "Sanders, Bernard      201902\n",
       "Warren, Elizabeth     201901\n",
       "Name: converted_date, dtype: int64"
      ]
     },
     "execution_count": 9,
     "metadata": {},
     "output_type": "execute_result"
    }
   ],
   "source": [
    "df.groupby('cand_nm').min()['converted_date']\n"
   ]
  },
  {
   "cell_type": "code",
   "execution_count": 10,
   "metadata": {},
   "outputs": [
    {
     "data": {
      "text/plain": [
       "cand_nm             converted_date\n",
       "Biden, Joseph R Jr  201904            711.465022\n",
       "                    201905            447.095444\n",
       "                    201906            596.462398\n",
       "                    201907            197.217160\n",
       "                    201908            516.234118\n",
       "                    201909            251.383166\n",
       "Buttigieg, Pete     201901            321.428571\n",
       "                    201902            571.052632\n",
       "                    201903            481.066948\n",
       "                    201904            533.287420\n",
       "                    201905            683.124096\n",
       "                    201906            325.153974\n",
       "                    201907            160.074282\n",
       "                    201908             94.050600\n",
       "                    201909            148.499467\n",
       "Sanders, Bernard    201902            307.370727\n",
       "                    201903             68.412271\n",
       "                    201904             65.967037\n",
       "                    201905             58.492265\n",
       "                    201906             58.583365\n",
       "                    201907             47.299302\n",
       "                    201908             42.932770\n",
       "                    201909             56.615775\n",
       "Warren, Elizabeth   201901            108.421026\n",
       "                    201902             95.515091\n",
       "                    201903            183.746829\n",
       "                    201904            113.150116\n",
       "                    201905            124.400435\n",
       "                    201906            130.624192\n",
       "                    201907             77.704489\n",
       "                    201908             80.201826\n",
       "                    201909             98.701840\n",
       "Name: contb_receipt_amt, dtype: float64"
      ]
     },
     "execution_count": 10,
     "metadata": {},
     "output_type": "execute_result"
    }
   ],
   "source": [
    "# contribution amount by month for each candidate \n",
    "df.groupby(['cand_nm','converted_date']).mean()['contb_receipt_amt']"
   ]
  },
  {
   "cell_type": "code",
   "execution_count": 11,
   "metadata": {},
   "outputs": [],
   "source": [
    "df['cand_num'] = df['cand_nm']"
   ]
  },
  {
   "cell_type": "code",
   "execution_count": 12,
   "metadata": {},
   "outputs": [
    {
     "data": {
      "text/plain": [
       "(11502, 9)"
      ]
     },
     "execution_count": 12,
     "metadata": {},
     "output_type": "execute_result"
    }
   ],
   "source": [
    "df.head()\n",
    "df.shape"
   ]
  },
  {
   "cell_type": "markdown",
   "metadata": {},
   "source": [
    "## Label encoding"
   ]
  },
  {
   "cell_type": "code",
   "execution_count": 13,
   "metadata": {},
   "outputs": [],
   "source": [
    "# encode the candidates as specific labels \n",
    "y = df.cand_nm\n",
    "le = LabelEncoder()\n",
    "le.fit(y)\n",
    "num_y = le.transform(y)\n",
    "df.cand_num = num_y"
   ]
  },
  {
   "cell_type": "code",
   "execution_count": 14,
   "metadata": {},
   "outputs": [
    {
     "name": "stdout",
     "output_type": "stream",
     "text": [
      "1    3746\n",
      "3    3609\n",
      "2    2726\n",
      "0    1421\n",
      "Name: cand_num, dtype: int64\n",
      "Buttigieg, Pete       3746\n",
      "Warren, Elizabeth     3609\n",
      "Sanders, Bernard      2726\n",
      "Biden, Joseph R Jr    1421\n",
      "Name: cand_nm, dtype: int64\n"
     ]
    }
   ],
   "source": [
    "print(df.cand_num.value_counts())\n",
    "print(df.cand_nm.value_counts())"
   ]
  },
  {
   "cell_type": "markdown",
   "metadata": {},
   "source": [
    "## Split dataset into train and test"
   ]
  },
  {
   "cell_type": "code",
   "execution_count": 98,
   "metadata": {},
   "outputs": [],
   "source": [
    "# X predictor variables \n",
    "x_feats = ['converted_date','income','occ_cat','contb_receipt_amt']\n",
    "X = pd.get_dummies(df[x_feats],drop_first=True, dtype=float)"
   ]
  },
  {
   "cell_type": "code",
   "execution_count": 99,
   "metadata": {},
   "outputs": [],
   "source": [
    "# target variable is candidate's numeric value \n",
    "y = df.cand_num"
   ]
  },
  {
   "cell_type": "code",
   "execution_count": 100,
   "metadata": {},
   "outputs": [],
   "source": [
    "X_train, X_test, y_train, y_test = train_test_split(X, y, random_state=0, stratify=y, test_size=.2)"
   ]
  },
  {
   "cell_type": "markdown",
   "metadata": {},
   "source": [
    "## Scale x values "
   ]
  },
  {
   "cell_type": "code",
   "execution_count": 101,
   "metadata": {},
   "outputs": [],
   "source": [
    "scaler = StandardScaler().fit(X_train)\n",
    "\n",
    "columns = X_train.columns \n",
    "\n",
    "scaled_train = scaler.transform(X_train)\n",
    "X_train_scaled = pd.DataFrame(scaled_train, columns = columns)"
   ]
  },
  {
   "cell_type": "markdown",
   "metadata": {},
   "source": [
    "## Call logistic regression function"
   ]
  },
  {
   "cell_type": "code",
   "execution_count": 102,
   "metadata": {},
   "outputs": [],
   "source": [
    "logreg = LogisticRegression(C=1e9, solver='newton-cg', max_iter=1000)\n",
    "multi = LogisticRegression(C=1e9, solver='newton-cg', multi_class='multinomial', max_iter=1000)"
   ]
  },
  {
   "cell_type": "code",
   "execution_count": 103,
   "metadata": {},
   "outputs": [
    {
     "name": "stderr",
     "output_type": "stream",
     "text": [
      "/Users/alyssaliguori/anaconda3/lib/python3.7/site-packages/sklearn/linear_model/logistic.py:469: FutureWarning: Default multi_class will be changed to 'auto' in 0.22. Specify the multi_class option to silence this warning.\n",
      "  \"this warning.\", FutureWarning)\n"
     ]
    }
   ],
   "source": [
    "model_log = logreg.fit(X_train_scaled,y_train)\n",
    "multi_model = multi.fit(X_train_scaled, y_train)"
   ]
  },
  {
   "cell_type": "code",
   "execution_count": 104,
   "metadata": {},
   "outputs": [
    {
     "name": "stdout",
     "output_type": "stream",
     "text": [
      "0.5098358874035431\n",
      "0.51450929246821\n"
     ]
    }
   ],
   "source": [
    "print(logreg.score(X_train_scaled, y_train))\n",
    "print(multi.score(X_train_scaled, y_train))"
   ]
  },
  {
   "cell_type": "code",
   "execution_count": 105,
   "metadata": {},
   "outputs": [],
   "source": [
    "y_hat_train = logreg.predict(X_train)"
   ]
  },
  {
   "cell_type": "code",
   "execution_count": 106,
   "metadata": {},
   "outputs": [
    {
     "name": "stdout",
     "output_type": "stream",
     "text": [
      "1    2996\n",
      "3    2887\n",
      "2    2181\n",
      "0    1137\n",
      "Name: cand_num, dtype: int64\n",
      "1    0.325617\n",
      "3    0.313770\n",
      "2    0.237039\n",
      "0    0.123574\n",
      "Name: cand_num, dtype: float64\n"
     ]
    }
   ],
   "source": [
    "residuals = np.abs(y_train - y_hat_train)\n",
    "print(pd.Series(residuals).value_counts())\n",
    "print(pd.Series(residuals).value_counts(normalize=True))"
   ]
  },
  {
   "cell_type": "code",
   "execution_count": 107,
   "metadata": {},
   "outputs": [
    {
     "data": {
      "text/plain": [
       "array([[1137,    0,    0,    0],\n",
       "       [2996,    0,    0,    0],\n",
       "       [2181,    0,    0,    0],\n",
       "       [2887,    0,    0,    0]])"
      ]
     },
     "execution_count": 107,
     "metadata": {},
     "output_type": "execute_result"
    }
   ],
   "source": [
    "# create confusion matrix \n",
    "cm = confusion_matrix(y_train, y_hat_train)\n",
    "cm"
   ]
  },
  {
   "cell_type": "code",
   "execution_count": 108,
   "metadata": {},
   "outputs": [
    {
     "name": "stdout",
     "output_type": "stream",
     "text": [
      "intercept: [-3.7689325  -1.54457256 -3.04204368 -2.06197147]\n",
      "coef: [[ 0.11720071  0.28782184  0.34705795 ... -0.49794072 -0.78959388\n",
      "  -0.49186117]\n",
      " [-0.10257106  0.03417873  0.30798379 ...  0.53314022 -0.30128909\n",
      "  -0.18717642]\n",
      " [-0.06656317 -0.05803454 -1.67994676 ... -0.18062846 -0.32823707\n",
      "   0.49479682]\n",
      " [ 0.00774707 -0.0991788  -0.70795719 ... -0.18433756  0.78773326\n",
      "  -0.18900606]]\n"
     ]
    }
   ],
   "source": [
    "print('intercept:', logreg.intercept_)\n",
    "print('coef:', logreg.coef_)"
   ]
  },
  {
   "cell_type": "code",
   "execution_count": 109,
   "metadata": {},
   "outputs": [
    {
     "name": "stdout",
     "output_type": "stream",
     "text": [
      "precision score: 0.03089338115422237\n"
     ]
    },
    {
     "name": "stderr",
     "output_type": "stream",
     "text": [
      "/Users/alyssaliguori/anaconda3/lib/python3.7/site-packages/sklearn/metrics/classification.py:1437: UndefinedMetricWarning: Precision is ill-defined and being set to 0.0 in labels with no predicted samples.\n",
      "  'precision', 'predicted', average, warn_for)\n"
     ]
    }
   ],
   "source": [
    "print('precision score:',precision_score(y_train, y_hat_train, average='macro'))"
   ]
  },
  {
   "cell_type": "code",
   "execution_count": 110,
   "metadata": {},
   "outputs": [
    {
     "name": "stdout",
     "output_type": "stream",
     "text": [
      "accuracy score: 0.12357352461688947\n"
     ]
    }
   ],
   "source": [
    "print('accuracy score:',accuracy_score(y_train, y_hat_train))"
   ]
  },
  {
   "cell_type": "code",
   "execution_count": null,
   "metadata": {},
   "outputs": [],
   "source": []
  },
  {
   "cell_type": "code",
   "execution_count": null,
   "metadata": {},
   "outputs": [],
   "source": []
  }
 ],
 "metadata": {
  "kernelspec": {
   "display_name": "Python 3",
   "language": "python",
   "name": "python3"
  },
  "language_info": {
   "codemirror_mode": {
    "name": "ipython",
    "version": 3
   },
   "file_extension": ".py",
   "mimetype": "text/x-python",
   "name": "python",
   "nbconvert_exporter": "python",
   "pygments_lexer": "ipython3",
   "version": "3.7.3"
  }
 },
 "nbformat": 4,
 "nbformat_minor": 2
}
