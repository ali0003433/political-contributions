{
 "cells": [
  {
   "cell_type": "markdown",
   "metadata": {},
   "source": [
    "# Technical Notebook 3 - Exploration"
   ]
  },
  {
   "cell_type": "code",
   "execution_count": 1,
   "metadata": {},
   "outputs": [],
   "source": [
    "import pandas as pd\n",
    "import numpy as np\n",
    "import matplotlib.pyplot as plt\n",
    "import csv\n",
    "from sklearn.preprocessing import LabelEncoder, StandardScaler\n",
    "from sklearn.model_selection import train_test_split, cross_val_score\n",
    "from sklearn.metrics import confusion_matrix, roc_curve, precision_score, accuracy_score\n",
    "import statsmodels.api as sm\n",
    "%matplotlib inline"
   ]
  },
  {
   "cell_type": "code",
   "execution_count": 2,
   "metadata": {},
   "outputs": [
    {
     "data": {
      "text/plain": [
       "(11502, 8)"
      ]
     },
     "execution_count": 2,
     "metadata": {},
     "output_type": "execute_result"
    }
   ],
   "source": [
    "# read in CSV saved after cleaning in technical notebook 2 \n",
    "df = pd.read_csv('final_data/contr-income.csv', \n",
    "                 index_col=0\n",
    "                )\n",
    "df.shape"
   ]
  },
  {
   "cell_type": "code",
   "execution_count": 3,
   "metadata": {},
   "outputs": [
    {
     "data": {
      "text/plain": [
       "cand_nm\n",
       "Biden, Joseph R Jr    455.965489\n",
       "Buttigieg, Pete       316.766818\n",
       "Sanders, Bernard       59.188698\n",
       "Warren, Elizabeth     101.616753\n",
       "Name: contb_receipt_amt, dtype: float64"
      ]
     },
     "execution_count": 3,
     "metadata": {},
     "output_type": "execute_result"
    }
   ],
   "source": [
    "# mean contribution amount by candidate\n",
    "df.groupby('cand_nm').mean()['contb_receipt_amt']"
   ]
  },
  {
   "cell_type": "code",
   "execution_count": 20,
   "metadata": {},
   "outputs": [
    {
     "data": {
      "text/plain": [
       "<matplotlib.collections.PathCollection at 0x1c212956d8>"
      ]
     },
     "execution_count": 20,
     "metadata": {},
     "output_type": "execute_result"
    },
    {
     "data": {
      "image/png": "[encoded data removed]",
      "text/plain": [
       "<Figure size 432x288 with 1 Axes>"
      ]
     },
     "metadata": {
      "needs_background": "light"
     },
     "output_type": "display_data"
    }
   ],
   "source": [
    "# mode zip code \n",
    "grouped = df.groupby('cand_nm').mean()['income']\n",
    "plt.scatter(df['contb_receipt_amt'], df['cand_nm'])"
   ]
  },
  {
   "cell_type": "code",
   "execution_count": 5,
   "metadata": {},
   "outputs": [
    {
     "data": {
      "text/plain": [
       "cand_nm\n",
       "Biden, Joseph R Jr    201904\n",
       "Buttigieg, Pete       201901\n",
       "Sanders, Bernard      201902\n",
       "Warren, Elizabeth     201901\n",
       "Name: converted_date, dtype: int64"
      ]
     },
     "execution_count": 5,
     "metadata": {},
     "output_type": "execute_result"
    }
   ],
   "source": [
    "df.groupby('cand_nm').min()['converted_date']"
   ]
  },
  {
   "cell_type": "code",
   "execution_count": 26,
   "metadata": {},
   "outputs": [
    {
     "data": {
      "text/plain": [
       "cand_nm             converted_date\n",
       "Biden, Joseph R Jr  201904            711.465022\n",
       "                    201905            447.095444\n",
       "                    201906            596.462398\n",
       "                    201907            197.217160\n",
       "                    201908            516.234118\n",
       "                    201909            251.383166\n",
       "Buttigieg, Pete     201901            321.428571\n",
       "                    201902            571.052632\n",
       "                    201903            481.066948\n",
       "                    201904            533.287420\n",
       "                    201905            683.124096\n",
       "                    201906            325.153974\n",
       "                    201907            160.074282\n",
       "                    201908             94.050600\n",
       "                    201909            148.499467\n",
       "Sanders, Bernard    201902            307.370727\n",
       "                    201903             68.412271\n",
       "                    201904             65.967037\n",
       "                    201905             58.492265\n",
       "                    201906             58.583365\n",
       "                    201907             47.299302\n",
       "                    201908             42.932770\n",
       "                    201909             56.615775\n",
       "Warren, Elizabeth   201901            108.421026\n",
       "                    201902             95.515091\n",
       "                    201903            183.746829\n",
       "                    201904            113.150116\n",
       "                    201905            124.400435\n",
       "                    201906            130.624192\n",
       "                    201907             77.704489\n",
       "                    201908             80.201826\n",
       "                    201909             98.701840\n",
       "Name: contb_receipt_amt, dtype: float64"
      ]
     },
     "execution_count": 26,
     "metadata": {},
     "output_type": "execute_result"
    }
   ],
   "source": [
    "# contribution amount by month for each candidate \n",
    "df.groupby(['cand_nm','converted_date']).mean()['contb_receipt_amt']"
   ]
  },
  {
   "cell_type": "code",
   "execution_count": 28,
   "metadata": {},
   "outputs": [
    {
     "data": {
      "text/html": [
       "<div>\n",
       "<style scoped>\n",
       "    .dataframe tbody tr th:only-of-type {\n",
       "        vertical-align: middle;\n",
       "    }\n",
       "\n",
       "    .dataframe tbody tr th {\n",
       "        vertical-align: top;\n",
       "    }\n",
       "\n",
       "    .dataframe thead th {\n",
       "        text-align: right;\n",
       "    }\n",
       "</style>\n",
       "<table border=\"1\" class=\"dataframe\">\n",
       "  <thead>\n",
       "    <tr style=\"text-align: right;\">\n",
       "      <th></th>\n",
       "      <th>cand_nm</th>\n",
       "      <th>contbr_zip</th>\n",
       "      <th>contbr_occupation</th>\n",
       "      <th>contb_receipt_amt</th>\n",
       "      <th>occ_cat</th>\n",
       "      <th>converted_date</th>\n",
       "      <th>zip</th>\n",
       "      <th>income</th>\n",
       "      <th>cand_num</th>\n",
       "    </tr>\n",
       "  </thead>\n",
       "  <tbody>\n",
       "    <tr>\n",
       "      <th>0</th>\n",
       "      <td>Sanders, Bernard</td>\n",
       "      <td>20001</td>\n",
       "      <td>UNION REPRESENTATIVE</td>\n",
       "      <td>100.0</td>\n",
       "      <td>other</td>\n",
       "      <td>201906</td>\n",
       "      <td>20001.0</td>\n",
       "      <td>85976.0</td>\n",
       "      <td>2</td>\n",
       "    </tr>\n",
       "    <tr>\n",
       "      <th>1</th>\n",
       "      <td>Sanders, Bernard</td>\n",
       "      <td>20001</td>\n",
       "      <td>UNION REPRESENTATIVE</td>\n",
       "      <td>3.0</td>\n",
       "      <td>other</td>\n",
       "      <td>201906</td>\n",
       "      <td>20001.0</td>\n",
       "      <td>85976.0</td>\n",
       "      <td>2</td>\n",
       "    </tr>\n",
       "    <tr>\n",
       "      <th>2</th>\n",
       "      <td>Sanders, Bernard</td>\n",
       "      <td>20001</td>\n",
       "      <td>UNION REPRESENTATIVE</td>\n",
       "      <td>27.0</td>\n",
       "      <td>other</td>\n",
       "      <td>201906</td>\n",
       "      <td>20001.0</td>\n",
       "      <td>85976.0</td>\n",
       "      <td>2</td>\n",
       "    </tr>\n",
       "    <tr>\n",
       "      <th>3</th>\n",
       "      <td>Sanders, Bernard</td>\n",
       "      <td>20007</td>\n",
       "      <td>IT</td>\n",
       "      <td>3.0</td>\n",
       "      <td>it</td>\n",
       "      <td>201903</td>\n",
       "      <td>20007.0</td>\n",
       "      <td>119267.0</td>\n",
       "      <td>2</td>\n",
       "    </tr>\n",
       "    <tr>\n",
       "      <th>4</th>\n",
       "      <td>Sanders, Bernard</td>\n",
       "      <td>20001</td>\n",
       "      <td>SOFTWARE DEVELOPER</td>\n",
       "      <td>27.0</td>\n",
       "      <td>it</td>\n",
       "      <td>201906</td>\n",
       "      <td>20001.0</td>\n",
       "      <td>85976.0</td>\n",
       "      <td>2</td>\n",
       "    </tr>\n",
       "  </tbody>\n",
       "</table>\n",
       "</div>"
      ],
      "text/plain": [
       "            cand_nm  contbr_zip     contbr_occupation  contb_receipt_amt  \\\n",
       "0  Sanders, Bernard       20001  UNION REPRESENTATIVE              100.0   \n",
       "1  Sanders, Bernard       20001  UNION REPRESENTATIVE                3.0   \n",
       "2  Sanders, Bernard       20001  UNION REPRESENTATIVE               27.0   \n",
       "3  Sanders, Bernard       20007                    IT                3.0   \n",
       "4  Sanders, Bernard       20001    SOFTWARE DEVELOPER               27.0   \n",
       "\n",
       "  occ_cat  converted_date      zip    income  cand_num  \n",
       "0   other          201906  20001.0   85976.0         2  \n",
       "1   other          201906  20001.0   85976.0         2  \n",
       "2   other          201906  20001.0   85976.0         2  \n",
       "3      it          201903  20007.0  119267.0         2  \n",
       "4      it          201906  20001.0   85976.0         2  "
      ]
     },
     "execution_count": 28,
     "metadata": {},
     "output_type": "execute_result"
    }
   ],
   "source": [
    "df.head()\n"
   ]
  },
  {
   "cell_type": "code",
   "execution_count": 29,
   "metadata": {},
   "outputs": [
    {
     "data": {
      "text/plain": [
       "(11502, 9)"
      ]
     },
     "execution_count": 29,
     "metadata": {},
     "output_type": "execute_result"
    }
   ],
   "source": [
    "df.shape"
   ]
  },
  {
   "cell_type": "code",
   "execution_count": null,
   "metadata": {},
   "outputs": [],
   "source": []
  }
 ],
 "metadata": {
  "kernelspec": {
   "display_name": "Python 3",
   "language": "python",
   "name": "python3"
  },
  "language_info": {
   "codemirror_mode": {
    "name": "ipython",
    "version": 3
   },
   "file_extension": ".py",
   "mimetype": "text/x-python",
   "name": "python",
   "nbconvert_exporter": "python",
   "pygments_lexer": "ipython3",
   "version": "3.7.3"
  }
 },
 "nbformat": 4,
 "nbformat_minor": 2
}
