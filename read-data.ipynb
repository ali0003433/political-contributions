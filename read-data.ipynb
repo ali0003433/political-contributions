{
 "cells": [
  {
   "cell_type": "code",
   "execution_count": 88,
   "metadata": {},
   "outputs": [
    {
     "name": "stdout",
     "output_type": "stream",
     "text": [
      "Number cand_id: 28\n",
      "Number cmte_id: 28\n",
      "Number cand_nm: 28\n",
      "df.shape: (19875, 18)\n"
     ]
    }
   ],
   "source": [
    "import pandas as pd\n",
    "import glob\n",
    "path = r'/Users/alyssaliguori/Desktop/pol-contr/data'\n",
    "all_csv = glob.glob(path + \"/*.csv\")\n",
    "list_csv = []\n",
    "\n",
    "for csv in all_csv:\n",
    "    df = pd.read_csv(csv, index_col=False)\n",
    "    list_csv.append(df)\n",
    "\n",
    "df = pd.concat(list_csv)\n",
    "print('Number cand_id:',len(df['cand_id'].unique()))\n",
    "print('Number cmte_id:', len(df['cmte_id'].unique()))\n",
    "print('Number cand_nm:', len(df['cand_nm'].unique()))\n",
    "print('df.shape:', df.shape)"
   ]
  },
  {
   "cell_type": "code",
   "execution_count": 103,
   "metadata": {},
   "outputs": [
    {
     "data": {
      "text/plain": [
       "array(['Trump, Donald J.', 'Delaney, John K.', 'Sanders, Bernard',\n",
       "       'Yang, Andrew', 'Harris, Kamala D.', 'Inslee, Jay R',\n",
       "       'Weld, William Floyd (Bill)', 'Hickenlooper, John W.',\n",
       "       'Booker, Cory A.', 'Moulton, Seth', 'Buttigieg, Pete',\n",
       "       'Gabbard, Tulsi', 'Warren, Elizabeth ', 'Klobuchar, Amy J.',\n",
       "       'Biden, Joseph R Jr', 'Williamson, Marianne ',\n",
       "       'Gillibrand, Kirsten ', 'Bennet, Michael F.',\n",
       "       'O’Rourke, Robert Beto', 'Bullock, Steve', 'Castro, Julián',\n",
       "       'Ryan, Timothy J.', 'de Blasio, Bill', 'Steyer, Tom',\n",
       "       'Gravel, Maurice Robert', 'Sestak, Joseph A. Jr.', 'Walsh, Joe',\n",
       "       'Swalwell, Eric Michael'], dtype=object)"
      ]
     },
     "execution_count": 103,
     "metadata": {},
     "output_type": "execute_result"
    }
   ],
   "source": [
    "df.cand_nm.unique()"
   ]
  },
  {
   "cell_type": "code",
   "execution_count": 101,
   "metadata": {},
   "outputs": [
    {
     "data": {
      "text/plain": [
       "NOT EMPLOYED                              3106\n",
       "ATTORNEY                                  2375\n",
       "RETIRED                                    903\n",
       "CONSULTANT                                 805\n",
       "LAWYER                                     506\n",
       "CONDUIT TOTAL LISTED IN AGG. FIELD         331\n",
       "PHYSICIAN                                  245\n",
       "TEACHER                                    228\n",
       "ANALYST                                    183\n",
       "INFORMATION REQUESTED                      174\n",
       "PROFESSOR                                  154\n",
       "MANAGER                                    148\n",
       "CEO                                        145\n",
       "EXECUTIVE                                  144\n",
       "ECONOMIST                                  142\n",
       "PROGRAM MANAGER                            131\n",
       "SOFTWARE ENGINEER                          122\n",
       "DIRECTOR                                   115\n",
       "REALTOR                                    111\n",
       "CHST                                       111\n",
       "EXECUTIVE DIRECTOR                         104\n",
       "ARCHITECT                                  101\n",
       "VICE PRESIDENT                              99\n",
       "PRESIDENT                                   95\n",
       "COMMUNICATIONS                              92\n",
       "WRITER                                      91\n",
       "REAL ESTATE                                 86\n",
       "RESEARCHER                                  82\n",
       "IT                                          82\n",
       "POLICY ANALYST                              78\n",
       "                                          ... \n",
       "TRADE ASSOCIATION PRESIDENT                  1\n",
       "NONPROFIT ASSOCIATE                          1\n",
       "HUMAN RESOURCES GENERALIST                   1\n",
       "SOFTWARE ENGINEERING                         1\n",
       "PRIVATE INVESTOR                             1\n",
       "HEALTHCARE POLICY CONSULTANT/LOBBYIST        1\n",
       "REGISTERED LOBBYIST                          1\n",
       "VP FOR GOVERNMENT RELATIONS & COMMUNIT       1\n",
       "WEALTH MANAGEMENT ADVISOR                    1\n",
       "CHIEF INVESTMENT OFFICER                     1\n",
       "BAR TENDER                                   1\n",
       "OFFICE OPERATIONS                            1\n",
       "RESTAURATEUR                                 1\n",
       "LAYWER                                       1\n",
       "LAWYER-LOBBYIST                              1\n",
       "PSYCHOMETRIST                                1\n",
       "LANDSCAPE DESIGNER                           1\n",
       "DIRECTOR, FEDERAL ADVOCACY AND POLICY        1\n",
       "SPEECH AND LANGUAGE PATHOLOGIST              1\n",
       "PATENT MANAGER                               1\n",
       "DATABASE ADMINISTRATOR                       1\n",
       "GOVERNMENT CONTRACTOR                        1\n",
       "KNOWLEDGE LAWYER                             1\n",
       "ASSOCIATE GENERAL COUNSEL                    1\n",
       "DIRECTOR GLOBAL CIVIC ENGAGEMENT             1\n",
       "NON PROFIT ADVOCACY                          1\n",
       "US HOUSE OF REPRESENTATIVES                  1\n",
       "TENNIS MARKETING                             1\n",
       "CONSULT                                      1\n",
       "IT ENGINEER                                  1\n",
       "Name: contbr_occupation, Length: 1404, dtype: int64"
      ]
     },
     "execution_count": 101,
     "metadata": {},
     "output_type": "execute_result"
    }
   ],
   "source": [
    "cand_nm = ['Trump, Donald J.', 'Warren, Elizabeth ', 'Buttigieg, Pete', 'Biden, Joseph R Jr','' ]\n",
    "df[cand_nm == '']\n",
    "df.isna().sum()\n",
    "\n",
    "\n",
    "df.contbr_occupation.value_counts()a"
   ]
  },
  {
   "cell_type": "code",
   "execution_count": 53,
   "metadata": {},
   "outputs": [
    {
     "data": {
      "text/plain": [
       "WASHINGTON         19816\n",
       "TOKYO                 16\n",
       "BOLLING AFB           14\n",
       "BEAR                   5\n",
       "ALPINE                 4\n",
       "NORTHRIDGE             3\n",
       "GEORGETOWN             3\n",
       "WEXFORD                3\n",
       "WASHINGT               1\n",
       "MOUNT PLEASANT         1\n",
       "VERO BEACH             1\n",
       "WASHINGTON D.C.        1\n",
       "DC                     1\n",
       "WASHINGTON DC          1\n",
       "HELSINKI               1\n",
       "GREENVILLE             1\n",
       "WOODLAWN               1\n",
       "CANBERRA               1\n",
       "Name: contbr_city, dtype: int64"
      ]
     },
     "execution_count": 53,
     "metadata": {},
     "output_type": "execute_result"
    }
   ],
   "source": [
    "df.contbr_city.value_counts()"
   ]
  },
  {
   "cell_type": "code",
   "execution_count": null,
   "metadata": {},
   "outputs": [],
   "source": []
  },
  {
   "cell_type": "code",
   "execution_count": null,
   "metadata": {},
   "outputs": [],
   "source": []
  },
  {
   "cell_type": "code",
   "execution_count": null,
   "metadata": {},
   "outputs": [],
   "source": []
  },
  {
   "cell_type": "code",
   "execution_count": null,
   "metadata": {},
   "outputs": [],
   "source": []
  }
 ],
 "metadata": {
  "kernelspec": {
   "display_name": "Python 3",
   "language": "python",
   "name": "python3"
  },
  "language_info": {
   "codemirror_mode": {
    "name": "ipython",
    "version": 3
   },
   "file_extension": ".py",
   "mimetype": "text/x-python",
   "name": "python",
   "nbconvert_exporter": "python",
   "pygments_lexer": "ipython3",
   "version": "3.7.3"
  }
 },
 "nbformat": 4,
 "nbformat_minor": 2
}
