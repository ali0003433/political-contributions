{
 "cells": [
  {
   "cell_type": "markdown",
   "metadata": {},
   "source": [
    "# SVM and Random Forest"
   ]
  },
  {
   "cell_type": "markdown",
   "metadata": {},
   "source": [
    "## Support Vector Machines (SVM) "
   ]
  },
  {
   "cell_type": "code",
   "execution_count": 1,
   "metadata": {
    "ExecuteTime": {
     "end_time": "2019-11-17T01:02:50.997147Z",
     "start_time": "2019-11-17T01:02:47.331830Z"
    }
   },
   "outputs": [],
   "source": [
    "import pandas as pd\n",
    "import numpy as np\n",
    "from sklearn.preprocessing import StandardScaler\n",
    "from sklearn.model_selection import train_test_split, GridSearchCV\n",
    "from sklearn.metrics import accuracy_score\n",
    "from sklearn.svm import SVC\n",
    "from sklearn.ensemble import RandomForestClassifier\n",
    "import xgboost as xgb\n",
    "%matplotlib inline"
   ]
  },
  {
   "cell_type": "code",
   "execution_count": 15,
   "metadata": {
    "ExecuteTime": {
     "end_time": "2019-11-17T00:07:49.552166Z",
     "start_time": "2019-11-17T00:07:49.513668Z"
    }
   },
   "outputs": [],
   "source": [
    "# read in data \n",
    "df = pd.read_csv('clean_data/2019-fec-contr-census.csv', index_col=0)"
   ]
  },
  {
   "cell_type": "code",
   "execution_count": 16,
   "metadata": {
    "ExecuteTime": {
     "end_time": "2019-11-17T00:07:49.884541Z",
     "start_time": "2019-11-17T00:07:49.880344Z"
    }
   },
   "outputs": [],
   "source": [
    "# set target column \n",
    "y = df.target"
   ]
  },
  {
   "cell_type": "code",
   "execution_count": 17,
   "metadata": {
    "ExecuteTime": {
     "end_time": "2019-11-17T00:07:50.473505Z",
     "start_time": "2019-11-17T00:07:50.435333Z"
    }
   },
   "outputs": [
    {
     "name": "stdout",
     "output_type": "stream",
     "text": [
      "(11502, 23)\n"
     ]
    }
   ],
   "source": [
    "# set predictor columns\n",
    "df.contbr_zip = df.contbr_zip.astype(str)\n",
    "X_feats = ['contbr_zip',\n",
    "           'converted_date',\n",
    "           'contb_receipt_amt']\n",
    "X = pd.get_dummies(df[X_feats],\n",
    "                   drop_first=True)\n",
    "print(X.shape)"
   ]
  },
  {
   "cell_type": "code",
   "execution_count": 18,
   "metadata": {
    "ExecuteTime": {
     "end_time": "2019-11-17T00:07:51.902238Z",
     "start_time": "2019-11-17T00:07:51.883081Z"
    }
   },
   "outputs": [],
   "source": [
    "# split data into train and test \n",
    "X_train, X_test, y_train, y_test = train_test_split(X, y, \n",
    "                                                    random_state=0, \n",
    "                                                    stratify=y, \n",
    "                                                    test_size=0.2\n",
    "                                                   )"
   ]
  },
  {
   "cell_type": "code",
   "execution_count": 19,
   "metadata": {
    "ExecuteTime": {
     "end_time": "2019-11-17T00:07:53.605812Z",
     "start_time": "2019-11-17T00:07:53.581876Z"
    }
   },
   "outputs": [
    {
     "data": {
      "text/plain": [
       "(9201, 23)"
      ]
     },
     "execution_count": 19,
     "metadata": {},
     "output_type": "execute_result"
    }
   ],
   "source": [
    "# scale train data \n",
    "scaler = StandardScaler()\n",
    "scaled_X_train = scaler.fit_transform(X_train)\n",
    "scaled_X_train.shape"
   ]
  },
  {
   "cell_type": "code",
   "execution_count": 21,
   "metadata": {
    "ExecuteTime": {
     "end_time": "2019-11-17T00:08:15.788492Z",
     "start_time": "2019-11-17T00:08:15.783562Z"
    }
   },
   "outputs": [],
   "source": [
    "svm = SVC(kernel='linear', \n",
    "          class_weight='balanced')"
   ]
  },
  {
   "cell_type": "code",
   "execution_count": 22,
   "metadata": {
    "ExecuteTime": {
     "end_time": "2019-11-17T00:08:30.825588Z",
     "start_time": "2019-11-17T00:08:17.605784Z"
    }
   },
   "outputs": [
    {
     "name": "stdout",
     "output_type": "stream",
     "text": [
      "SVM: 0.35876535159221823\n"
     ]
    }
   ],
   "source": [
    "# fit to scaled train data\n",
    "svm.fit(scaled_X_train, y_train)\n",
    "y_hat_train = svm.predict(scaled_X_train)\n",
    "score = accuracy_score(y_train, y_hat_train)\n",
    "\n",
    "# print train score\n",
    "print('SVM:', score)"
   ]
  },
  {
   "cell_type": "code",
   "execution_count": 24,
   "metadata": {
    "ExecuteTime": {
     "end_time": "2019-11-17T00:09:43.458619Z",
     "start_time": "2019-11-17T00:09:33.480820Z"
    }
   },
   "outputs": [
    {
     "name": "stdout",
     "output_type": "stream",
     "text": [
      "SVM: 0.3550630160799652\n"
     ]
    }
   ],
   "source": [
    "# run test data \n",
    "scaled_X_test = scaler.transform(X_test)\n",
    "svm.fit(scaled_X_train, y_train)\n",
    "y_hat_test = svm.predict(scaled_X_test)\n",
    "score = accuracy_score(y_test, y_hat_test)\n",
    "\n",
    "# print test score \n",
    "print('SVM:', score)"
   ]
  },
  {
   "cell_type": "code",
   "execution_count": 28,
   "metadata": {
    "ExecuteTime": {
     "end_time": "2019-11-17T00:26:58.726236Z",
     "start_time": "2019-11-17T00:26:46.210555Z"
    }
   },
   "outputs": [
    {
     "name": "stdout",
     "output_type": "stream",
     "text": [
      "SVM Train: 0.3845234213672427\n"
     ]
    }
   ],
   "source": [
    "# run svm with radial basis function \n",
    "svm = SVC(kernel='rbf', \n",
    "          class_weight='balanced')\n",
    "\n",
    "# fit to scaled train data\n",
    "svm.fit(scaled_X_train, y_train)\n",
    "y_hat_train = svm.predict(scaled_X_train)\n",
    "score = accuracy_score(y_train, y_hat_train)\n",
    "\n",
    "# print train score\n",
    "print('SVM Train:', score)"
   ]
  },
  {
   "cell_type": "code",
   "execution_count": 29,
   "metadata": {
    "ExecuteTime": {
     "end_time": "2019-11-17T00:27:08.255003Z",
     "start_time": "2019-11-17T00:26:58.729288Z"
    }
   },
   "outputs": [
    {
     "name": "stdout",
     "output_type": "stream",
     "text": [
      "SVM Test: 0.37244676227727075\n"
     ]
    }
   ],
   "source": [
    "# run test data \n",
    "scaled_X_test = scaler.transform(X_test)\n",
    "svm.fit(scaled_X_train, y_train)\n",
    "y_hat_test = svm.predict(scaled_X_test)\n",
    "score = accuracy_score(y_test, y_hat_test)\n",
    "\n",
    "# print test score \n",
    "print('SVM Test:', score)"
   ]
  },
  {
   "cell_type": "markdown",
   "metadata": {},
   "source": [
    "## Random Forest"
   ]
  },
  {
   "cell_type": "code",
   "execution_count": 30,
   "metadata": {
    "ExecuteTime": {
     "end_time": "2019-11-17T00:27:08.400191Z",
     "start_time": "2019-11-17T00:27:08.258874Z"
    }
   },
   "outputs": [
    {
     "name": "stdout",
     "output_type": "stream",
     "text": [
      "RF Train: 0.7002499728290403\n"
     ]
    },
    {
     "name": "stderr",
     "output_type": "stream",
     "text": [
      "/Users/alyssaliguori/anaconda3/lib/python3.7/site-packages/sklearn/ensemble/forest.py:245: FutureWarning: The default value of n_estimators will change from 10 in version 0.20 to 100 in 0.22.\n",
      "  \"10 in version 0.20 to 100 in 0.22.\", FutureWarning)\n"
     ]
    }
   ],
   "source": [
    "# run train data \n",
    "rf = RandomForestClassifier()\n",
    "rf.fit(scaled_X_train, y_train)\n",
    "y_hat_train = rf.predict(scaled_X_train)\n",
    "score = accuracy_score(y_train, y_hat_train)\n",
    "\n",
    "# print train score \n",
    "print('RF Train:', score)"
   ]
  },
  {
   "cell_type": "code",
   "execution_count": 31,
   "metadata": {
    "ExecuteTime": {
     "end_time": "2019-11-17T00:27:08.527783Z",
     "start_time": "2019-11-17T00:27:08.404266Z"
    }
   },
   "outputs": [
    {
     "name": "stdout",
     "output_type": "stream",
     "text": [
      "RF Test: 0.5241199478487614\n"
     ]
    }
   ],
   "source": [
    "scaled_X_test = scaler.transform(X_test)\n",
    "rf.fit(scaled_X_train, y_train)\n",
    "y_hat_test = rf.predict(scaled_X_test)\n",
    "score = accuracy_score(y_test, y_hat_test)\n",
    "\n",
    "# print test score \n",
    "print('RF Test:', score)"
   ]
  },
  {
   "cell_type": "code",
   "execution_count": null,
   "metadata": {},
   "outputs": [],
   "source": []
  }
 ],
 "metadata": {
  "kernelspec": {
   "display_name": "Python 3",
   "language": "python",
   "name": "python3"
  },
  "language_info": {
   "codemirror_mode": {
    "name": "ipython",
    "version": 3
   },
   "file_extension": ".py",
   "mimetype": "text/x-python",
   "name": "python",
   "nbconvert_exporter": "python",
   "pygments_lexer": "ipython3",
   "version": "3.7.3"
  },
  "toc": {
   "base_numbering": 1,
   "nav_menu": {},
   "number_sections": true,
   "sideBar": true,
   "skip_h1_title": false,
   "title_cell": "Table of Contents",
   "title_sidebar": "Contents",
   "toc_cell": false,
   "toc_position": {},
   "toc_section_display": true,
   "toc_window_display": false
  }
 },
 "nbformat": 4,
 "nbformat_minor": 2
}
