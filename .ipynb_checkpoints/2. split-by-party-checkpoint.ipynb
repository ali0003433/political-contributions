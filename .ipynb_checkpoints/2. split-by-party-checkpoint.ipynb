{
 "cells": [
  {
   "cell_type": "code",
   "execution_count": 8,
   "metadata": {},
   "outputs": [],
   "source": [
    "import pandas as pd\n",
    "import matplotlib.pyplot as plt\n",
    "import seaborn as sns\n",
    "import numpy as np\n",
    "import statsmodels.api as sm\n",
    "from sklearn.linear_model import LogisticRegression\n",
    "from sklearn.metrics import confusion_matrix, classification_report\n",
    "from sklearn.model_selection import cross_validate\n",
    "from sklearn.model_selection import StratifiedKFold\n",
    "from sklearn.linear_model import LinearRegression, Lasso, Ridge\n",
    "from sklearn.model_selection import train_test_split, GridSearchCV\n",
    "from sklearn.metrics import r2_score, mean_squared_error\n",
    "import statsmodels.api as sm\n",
    "from statsmodels.stats.outliers_influence import variance_inflation_factor\n",
    "from sklearn.preprocessing import StandardScaler, LabelEncoder\n",
    "from scipy import stats\n",
    "from yellowbrick.regressor import ResidualsPlot, PredictionError\n",
    "\n",
    "%matplotlib inline"
   ]
  },
  {
   "cell_type": "code",
   "execution_count": 9,
   "metadata": {},
   "outputs": [
    {
     "data": {
      "text/html": [
       "<div>\n",
       "<style scoped>\n",
       "    .dataframe tbody tr th:only-of-type {\n",
       "        vertical-align: middle;\n",
       "    }\n",
       "\n",
       "    .dataframe tbody tr th {\n",
       "        vertical-align: top;\n",
       "    }\n",
       "\n",
       "    .dataframe thead th {\n",
       "        text-align: right;\n",
       "    }\n",
       "</style>\n",
       "<table border=\"1\" class=\"dataframe\">\n",
       "  <thead>\n",
       "    <tr style=\"text-align: right;\">\n",
       "      <th></th>\n",
       "      <th>cand_nm</th>\n",
       "      <th>contbr_city</th>\n",
       "      <th>contbr_zip</th>\n",
       "      <th>contbr_employer</th>\n",
       "      <th>contbr_occupation</th>\n",
       "      <th>contb_receipt_amt</th>\n",
       "      <th>contb_receipt_dt</th>\n",
       "      <th>form_tp</th>\n",
       "      <th>tran_id</th>\n",
       "      <th>election_tp</th>\n",
       "    </tr>\n",
       "  </thead>\n",
       "  <tbody>\n",
       "    <tr>\n",
       "      <th>0</th>\n",
       "      <td>Trump, Donald J.</td>\n",
       "      <td>WASHINGTON</td>\n",
       "      <td>20008</td>\n",
       "      <td>NICHOLS DESIGN ASSOCIATES, INC.</td>\n",
       "      <td>ARCHITECT</td>\n",
       "      <td>250.0</td>\n",
       "      <td>2016-12-10</td>\n",
       "      <td>SA17A</td>\n",
       "      <td>SA17A.425120</td>\n",
       "      <td>G2016</td>\n",
       "    </tr>\n",
       "    <tr>\n",
       "      <th>23</th>\n",
       "      <td>Trump, Donald J.</td>\n",
       "      <td>WASHINGTON</td>\n",
       "      <td>20007</td>\n",
       "      <td>RETIRED</td>\n",
       "      <td>RETIRED</td>\n",
       "      <td>35.0</td>\n",
       "      <td>2018-01-03</td>\n",
       "      <td>SA17A</td>\n",
       "      <td>SA17A.1061963</td>\n",
       "      <td>P2020</td>\n",
       "    </tr>\n",
       "    <tr>\n",
       "      <th>26</th>\n",
       "      <td>Trump, Donald J.</td>\n",
       "      <td>WASHINGTON</td>\n",
       "      <td>20007</td>\n",
       "      <td>RETIRED</td>\n",
       "      <td>RETIRED</td>\n",
       "      <td>35.0</td>\n",
       "      <td>2018-04-03</td>\n",
       "      <td>SA17A</td>\n",
       "      <td>SA17A.1274477</td>\n",
       "      <td>P2020</td>\n",
       "    </tr>\n",
       "    <tr>\n",
       "      <th>29</th>\n",
       "      <td>Trump, Donald J.</td>\n",
       "      <td>WASHINGTON</td>\n",
       "      <td>20037</td>\n",
       "      <td>RETIRED</td>\n",
       "      <td>RETIRED</td>\n",
       "      <td>100.0</td>\n",
       "      <td>2017-12-30</td>\n",
       "      <td>SA17A</td>\n",
       "      <td>SA17A.1019056</td>\n",
       "      <td>P2020</td>\n",
       "    </tr>\n",
       "    <tr>\n",
       "      <th>41</th>\n",
       "      <td>Trump, Donald J.</td>\n",
       "      <td>WASHINGTON</td>\n",
       "      <td>20007</td>\n",
       "      <td>CADWALADER</td>\n",
       "      <td>ATTORNEY</td>\n",
       "      <td>-2700.0</td>\n",
       "      <td>2017-01-20</td>\n",
       "      <td>SA17A</td>\n",
       "      <td>SA17A.445455</td>\n",
       "      <td>G2016</td>\n",
       "    </tr>\n",
       "  </tbody>\n",
       "</table>\n",
       "</div>"
      ],
      "text/plain": [
       "             cand_nm contbr_city  contbr_zip                  contbr_employer  \\\n",
       "0   Trump, Donald J.  WASHINGTON       20008  NICHOLS DESIGN ASSOCIATES, INC.   \n",
       "23  Trump, Donald J.  WASHINGTON       20007                          RETIRED   \n",
       "26  Trump, Donald J.  WASHINGTON       20007                          RETIRED   \n",
       "29  Trump, Donald J.  WASHINGTON       20037                          RETIRED   \n",
       "41  Trump, Donald J.  WASHINGTON       20007                       CADWALADER   \n",
       "\n",
       "   contbr_occupation  contb_receipt_amt contb_receipt_dt form_tp  \\\n",
       "0          ARCHITECT              250.0       2016-12-10   SA17A   \n",
       "23           RETIRED               35.0       2018-01-03   SA17A   \n",
       "26           RETIRED               35.0       2018-04-03   SA17A   \n",
       "29           RETIRED              100.0       2017-12-30   SA17A   \n",
       "41          ATTORNEY            -2700.0       2017-01-20   SA17A   \n",
       "\n",
       "          tran_id election_tp  \n",
       "0    SA17A.425120       G2016  \n",
       "23  SA17A.1061963       P2020  \n",
       "26  SA17A.1274477       P2020  \n",
       "29  SA17A.1019056       P2020  \n",
       "41   SA17A.445455       G2016  "
      ]
     },
     "execution_count": 9,
     "metadata": {},
     "output_type": "execute_result"
    }
   ],
   "source": [
    "# read in csv exported from notebook 1\n",
    "df = pd.read_csv('SA17A-contr.csv', index_col=0)\n",
    "df.head()"
   ]
  },
  {
   "cell_type": "code",
   "execution_count": 10,
   "metadata": {},
   "outputs": [
    {
     "data": {
      "text/plain": [
       "cand_nm               object\n",
       "contbr_city           object\n",
       "contbr_zip             int64\n",
       "contbr_employer       object\n",
       "contbr_occupation     object\n",
       "contb_receipt_amt    float64\n",
       "contb_receipt_dt      object\n",
       "form_tp               object\n",
       "tran_id               object\n",
       "election_tp           object\n",
       "dtype: object"
      ]
     },
     "execution_count": 10,
     "metadata": {},
     "output_type": "execute_result"
    }
   ],
   "source": [
    "# check datatypes\n",
    "df.dtypes"
   ]
  },
  {
   "cell_type": "code",
   "execution_count": 11,
   "metadata": {},
   "outputs": [],
   "source": [
    "# convert zip to 5 num string\n",
    "df['contbr_zip'] = df.contbr_zip.astype('str')\n",
    "df.contbr_zip = df['contbr_zip'].apply(lambda x: x[0:5])"
   ]
  },
  {
   "cell_type": "code",
   "execution_count": 12,
   "metadata": {},
   "outputs": [
    {
     "data": {
      "text/plain": [
       "cand_nm                      object\n",
       "contbr_city                  object\n",
       "contbr_zip                   object\n",
       "contbr_employer              object\n",
       "contbr_occupation            object\n",
       "contb_receipt_amt           float64\n",
       "contb_receipt_dt     datetime64[ns]\n",
       "form_tp                      object\n",
       "tran_id                      object\n",
       "election_tp                  object\n",
       "dtype: object"
      ]
     },
     "execution_count": 12,
     "metadata": {},
     "output_type": "execute_result"
    }
   ],
   "source": [
    "# convert receipt date to datetime format\n",
    "df.contb_receipt_dt = pd.to_datetime(df.contb_receipt_dt)\n",
    "df.dtypes"
   ]
  },
  {
   "cell_type": "code",
   "execution_count": 13,
   "metadata": {},
   "outputs": [
    {
     "data": {
      "text/html": [
       "<div>\n",
       "<style scoped>\n",
       "    .dataframe tbody tr th:only-of-type {\n",
       "        vertical-align: middle;\n",
       "    }\n",
       "\n",
       "    .dataframe tbody tr th {\n",
       "        vertical-align: top;\n",
       "    }\n",
       "\n",
       "    .dataframe thead th {\n",
       "        text-align: right;\n",
       "    }\n",
       "</style>\n",
       "<table border=\"1\" class=\"dataframe\">\n",
       "  <thead>\n",
       "    <tr style=\"text-align: right;\">\n",
       "      <th></th>\n",
       "      <th>cand_nm</th>\n",
       "      <th>contbr_city</th>\n",
       "      <th>contbr_zip</th>\n",
       "      <th>contbr_employer</th>\n",
       "      <th>contbr_occupation</th>\n",
       "      <th>contb_receipt_amt</th>\n",
       "      <th>contb_receipt_dt</th>\n",
       "      <th>form_tp</th>\n",
       "      <th>tran_id</th>\n",
       "      <th>election_tp</th>\n",
       "    </tr>\n",
       "  </thead>\n",
       "  <tbody>\n",
       "    <tr>\n",
       "      <th>0</th>\n",
       "      <td>Trump, Donald J.</td>\n",
       "      <td>WASHINGTON</td>\n",
       "      <td>20008</td>\n",
       "      <td>NICHOLS DESIGN ASSOCIATES, INC.</td>\n",
       "      <td>ARCHITECT</td>\n",
       "      <td>250.0</td>\n",
       "      <td>2016-12-10</td>\n",
       "      <td>SA17A</td>\n",
       "      <td>SA17A.425120</td>\n",
       "      <td>G2016</td>\n",
       "    </tr>\n",
       "    <tr>\n",
       "      <th>23</th>\n",
       "      <td>Trump, Donald J.</td>\n",
       "      <td>WASHINGTON</td>\n",
       "      <td>20007</td>\n",
       "      <td>RETIRED</td>\n",
       "      <td>RETIRED</td>\n",
       "      <td>35.0</td>\n",
       "      <td>2018-01-03</td>\n",
       "      <td>SA17A</td>\n",
       "      <td>SA17A.1061963</td>\n",
       "      <td>P2020</td>\n",
       "    </tr>\n",
       "    <tr>\n",
       "      <th>26</th>\n",
       "      <td>Trump, Donald J.</td>\n",
       "      <td>WASHINGTON</td>\n",
       "      <td>20007</td>\n",
       "      <td>RETIRED</td>\n",
       "      <td>RETIRED</td>\n",
       "      <td>35.0</td>\n",
       "      <td>2018-04-03</td>\n",
       "      <td>SA17A</td>\n",
       "      <td>SA17A.1274477</td>\n",
       "      <td>P2020</td>\n",
       "    </tr>\n",
       "    <tr>\n",
       "      <th>29</th>\n",
       "      <td>Trump, Donald J.</td>\n",
       "      <td>WASHINGTON</td>\n",
       "      <td>20037</td>\n",
       "      <td>RETIRED</td>\n",
       "      <td>RETIRED</td>\n",
       "      <td>100.0</td>\n",
       "      <td>2017-12-30</td>\n",
       "      <td>SA17A</td>\n",
       "      <td>SA17A.1019056</td>\n",
       "      <td>P2020</td>\n",
       "    </tr>\n",
       "    <tr>\n",
       "      <th>42</th>\n",
       "      <td>Trump, Donald J.</td>\n",
       "      <td>WASHINGTON</td>\n",
       "      <td>20007</td>\n",
       "      <td>ICF</td>\n",
       "      <td>CONSULTANT</td>\n",
       "      <td>35.0</td>\n",
       "      <td>2018-06-19</td>\n",
       "      <td>SA17A</td>\n",
       "      <td>SA17A.1289423</td>\n",
       "      <td>P2020</td>\n",
       "    </tr>\n",
       "  </tbody>\n",
       "</table>\n",
       "</div>"
      ],
      "text/plain": [
       "             cand_nm contbr_city contbr_zip                  contbr_employer  \\\n",
       "0   Trump, Donald J.  WASHINGTON      20008  NICHOLS DESIGN ASSOCIATES, INC.   \n",
       "23  Trump, Donald J.  WASHINGTON      20007                          RETIRED   \n",
       "26  Trump, Donald J.  WASHINGTON      20007                          RETIRED   \n",
       "29  Trump, Donald J.  WASHINGTON      20037                          RETIRED   \n",
       "42  Trump, Donald J.  WASHINGTON      20007                              ICF   \n",
       "\n",
       "   contbr_occupation  contb_receipt_amt contb_receipt_dt form_tp  \\\n",
       "0          ARCHITECT              250.0       2016-12-10   SA17A   \n",
       "23           RETIRED               35.0       2018-01-03   SA17A   \n",
       "26           RETIRED               35.0       2018-04-03   SA17A   \n",
       "29           RETIRED              100.0       2017-12-30   SA17A   \n",
       "42        CONSULTANT               35.0       2018-06-19   SA17A   \n",
       "\n",
       "          tran_id election_tp  \n",
       "0    SA17A.425120       G2016  \n",
       "23  SA17A.1061963       P2020  \n",
       "26  SA17A.1274477       P2020  \n",
       "29  SA17A.1019056       P2020  \n",
       "42  SA17A.1289423       P2020  "
      ]
     },
     "execution_count": 13,
     "metadata": {},
     "output_type": "execute_result"
    }
   ],
   "source": [
    "# filter out negative values\n",
    "df = df.loc[df.contb_receipt_amt > 0]\n",
    "df.head()"
   ]
  },
  {
   "cell_type": "code",
   "execution_count": 14,
   "metadata": {},
   "outputs": [],
   "source": [
    "# # standard scaling\n",
    "# outcome = 'cand_nm'\n",
    "# x_cols = ['contb_receipt_amt']\n",
    "# # for col in x_cols:\n",
    "# #       df[col] = (df[col] - df[col].mean())/df[col].std()\n",
    "# df.describe()\n",
    "# df.head()"
   ]
  },
  {
   "cell_type": "code",
   "execution_count": 15,
   "metadata": {},
   "outputs": [],
   "source": [
    "# create function to split data into republican (1) vs democrat (0)\n",
    "def trump(val):\n",
    "    if val == 'Trump, Donald J.':\n",
    "        val = 1\n",
    "    else:\n",
    "        val = 0\n",
    "    return val"
   ]
  },
  {
   "cell_type": "code",
   "execution_count": 16,
   "metadata": {
    "scrolled": true
   },
   "outputs": [],
   "source": [
    "# apply the trump function to make cand_val column binary\n",
    "df['cand_val'] = df.cand_nm.apply(lambda x: trump(x))"
   ]
  },
  {
   "cell_type": "code",
   "execution_count": 17,
   "metadata": {},
   "outputs": [],
   "source": [
    "# drop the max contb receipt amount from trump of $41K\n",
    "df = df.drop(df['contb_receipt_amt'].idxmax())"
   ]
  },
  {
   "cell_type": "code",
   "execution_count": 18,
   "metadata": {},
   "outputs": [
    {
     "data": {
      "text/html": [
       "<div>\n",
       "<style scoped>\n",
       "    .dataframe tbody tr th:only-of-type {\n",
       "        vertical-align: middle;\n",
       "    }\n",
       "\n",
       "    .dataframe tbody tr th {\n",
       "        vertical-align: top;\n",
       "    }\n",
       "\n",
       "    .dataframe thead th {\n",
       "        text-align: right;\n",
       "    }\n",
       "</style>\n",
       "<table border=\"1\" class=\"dataframe\">\n",
       "  <thead>\n",
       "    <tr style=\"text-align: right;\">\n",
       "      <th></th>\n",
       "      <th>contb_receipt_amt</th>\n",
       "      <th>cand_val</th>\n",
       "    </tr>\n",
       "  </thead>\n",
       "  <tbody>\n",
       "    <tr>\n",
       "      <th>count</th>\n",
       "      <td>11943.000000</td>\n",
       "      <td>11943.000000</td>\n",
       "    </tr>\n",
       "    <tr>\n",
       "      <th>mean</th>\n",
       "      <td>212.916791</td>\n",
       "      <td>0.024617</td>\n",
       "    </tr>\n",
       "    <tr>\n",
       "      <th>std</th>\n",
       "      <td>512.995820</td>\n",
       "      <td>0.154961</td>\n",
       "    </tr>\n",
       "    <tr>\n",
       "      <th>min</th>\n",
       "      <td>0.010000</td>\n",
       "      <td>0.000000</td>\n",
       "    </tr>\n",
       "    <tr>\n",
       "      <th>25%</th>\n",
       "      <td>25.000000</td>\n",
       "      <td>0.000000</td>\n",
       "    </tr>\n",
       "    <tr>\n",
       "      <th>50%</th>\n",
       "      <td>50.000000</td>\n",
       "      <td>0.000000</td>\n",
       "    </tr>\n",
       "    <tr>\n",
       "      <th>75%</th>\n",
       "      <td>100.000000</td>\n",
       "      <td>0.000000</td>\n",
       "    </tr>\n",
       "    <tr>\n",
       "      <th>max</th>\n",
       "      <td>5600.000000</td>\n",
       "      <td>1.000000</td>\n",
       "    </tr>\n",
       "  </tbody>\n",
       "</table>\n",
       "</div>"
      ],
      "text/plain": [
       "       contb_receipt_amt      cand_val\n",
       "count       11943.000000  11943.000000\n",
       "mean          212.916791      0.024617\n",
       "std           512.995820      0.154961\n",
       "min             0.010000      0.000000\n",
       "25%            25.000000      0.000000\n",
       "50%            50.000000      0.000000\n",
       "75%           100.000000      0.000000\n",
       "max          5600.000000      1.000000"
      ]
     },
     "execution_count": 18,
     "metadata": {},
     "output_type": "execute_result"
    }
   ],
   "source": [
    "# dropped biden's max value of 15K\n",
    "df = df.drop(df['contb_receipt_amt'].idxmax())\n",
    "df.describe()"
   ]
  },
  {
   "cell_type": "code",
   "execution_count": 19,
   "metadata": {},
   "outputs": [
    {
     "data": {
      "text/plain": [
       "0    11649\n",
       "1      294\n",
       "Name: cand_val, dtype: int64"
      ]
     },
     "execution_count": 19,
     "metadata": {},
     "output_type": "execute_result"
    }
   ],
   "source": [
    "# check republican vs democratic values\n",
    "df.cand_val.value_counts()"
   ]
  },
  {
   "cell_type": "code",
   "execution_count": 20,
   "metadata": {},
   "outputs": [
    {
     "data": {
      "image/png": "[encoded data removed]",
      "text/plain": [
       "<Figure size 432x288 with 1 Axes>"
      ]
     },
     "metadata": {
      "needs_background": "light"
     },
     "output_type": "display_data"
    }
   ],
   "source": [
    "plt.scatter(df.contb_receipt_amt, df.cand_nm)\n",
    "plt.show()"
   ]
  },
  {
   "cell_type": "markdown",
   "metadata": {},
   "source": [
    "# II. Modeling"
   ]
  },
  {
   "cell_type": "markdown",
   "metadata": {},
   "source": [
    "## Encoding Candidate Name Labels"
   ]
  },
  {
   "cell_type": "code",
   "execution_count": 21,
   "metadata": {},
   "outputs": [],
   "source": [
    "y = df['cand_nm']\n",
    "le = LabelEncoder()\n",
    "y_cand_nm = le.fit_transform(y)"
   ]
  },
  {
   "cell_type": "code",
   "execution_count": 22,
   "metadata": {},
   "outputs": [],
   "source": [
    "df['cand_label'] = y_cand_nm"
   ]
  },
  {
   "cell_type": "code",
   "execution_count": 23,
   "metadata": {},
   "outputs": [
    {
     "data": {
      "text/html": [
       "<div>\n",
       "<style scoped>\n",
       "    .dataframe tbody tr th:only-of-type {\n",
       "        vertical-align: middle;\n",
       "    }\n",
       "\n",
       "    .dataframe tbody tr th {\n",
       "        vertical-align: top;\n",
       "    }\n",
       "\n",
       "    .dataframe thead th {\n",
       "        text-align: right;\n",
       "    }\n",
       "</style>\n",
       "<table border=\"1\" class=\"dataframe\">\n",
       "  <thead>\n",
       "    <tr style=\"text-align: right;\">\n",
       "      <th></th>\n",
       "      <th>contb_receipt_amt</th>\n",
       "      <th>cand_val</th>\n",
       "      <th>cand_label</th>\n",
       "    </tr>\n",
       "    <tr>\n",
       "      <th>cand_nm</th>\n",
       "      <th></th>\n",
       "      <th></th>\n",
       "      <th></th>\n",
       "    </tr>\n",
       "  </thead>\n",
       "  <tbody>\n",
       "    <tr>\n",
       "      <th>Biden, Joseph R Jr</th>\n",
       "      <td>472.825024</td>\n",
       "      <td>0</td>\n",
       "      <td>0</td>\n",
       "    </tr>\n",
       "    <tr>\n",
       "      <th>Buttigieg, Pete</th>\n",
       "      <td>339.219554</td>\n",
       "      <td>0</td>\n",
       "      <td>1</td>\n",
       "    </tr>\n",
       "    <tr>\n",
       "      <th>Sanders, Bernard</th>\n",
       "      <td>60.139579</td>\n",
       "      <td>0</td>\n",
       "      <td>2</td>\n",
       "    </tr>\n",
       "    <tr>\n",
       "      <th>Trump, Donald J.</th>\n",
       "      <td>163.622585</td>\n",
       "      <td>1</td>\n",
       "      <td>3</td>\n",
       "    </tr>\n",
       "    <tr>\n",
       "      <th>Warren, Elizabeth</th>\n",
       "      <td>102.274948</td>\n",
       "      <td>0</td>\n",
       "      <td>4</td>\n",
       "    </tr>\n",
       "  </tbody>\n",
       "</table>\n",
       "</div>"
      ],
      "text/plain": [
       "                    contb_receipt_amt  cand_val  cand_label\n",
       "cand_nm                                                    \n",
       "Biden, Joseph R Jr         472.825024         0           0\n",
       "Buttigieg, Pete            339.219554         0           1\n",
       "Sanders, Bernard            60.139579         0           2\n",
       "Trump, Donald J.           163.622585         1           3\n",
       "Warren, Elizabeth          102.274948         0           4"
      ]
     },
     "execution_count": 23,
     "metadata": {},
     "output_type": "execute_result"
    }
   ],
   "source": [
    "df.groupby(['cand_nm']).mean()"
   ]
  },
  {
   "cell_type": "markdown",
   "metadata": {},
   "source": [
    "## Splitting The Training and Testing Datasets"
   ]
  },
  {
   "cell_type": "code",
   "execution_count": 24,
   "metadata": {},
   "outputs": [],
   "source": [
    "X = df.contb_receipt_amt.values.reshape(-1, 1)\n",
    "y = df.cand_label\n",
    "\n",
    "# We're going to split the train and test data and stratify by candidate name\n",
    "X_train, X_test, y_train, y_test = train_test_split(\n",
    "    X, y, random_state=2020, stratify=y, test_size=.2)\n"
   ]
  },
  {
   "cell_type": "markdown",
   "metadata": {},
   "source": [
    "## Checking for Linear Relationship & Multicollinearity\n",
    "\n",
    "Most values are categorical. As a test we're just looking at the candidate value(party) and the receipt amount. Pearson's R in this case is negative. \n",
    "\n",
    "No reason to look for VIF according to the result."
   ]
  },
  {
   "cell_type": "code",
   "execution_count": 25,
   "metadata": {},
   "outputs": [
    {
     "data": {
      "text/html": [
       "<div>\n",
       "<style scoped>\n",
       "    .dataframe tbody tr th:only-of-type {\n",
       "        vertical-align: middle;\n",
       "    }\n",
       "\n",
       "    .dataframe tbody tr th {\n",
       "        vertical-align: top;\n",
       "    }\n",
       "\n",
       "    .dataframe thead th {\n",
       "        text-align: right;\n",
       "    }\n",
       "</style>\n",
       "<table border=\"1\" class=\"dataframe\">\n",
       "  <thead>\n",
       "    <tr style=\"text-align: right;\">\n",
       "      <th></th>\n",
       "      <th>contb_receipt_amt</th>\n",
       "      <th>cand_val</th>\n",
       "      <th>cand_label</th>\n",
       "    </tr>\n",
       "  </thead>\n",
       "  <tbody>\n",
       "    <tr>\n",
       "      <th>contb_receipt_amt</th>\n",
       "      <td>1.000000</td>\n",
       "      <td>-0.015266</td>\n",
       "      <td>-0.233341</td>\n",
       "    </tr>\n",
       "    <tr>\n",
       "      <th>cand_val</th>\n",
       "      <td>-0.015266</td>\n",
       "      <td>1.000000</td>\n",
       "      <td>0.103096</td>\n",
       "    </tr>\n",
       "    <tr>\n",
       "      <th>cand_label</th>\n",
       "      <td>-0.233341</td>\n",
       "      <td>0.103096</td>\n",
       "      <td>1.000000</td>\n",
       "    </tr>\n",
       "  </tbody>\n",
       "</table>\n",
       "</div>"
      ],
      "text/plain": [
       "                   contb_receipt_amt  cand_val  cand_label\n",
       "contb_receipt_amt           1.000000 -0.015266   -0.233341\n",
       "cand_val                   -0.015266  1.000000    0.103096\n",
       "cand_label                 -0.233341  0.103096    1.000000"
      ]
     },
     "execution_count": 25,
     "metadata": {},
     "output_type": "execute_result"
    }
   ],
   "source": [
    "#most values are categorical, as a test we're just looking at the candidate value(party) and the receipt amount\n",
    "df.corr()"
   ]
  },
  {
   "cell_type": "markdown",
   "metadata": {},
   "source": [
    "## Standardizing Data"
   ]
  },
  {
   "cell_type": "code",
   "execution_count": 26,
   "metadata": {},
   "outputs": [],
   "source": [
    "scaler = StandardScaler()\n",
    "scaler.fit(X_train)\n",
    "\n",
    "X_train = scaler.transform(X_train)"
   ]
  },
  {
   "cell_type": "markdown",
   "metadata": {},
   "source": [
    "## Linear Regression for Candidate Names by Their Labels"
   ]
  },
  {
   "cell_type": "code",
   "execution_count": 27,
   "metadata": {},
   "outputs": [
    {
     "data": {
      "text/plain": [
       "LinearRegression(copy_X=True, fit_intercept=True, n_jobs=None, normalize=False)"
      ]
     },
     "execution_count": 27,
     "metadata": {},
     "output_type": "execute_result"
    }
   ],
   "source": [
    "#Simple linear regression\n",
    "\n",
    "reg = LinearRegression()\n",
    "reg.fit(X_train, y_train)"
   ]
  },
  {
   "cell_type": "code",
   "execution_count": 28,
   "metadata": {},
   "outputs": [
    {
     "name": "stdout",
     "output_type": "stream",
     "text": [
      "Regression Coefficient: [-0.33603662]\n"
     ]
    }
   ],
   "source": [
    "print(f\"Regression Coefficient: {reg.coef_}\")"
   ]
  },
  {
   "cell_type": "code",
   "execution_count": 29,
   "metadata": {},
   "outputs": [
    {
     "name": "stdout",
     "output_type": "stream",
     "text": [
      "Regression Intercept: 2.076407787314214\n"
     ]
    }
   ],
   "source": [
    "print(f\"Regression Intercept: {reg.intercept_}\")"
   ]
  },
  {
   "cell_type": "code",
   "execution_count": 30,
   "metadata": {},
   "outputs": [
    {
     "name": "stdout",
     "output_type": "stream",
     "text": [
      "Regression R^2: 0.055730503967310496\n"
     ]
    }
   ],
   "source": [
    "print(f\"Regression R^2: {reg.score(X_train, y_train)}\")\n"
   ]
  },
  {
   "cell_type": "code",
   "execution_count": 31,
   "metadata": {},
   "outputs": [
    {
     "data": {
      "image/png": "[encoded data removed]",
      "text/plain": [
       "<Figure size 720x360 with 1 Axes>"
      ]
     },
     "metadata": {
      "needs_background": "light"
     },
     "output_type": "display_data"
    }
   ],
   "source": [
    "predictions = reg.predict(X_train)\n",
    "\n",
    "\n",
    "plt.figure(figsize=(10, 5))\n",
    "plt.scatter( X_train, y_train, c='black')\n",
    "plt.plot( X_train, predictions, c='red', linewidth=1)\n",
    "plt.xlabel(\"$Amount\")\n",
    "plt.ylabel(\"Political Party\")\n",
    "plt.show()"
   ]
  },
  {
   "cell_type": "markdown",
   "metadata": {},
   "source": [
    "## Dropping Outliers"
   ]
  },
  {
   "cell_type": "code",
   "execution_count": 32,
   "metadata": {},
   "outputs": [],
   "source": [
    "#dropping outliers\n",
    "q = df.contb_receipt_amt.quantile(0.997)"
   ]
  },
  {
   "cell_type": "code",
   "execution_count": 33,
   "metadata": {},
   "outputs": [],
   "source": [
    "df_q = df.loc[df.contb_receipt_amt < q]"
   ]
  },
  {
   "cell_type": "code",
   "execution_count": 34,
   "metadata": {},
   "outputs": [],
   "source": [
    "Xq = df_q.contb_receipt_amt.values.reshape(-1, 1)\n",
    "yq = df_q.cand_label\n",
    "\n",
    "# We're going to split the train and test data and stratify by candidate name\n",
    "Xq_train, Xq_test, yq_train, yq_test = train_test_split(\n",
    "    Xq, yq, random_state=2020, stratify=yq, test_size=.2)\n",
    "\n",
    "scaler = StandardScaler()\n",
    "scaler.fit(Xq_train)\n",
    "\n",
    "Xq_train = scaler.transform(Xq_train)"
   ]
  },
  {
   "cell_type": "code",
   "execution_count": 35,
   "metadata": {},
   "outputs": [
    {
     "name": "stdout",
     "output_type": "stream",
     "text": [
      "Regression R^2: 0.04605881157434122\n"
     ]
    },
    {
     "data": {
      "image/png": "[encoded data removed]",
      "text/plain": [
       "<Figure size 720x360 with 1 Axes>"
      ]
     },
     "metadata": {
      "needs_background": "light"
     },
     "output_type": "display_data"
    }
   ],
   "source": [
    "reg = LinearRegression()\n",
    "reg.fit(Xq_train, yq_train)\n",
    "print(f\"Regression R^2: {reg.score(Xq_train, yq_train)}\")\n",
    "predictions = reg.predict(Xq_train)\n",
    "\n",
    "\n",
    "plt.figure(figsize=(10, 5))\n",
    "plt.scatter( Xq_train, yq_train, c='black')\n",
    "plt.plot( Xq_train, predictions, c='red', linewidth=1)\n",
    "plt.xlabel(\"$Amount\")\n",
    "plt.ylabel(\"Political Party\")\n",
    "plt.show()"
   ]
  },
  {
   "cell_type": "markdown",
   "metadata": {},
   "source": [
    "## Logistic Regression"
   ]
  },
  {
   "cell_type": "code",
   "execution_count": 51,
   "metadata": {},
   "outputs": [
    {
     "data": {
      "text/plain": [
       "LogisticRegression(C=1000000000.0, class_weight=None, dual=False,\n",
       "                   fit_intercept=True, intercept_scaling=1, l1_ratio=None,\n",
       "                   max_iter=100, multi_class='auto', n_jobs=None, penalty='l2',\n",
       "                   random_state=None, solver='lbfgs', tol=0.0001, verbose=0,\n",
       "                   warm_start=False)"
      ]
     },
     "execution_count": 51,
     "metadata": {},
     "output_type": "execute_result"
    }
   ],
   "source": [
    "# preliminary logistic regression\n",
    "lr = LogisticRegression(C=1e9, solver='lbfgs', multi_class='auto')\n",
    "lr.fit(X_train, y_train)"
   ]
  },
  {
   "cell_type": "code",
   "execution_count": 52,
   "metadata": {},
   "outputs": [
    {
     "data": {
      "text/plain": [
       "Text(0, 0.5, 'Candidate')"
      ]
     },
     "execution_count": 52,
     "metadata": {},
     "output_type": "execute_result"
    },
    {
     "data": {
      "image/png": "[encoded data removed]",
      "text/plain": [
       "<Figure size 864x720 with 1 Axes>"
      ]
     },
     "metadata": {
      "needs_background": "light"
     },
     "output_type": "display_data"
    }
   ],
   "source": [
    "plt.figure(figsize=(12,10))\n",
    "y_train_predict = lr.predict(X_train)\n",
    "plt.scatter(X_train, y_train)\n",
    "plt.plot(X_train, y_train_predict, color='red')\n",
    "plt.xlabel('$ Amount')\n",
    "plt.ylabel('Candidate')"
   ]
  },
  {
   "cell_type": "code",
   "execution_count": 53,
   "metadata": {},
   "outputs": [
    {
     "data": {
      "text/plain": [
       "0.3875863512664852"
      ]
     },
     "execution_count": 53,
     "metadata": {},
     "output_type": "execute_result"
    }
   ],
   "source": [
    "lr.score(X_train, y_train)"
   ]
  },
  {
   "cell_type": "code",
   "execution_count": 54,
   "metadata": {},
   "outputs": [],
   "source": [
    "# label encoder\n",
    "# one versus rest; one versus one (costly)\n",
    "# read in scikit learn\n",
    "# linear models are sensitive to outliers; default is not always dropping outliers\n",
    "# where is threshold?\n",
    "# don't include Delaware in DC-only data; they are noise; extreme values are noise\n",
    "# extreme values are illegal; can work only in legal values\n",
    "# standardized outlier test ( p. 97)\n",
    "# what do we do with the zip codes? Don't make it 50 different columns.\n",
    "# penalization (L1 and L2) requires penalization\n",
    "# when do you do scaling? scale it in the train and apply to the test\n",
    "# sparse data set; many zeros and few ones\n",
    "# go through everything very systematically and report everything"
   ]
  },
  {
   "cell_type": "code",
   "execution_count": 72,
   "metadata": {},
   "outputs": [
    {
     "data": {
      "text/plain": [
       "0"
      ]
     },
     "execution_count": 72,
     "metadata": {},
     "output_type": "execute_result"
    }
   ],
   "source": [
    "def convert_label(y_series): \n",
    "    for y in y_series:\n",
    "        if y == 3:\n",
    "            label = 1\n",
    "        else:\n",
    "            label = 0 \n",
    "    return label \n",
    "\n",
    "convert_label(y_train)"
   ]
  },
  {
   "cell_type": "code",
   "execution_count": null,
   "metadata": {},
   "outputs": [],
   "source": []
  }
 ],
 "metadata": {
  "kernelspec": {
   "display_name": "Python 3",
   "language": "python",
   "name": "python3"
  },
  "language_info": {
   "codemirror_mode": {
    "name": "ipython",
    "version": 3
   },
   "file_extension": ".py",
   "mimetype": "text/x-python",
   "name": "python",
   "nbconvert_exporter": "python",
   "pygments_lexer": "ipython3",
   "version": "3.7.3"
  },
  "varInspector": {
   "cols": {
    "lenName": 16,
    "lenType": 16,
    "lenVar": 40
   },
   "kernels_config": {
    "python": {
     "delete_cmd_postfix": "",
     "delete_cmd_prefix": "del ",
     "library": "var_list.py",
     "varRefreshCmd": "print(var_dic_list())"
    },
    "r": {
     "delete_cmd_postfix": ") ",
     "delete_cmd_prefix": "rm(",
     "library": "var_list.r",
     "varRefreshCmd": "cat(var_dic_list()) "
    }
   },
   "types_to_exclude": [
    "module",
    "function",
    "builtin_function_or_method",
    "instance",
    "_Feature"
   ],
   "window_display": false
  }
 },
 "nbformat": 4,
 "nbformat_minor": 2
}
