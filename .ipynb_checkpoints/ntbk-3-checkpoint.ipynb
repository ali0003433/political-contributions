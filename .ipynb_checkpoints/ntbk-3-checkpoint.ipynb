{
 "cells": [
  {
   "cell_type": "markdown",
   "metadata": {},
   "source": [
    "# Technical Notebook 3 - Logistic Regression"
   ]
  },
  {
   "cell_type": "code",
   "execution_count": 541,
   "metadata": {},
   "outputs": [],
   "source": [
    "import pandas as pd\n",
    "import numpy as np\n",
    "import matplotlib.pyplot as plt\n",
    "import csv\n",
    "from sklearn.preprocessing import LabelEncoder, StandardScaler\n",
    "from sklearn.model_selection import train_test_split, cross_val_score\n",
    "from sklearn.linear_model import LogisticRegression, Ridge, Lasso\n",
    "from sklearn.metrics import confusion_matrix, roc_curve, precision_score, accuracy_score\n",
    "import statsmodels.api as sm\n",
    "%matplotlib inline"
   ]
  },
  {
   "cell_type": "code",
   "execution_count": 2,
   "metadata": {},
   "outputs": [
    {
     "data": {
      "text/plain": [
       "(11502, 8)"
      ]
     },
     "execution_count": 2,
     "metadata": {},
     "output_type": "execute_result"
    }
   ],
   "source": [
    "# read in CSV saved after cleaning in technical notebook 2 \n",
    "df = pd.read_csv('final_data/contr-income.csv', index_col=0)\n",
    "df.shape"
   ]
  },
  {
   "cell_type": "code",
   "execution_count": 3,
   "metadata": {},
   "outputs": [
    {
     "data": {
      "text/plain": [
       "cand_nm\n",
       "Biden, Joseph R Jr    455.965489\n",
       "Buttigieg, Pete       316.766818\n",
       "Sanders, Bernard       59.188698\n",
       "Warren, Elizabeth     101.616753\n",
       "Name: contb_receipt_amt, dtype: float64"
      ]
     },
     "execution_count": 3,
     "metadata": {},
     "output_type": "execute_result"
    }
   ],
   "source": [
    "# mean contribution amount by candidate\n",
    "df.groupby('cand_nm').mean()['contb_receipt_amt']"
   ]
  },
  {
   "cell_type": "code",
   "execution_count": 4,
   "metadata": {},
   "outputs": [
    {
     "data": {
      "text/plain": [
       "cand_nm\n",
       "Biden, Joseph R Jr    103579.781844\n",
       "Buttigieg, Pete        96094.845969\n",
       "Sanders, Bernard       91437.470653\n",
       "Warren, Elizabeth      92991.747298\n",
       "Name: income, dtype: float64"
      ]
     },
     "execution_count": 4,
     "metadata": {},
     "output_type": "execute_result"
    }
   ],
   "source": [
    "# mode zip code \n",
    "df.groupby('cand_nm').mean()['income']"
   ]
  },
  {
   "cell_type": "code",
   "execution_count": 5,
   "metadata": {},
   "outputs": [
    {
     "data": {
      "text/plain": [
       "cand_nm\n",
       "Biden, Joseph R Jr    201904\n",
       "Buttigieg, Pete       201901\n",
       "Sanders, Bernard      201902\n",
       "Warren, Elizabeth     201901\n",
       "Name: converted_date, dtype: int64"
      ]
     },
     "execution_count": 5,
     "metadata": {},
     "output_type": "execute_result"
    }
   ],
   "source": [
    "df.groupby('cand_nm').min()['converted_date']\n"
   ]
  },
  {
   "cell_type": "code",
   "execution_count": 6,
   "metadata": {},
   "outputs": [
    {
     "data": {
      "text/plain": [
       "cand_nm             converted_date\n",
       "Biden, Joseph R Jr  201904            711.465022\n",
       "                    201905            447.095444\n",
       "                    201906            596.462398\n",
       "                    201907            197.217160\n",
       "                    201908            516.234118\n",
       "                    201909            251.383166\n",
       "Buttigieg, Pete     201901            321.428571\n",
       "                    201902            571.052632\n",
       "                    201903            481.066948\n",
       "                    201904            533.287420\n",
       "                    201905            683.124096\n",
       "                    201906            325.153974\n",
       "                    201907            160.074282\n",
       "                    201908             94.050600\n",
       "                    201909            148.499467\n",
       "Sanders, Bernard    201902            307.370727\n",
       "                    201903             68.412271\n",
       "                    201904             65.967037\n",
       "                    201905             58.492265\n",
       "                    201906             58.583365\n",
       "                    201907             47.299302\n",
       "                    201908             42.932770\n",
       "                    201909             56.615775\n",
       "Warren, Elizabeth   201901            108.421026\n",
       "                    201902             95.515091\n",
       "                    201903            183.746829\n",
       "                    201904            113.150116\n",
       "                    201905            124.400435\n",
       "                    201906            130.624192\n",
       "                    201907             77.704489\n",
       "                    201908             80.201826\n",
       "                    201909             98.701840\n",
       "Name: contb_receipt_amt, dtype: float64"
      ]
     },
     "execution_count": 6,
     "metadata": {},
     "output_type": "execute_result"
    }
   ],
   "source": [
    "# contribution amount by month for each candidate \n",
    "df.groupby(['cand_nm','converted_date']).mean()['contb_receipt_amt']"
   ]
  },
  {
   "cell_type": "code",
   "execution_count": 7,
   "metadata": {},
   "outputs": [],
   "source": [
    "df['cand_num'] = df['cand_nm']"
   ]
  },
  {
   "cell_type": "code",
   "execution_count": 8,
   "metadata": {},
   "outputs": [
    {
     "data": {
      "text/plain": [
       "(11502, 9)"
      ]
     },
     "execution_count": 8,
     "metadata": {},
     "output_type": "execute_result"
    }
   ],
   "source": [
    "df.head()\n",
    "df.shape"
   ]
  },
  {
   "cell_type": "markdown",
   "metadata": {},
   "source": [
    "## Label encoding"
   ]
  },
  {
   "cell_type": "code",
   "execution_count": 9,
   "metadata": {},
   "outputs": [],
   "source": [
    "# encode the candidates as specific labels \n",
    "y = df.cand_nm\n",
    "le = LabelEncoder()\n",
    "le.fit(y)\n",
    "num_y = le.transform(y)\n",
    "df.cand_num = num_y"
   ]
  },
  {
   "cell_type": "code",
   "execution_count": 10,
   "metadata": {},
   "outputs": [
    {
     "name": "stdout",
     "output_type": "stream",
     "text": [
      "Buttigieg, Pete       3746\n",
      "Warren, Elizabeth     3609\n",
      "Sanders, Bernard      2726\n",
      "Biden, Joseph R Jr    1421\n",
      "Name: cand_nm, dtype: int64\n",
      "1    3746\n",
      "3    3609\n",
      "2    2726\n",
      "0    1421\n",
      "Name: cand_num, dtype: int64\n"
     ]
    }
   ],
   "source": [
    "print(df.cand_nm.value_counts())\n",
    "print(df.cand_num.value_counts())\n"
   ]
  },
  {
   "cell_type": "markdown",
   "metadata": {},
   "source": [
    "## Split dataset into train and test"
   ]
  },
  {
   "cell_type": "code",
   "execution_count": 521,
   "metadata": {},
   "outputs": [],
   "source": [
    "# X predictor variables \n",
    "x_feats = ['converted_date',\n",
    "           'income',\n",
    "           'occ_cat',\n",
    "           'contb_receipt_amt']\n",
    "X = pd.get_dummies(df[x_feats],\n",
    "                   drop_first=True, \n",
    "                   dtype=float)"
   ]
  },
  {
   "cell_type": "code",
   "execution_count": 522,
   "metadata": {},
   "outputs": [],
   "source": [
    "# target variable is candidate's numeric value \n",
    "y = df.cand_num"
   ]
  },
  {
   "cell_type": "code",
   "execution_count": 523,
   "metadata": {},
   "outputs": [],
   "source": [
    "X_train, X_test, y_train, y_test = train_test_split(X, y, \n",
    "                                                    random_state=0, \n",
    "                                                    stratify=y, \n",
    "                                                    test_size=0.2\n",
    "                                                   )"
   ]
  },
  {
   "cell_type": "markdown",
   "metadata": {},
   "source": [
    "## Scale x values "
   ]
  },
  {
   "cell_type": "code",
   "execution_count": 524,
   "metadata": {},
   "outputs": [],
   "source": [
    "scaler = StandardScaler().fit(X_train)\n",
    "\n",
    "columns = X_train.columns \n",
    "\n",
    "scaled_train = scaler.transform(X_train)\n",
    "X_train_scaled = pd.DataFrame(scaled_train, \n",
    "                              columns = columns\n",
    "                             )"
   ]
  },
  {
   "cell_type": "code",
   "execution_count": 26,
   "metadata": {},
   "outputs": [],
   "source": [
    "y_train = list(y_train)"
   ]
  },
  {
   "cell_type": "markdown",
   "metadata": {},
   "source": [
    "## Call logistic regression function"
   ]
  },
  {
   "cell_type": "code",
   "execution_count": 555,
   "metadata": {},
   "outputs": [],
   "source": [
    "multi = LogisticRegression(C=1e9, \n",
    "                           solver='lbfgs', \n",
    "                           multi_class='multinomial', \n",
    "                           max_iter=1000, \n",
    "                           penalty='l2')"
   ]
  },
  {
   "cell_type": "markdown",
   "metadata": {},
   "source": [
    "## Fit the model"
   ]
  },
  {
   "cell_type": "code",
   "execution_count": 556,
   "metadata": {},
   "outputs": [
    {
     "name": "stderr",
     "output_type": "stream",
     "text": [
      "/Users/alyssaliguori/anaconda3/lib/python3.7/site-packages/sklearn/linear_model/logistic.py:469: FutureWarning: Default multi_class will be changed to 'auto' in 0.22. Specify the multi_class option to silence this warning.\n",
      "  \"this warning.\", FutureWarning)\n"
     ]
    }
   ],
   "source": [
    "log_model = logreg.fit(X_train_scaled,y_train)\n",
    "multi_model = multi.fit(X_train_scaled, y_train)"
   ]
  },
  {
   "cell_type": "markdown",
   "metadata": {},
   "source": [
    "## Validate fit"
   ]
  },
  {
   "cell_type": "code",
   "execution_count": 557,
   "metadata": {},
   "outputs": [],
   "source": [
    "y_hat_train = multi.predict(X_train_scaled)"
   ]
  },
  {
   "cell_type": "code",
   "execution_count": 558,
   "metadata": {},
   "outputs": [
    {
     "data": {
      "text/plain": [
       "15"
      ]
     },
     "execution_count": 558,
     "metadata": {},
     "output_type": "execute_result"
    }
   ],
   "source": [
    "len(multi.coef_[0])"
   ]
  },
  {
   "cell_type": "markdown",
   "metadata": {},
   "source": [
    "## Metrics "
   ]
  },
  {
   "cell_type": "code",
   "execution_count": 559,
   "metadata": {},
   "outputs": [
    {
     "name": "stdout",
     "output_type": "stream",
     "text": [
      "0.43440930333659383\n",
      "0.4420171720465167\n"
     ]
    }
   ],
   "source": [
    "# multinomial performs better than logreg\n",
    "print(logreg.score(X_train_scaled, y_train))\n",
    "print(multi.score(X_train_scaled, y_train))"
   ]
  },
  {
   "cell_type": "code",
   "execution_count": 560,
   "metadata": {},
   "outputs": [
    {
     "data": {
      "text/html": [
       "<div>\n",
       "<style scoped>\n",
       "    .dataframe tbody tr th:only-of-type {\n",
       "        vertical-align: middle;\n",
       "    }\n",
       "\n",
       "    .dataframe tbody tr th {\n",
       "        vertical-align: top;\n",
       "    }\n",
       "\n",
       "    .dataframe thead th {\n",
       "        text-align: right;\n",
       "    }\n",
       "</style>\n",
       "<table border=\"1\" class=\"dataframe\">\n",
       "  <thead>\n",
       "    <tr style=\"text-align: right;\">\n",
       "      <th></th>\n",
       "      <th>Biden</th>\n",
       "      <th>Buttigieg</th>\n",
       "      <th>Sanders</th>\n",
       "      <th>Warren</th>\n",
       "    </tr>\n",
       "  </thead>\n",
       "  <tbody>\n",
       "    <tr>\n",
       "      <th>actual Biden</th>\n",
       "      <td>30</td>\n",
       "      <td>653</td>\n",
       "      <td>38</td>\n",
       "      <td>416</td>\n",
       "    </tr>\n",
       "    <tr>\n",
       "      <th>actual Buttigieg</th>\n",
       "      <td>21</td>\n",
       "      <td>1629</td>\n",
       "      <td>216</td>\n",
       "      <td>1130</td>\n",
       "    </tr>\n",
       "    <tr>\n",
       "      <th>actual Sanders</th>\n",
       "      <td>1</td>\n",
       "      <td>376</td>\n",
       "      <td>681</td>\n",
       "      <td>1123</td>\n",
       "    </tr>\n",
       "    <tr>\n",
       "      <th>actual Warren</th>\n",
       "      <td>10</td>\n",
       "      <td>804</td>\n",
       "      <td>346</td>\n",
       "      <td>1727</td>\n",
       "    </tr>\n",
       "  </tbody>\n",
       "</table>\n",
       "</div>"
      ],
      "text/plain": [
       "                  Biden  Buttigieg  Sanders  Warren\n",
       "actual Biden         30        653       38     416\n",
       "actual Buttigieg     21       1629      216    1130\n",
       "actual Sanders        1        376      681    1123\n",
       "actual Warren        10        804      346    1727"
      ]
     },
     "execution_count": 560,
     "metadata": {},
     "output_type": "execute_result"
    }
   ],
   "source": [
    "# create confusion matrix\n",
    "cm = confusion_matrix(y_train, y_hat_train)\n",
    "conf_matrix = pd.DataFrame(cm, index=['actual Biden',\n",
    "                                      'actual Buttigieg',\n",
    "                                      'actual Sanders',\n",
    "                                      'actual Warren'], \n",
    "                           columns= ['Biden', \n",
    "                                     'Buttigieg',\n",
    "                                     'Sanders',\n",
    "                                     'Warren'])\n",
    "conf_matrix"
   ]
  },
  {
   "cell_type": "markdown",
   "metadata": {},
   "source": [
    "## Lasso and Ridge"
   ]
  },
  {
   "cell_type": "code",
   "execution_count": 561,
   "metadata": {},
   "outputs": [
    {
     "data": {
      "text/plain": [
       "Ridge(alpha=100, copy_X=True, fit_intercept=True, max_iter=None,\n",
       "      normalize=False, random_state=None, solver='auto', tol=0.001)"
      ]
     },
     "execution_count": 561,
     "metadata": {},
     "output_type": "execute_result"
    }
   ],
   "source": [
    "rr = Ridge(alpha=100)\n",
    "rr.fit(X_train_scaled, \n",
    "       y_train\n",
    "      )"
   ]
  },
  {
   "cell_type": "code",
   "execution_count": 562,
   "metadata": {},
   "outputs": [
    {
     "name": "stdout",
     "output_type": "stream",
     "text": [
      "0.11168971265983708\n"
     ]
    }
   ],
   "source": [
    "ridge_train_score = rr.score(X_train_scaled, \n",
    "                             y_train\n",
    "                            )\n",
    "print(ridge_train_score)"
   ]
  },
  {
   "cell_type": "code",
   "execution_count": 563,
   "metadata": {},
   "outputs": [
    {
     "name": "stdout",
     "output_type": "stream",
     "text": [
      "0.11173662129767702\n",
      "14\n"
     ]
    }
   ],
   "source": [
    "lasso = Lasso(alpha=.001)\n",
    "lasso.fit(X_train_scaled, \n",
    "          y_train\n",
    "         )\n",
    "lasso_train_score = lasso.score(X_train_scaled, \n",
    "                                y_train\n",
    "                               )\n",
    "print(lasso_train_score)\n",
    "coeff_used = np.sum(lasso.coef_!=0)\n",
    "print(coeff_used)"
   ]
  },
  {
   "cell_type": "markdown",
   "metadata": {},
   "source": [
    "  ## Tuning  parameters"
   ]
  },
  {
   "cell_type": "code",
   "execution_count": 564,
   "metadata": {},
   "outputs": [],
   "source": [
    "# liblinear doesn't support multinomial backend (error message)\n",
    "# tuned C to 2 from 1e9 originally \n",
    "\n",
    "multi = LogisticRegression(C=2, \n",
    "                           solver='lbfgs',\n",
    "                           multi_class='multinomial', \n",
    "                           max_iter=1000, \n",
    "                           penalty='l2')"
   ]
  },
  {
   "cell_type": "code",
   "execution_count": 565,
   "metadata": {},
   "outputs": [],
   "source": [
    "multi_model = multi.fit(X_train_scaled, y_train)"
   ]
  },
  {
   "cell_type": "code",
   "execution_count": 566,
   "metadata": {},
   "outputs": [],
   "source": [
    "y_hat_train = multi.predict(X_train_scaled)"
   ]
  },
  {
   "cell_type": "code",
   "execution_count": 567,
   "metadata": {},
   "outputs": [
    {
     "name": "stdout",
     "output_type": "stream",
     "text": [
      "0.44223453972394305\n"
     ]
    }
   ],
   "source": [
    "print(multi.score(X_train_scaled, y_train))"
   ]
  },
  {
   "cell_type": "code",
   "execution_count": 568,
   "metadata": {},
   "outputs": [
    {
     "data": {
      "text/html": [
       "<div>\n",
       "<style scoped>\n",
       "    .dataframe tbody tr th:only-of-type {\n",
       "        vertical-align: middle;\n",
       "    }\n",
       "\n",
       "    .dataframe tbody tr th {\n",
       "        vertical-align: top;\n",
       "    }\n",
       "\n",
       "    .dataframe thead th {\n",
       "        text-align: right;\n",
       "    }\n",
       "</style>\n",
       "<table border=\"1\" class=\"dataframe\">\n",
       "  <thead>\n",
       "    <tr style=\"text-align: right;\">\n",
       "      <th></th>\n",
       "      <th>Biden</th>\n",
       "      <th>Buttigieg</th>\n",
       "      <th>Sanders</th>\n",
       "      <th>Warren</th>\n",
       "    </tr>\n",
       "  </thead>\n",
       "  <tbody>\n",
       "    <tr>\n",
       "      <th>actual Biden</th>\n",
       "      <td>30</td>\n",
       "      <td>653</td>\n",
       "      <td>38</td>\n",
       "      <td>416</td>\n",
       "    </tr>\n",
       "    <tr>\n",
       "      <th>actual Buttigieg</th>\n",
       "      <td>21</td>\n",
       "      <td>1629</td>\n",
       "      <td>215</td>\n",
       "      <td>1131</td>\n",
       "    </tr>\n",
       "    <tr>\n",
       "      <th>actual Sanders</th>\n",
       "      <td>1</td>\n",
       "      <td>376</td>\n",
       "      <td>681</td>\n",
       "      <td>1123</td>\n",
       "    </tr>\n",
       "    <tr>\n",
       "      <th>actual Warren</th>\n",
       "      <td>10</td>\n",
       "      <td>804</td>\n",
       "      <td>344</td>\n",
       "      <td>1729</td>\n",
       "    </tr>\n",
       "  </tbody>\n",
       "</table>\n",
       "</div>"
      ],
      "text/plain": [
       "                  Biden  Buttigieg  Sanders  Warren\n",
       "actual Biden         30        653       38     416\n",
       "actual Buttigieg     21       1629      215    1131\n",
       "actual Sanders        1        376      681    1123\n",
       "actual Warren        10        804      344    1729"
      ]
     },
     "execution_count": 568,
     "metadata": {},
     "output_type": "execute_result"
    }
   ],
   "source": [
    "cm = confusion_matrix(y_train, y_hat_train)\n",
    "conf_matrix = pd.DataFrame(cm, index=['actual Biden',\n",
    "                                      'actual Buttigieg',\n",
    "                                      'actual Sanders',\n",
    "                                      'actual Warren'], \n",
    "                           columns= ['Biden', \n",
    "                                     'Buttigieg',\n",
    "                                     'Sanders',\n",
    "                                     'Warren'])\n",
    "conf_matrix"
   ]
  },
  {
   "cell_type": "code",
   "execution_count": 578,
   "metadata": {},
   "outputs": [],
   "source": [
    "# changed weights to preference sensitivity to Biden\n",
    "multi = LogisticRegression(C=2, \n",
    "                           solver='lbfgs',\n",
    "                           multi_class='multinomial', \n",
    "                           max_iter=1000, \n",
    "                           penalty='l2',\n",
    "                           class_weight={0: 1, 1: .3, 2: .4, 3: .3})"
   ]
  },
  {
   "cell_type": "code",
   "execution_count": 579,
   "metadata": {},
   "outputs": [
    {
     "name": "stdout",
     "output_type": "stream",
     "text": [
      "0.3537658950114118\n"
     ]
    }
   ],
   "source": [
    "# fit model \n",
    "multi_model = multi.fit(X_train_scaled, y_train)\n",
    "# predit y based on X_train_scaled\n",
    "y_hat_train = multi.predict(X_train_scaled)\n",
    "print(multi.score(X_train_scaled, y_train))"
   ]
  },
  {
   "cell_type": "code",
   "execution_count": 580,
   "metadata": {},
   "outputs": [
    {
     "data": {
      "text/html": [
       "<div>\n",
       "<style scoped>\n",
       "    .dataframe tbody tr th:only-of-type {\n",
       "        vertical-align: middle;\n",
       "    }\n",
       "\n",
       "    .dataframe tbody tr th {\n",
       "        vertical-align: top;\n",
       "    }\n",
       "\n",
       "    .dataframe thead th {\n",
       "        text-align: right;\n",
       "    }\n",
       "</style>\n",
       "<table border=\"1\" class=\"dataframe\">\n",
       "  <thead>\n",
       "    <tr style=\"text-align: right;\">\n",
       "      <th></th>\n",
       "      <th>Biden</th>\n",
       "      <th>Buttigieg</th>\n",
       "      <th>Sanders</th>\n",
       "      <th>Warren</th>\n",
       "    </tr>\n",
       "  </thead>\n",
       "  <tbody>\n",
       "    <tr>\n",
       "      <th>actual Biden</th>\n",
       "      <td>780</td>\n",
       "      <td>85</td>\n",
       "      <td>114</td>\n",
       "      <td>158</td>\n",
       "    </tr>\n",
       "    <tr>\n",
       "      <th>actual Buttigieg</th>\n",
       "      <td>1477</td>\n",
       "      <td>497</td>\n",
       "      <td>516</td>\n",
       "      <td>506</td>\n",
       "    </tr>\n",
       "    <tr>\n",
       "      <th>actual Sanders</th>\n",
       "      <td>537</td>\n",
       "      <td>86</td>\n",
       "      <td>1069</td>\n",
       "      <td>489</td>\n",
       "    </tr>\n",
       "    <tr>\n",
       "      <th>actual Warren</th>\n",
       "      <td>975</td>\n",
       "      <td>195</td>\n",
       "      <td>808</td>\n",
       "      <td>909</td>\n",
       "    </tr>\n",
       "  </tbody>\n",
       "</table>\n",
       "</div>"
      ],
      "text/plain": [
       "                  Biden  Buttigieg  Sanders  Warren\n",
       "actual Biden        780         85      114     158\n",
       "actual Buttigieg   1477        497      516     506\n",
       "actual Sanders      537         86     1069     489\n",
       "actual Warren       975        195      808     909"
      ]
     },
     "execution_count": 580,
     "metadata": {},
     "output_type": "execute_result"
    }
   ],
   "source": [
    "# confusion matrix \n",
    "cm = confusion_matrix(y_train, y_hat_train)\n",
    "conf_matrix = pd.DataFrame(cm, index=['actual Biden',\n",
    "                                      'actual Buttigieg',\n",
    "                                      'actual Sanders',\n",
    "                                      'actual Warren'], \n",
    "                           columns= ['Biden', \n",
    "                                     'Buttigieg',\n",
    "                                     'Sanders',\n",
    "                                     'Warren'])\n",
    "conf_matrix"
   ]
  },
  {
   "cell_type": "markdown",
   "metadata": {},
   "source": [
    "## Cross Validate"
   ]
  },
  {
   "cell_type": "code",
   "execution_count": 581,
   "metadata": {},
   "outputs": [
    {
     "data": {
      "text/plain": [
       "array([0.11029092, 0.10592025, 0.11089571])"
      ]
     },
     "execution_count": 581,
     "metadata": {},
     "output_type": "execute_result"
    }
   ],
   "source": [
    "# k = 3 \n",
    "multi_scores = cross_val_score(multi_model,\n",
    "                        X_train_scaled, \n",
    "                        y_train, \n",
    "                        cv=3, \n",
    "                        )\n",
    "scores"
   ]
  },
  {
   "cell_type": "code",
   "execution_count": 582,
   "metadata": {},
   "outputs": [
    {
     "data": {
      "text/plain": [
       "array([0.11029092, 0.10592025, 0.11089571])"
      ]
     },
     "execution_count": 582,
     "metadata": {},
     "output_type": "execute_result"
    }
   ],
   "source": [
    "# k = 3 \n",
    "lasso_scores = cross_val_score(lasso,\n",
    "                        X_train_scaled, \n",
    "                        y_train, \n",
    "                        cv=3, \n",
    "                        )\n",
    "scores"
   ]
  },
  {
   "cell_type": "markdown",
   "metadata": {},
   "source": [
    "## Test data"
   ]
  },
  {
   "cell_type": "code",
   "execution_count": 583,
   "metadata": {},
   "outputs": [],
   "source": [
    "scaler = StandardScaler().fit(X_train)\n",
    "\n",
    "columns = X_test.columns \n",
    "\n",
    "scaled_test = scaler.transform(X_test)\n",
    "X_test_scaled = pd.DataFrame(scaled_test, \n",
    "                              columns = columns\n",
    "                             )"
   ]
  },
  {
   "cell_type": "code",
   "execution_count": 584,
   "metadata": {},
   "outputs": [],
   "source": [
    "y_hat_test = multi.predict(X_test_scaled)"
   ]
  },
  {
   "cell_type": "code",
   "execution_count": 585,
   "metadata": {},
   "outputs": [
    {
     "name": "stdout",
     "output_type": "stream",
     "text": [
      "0.3615819209039548\n"
     ]
    }
   ],
   "source": [
    "print(multi.score(X_test_scaled, y_test))"
   ]
  },
  {
   "cell_type": "code",
   "execution_count": null,
   "metadata": {},
   "outputs": [],
   "source": []
  }
 ],
 "metadata": {
  "kernelspec": {
   "display_name": "Python 3",
   "language": "python",
   "name": "python3"
  },
  "language_info": {
   "codemirror_mode": {
    "name": "ipython",
    "version": 3
   },
   "file_extension": ".py",
   "mimetype": "text/x-python",
   "name": "python",
   "nbconvert_exporter": "python",
   "pygments_lexer": "ipython3",
   "version": "3.7.3"
  }
 },
 "nbformat": 4,
 "nbformat_minor": 2
}
