{
 "cells": [
  {
   "cell_type": "markdown",
   "metadata": {},
   "source": [
    "## Read in data"
   ]
  },
  {
   "cell_type": "code",
   "execution_count": 1,
   "metadata": {},
   "outputs": [],
   "source": [
    "import pandas as pd\n",
    "import matplotlib.pyplot as plt\n",
    "import math\n",
    "import numpy as np\n",
    "import datetime\n"
   ]
  },
  {
   "cell_type": "code",
   "execution_count": 2,
   "metadata": {},
   "outputs": [
    {
     "name": "stdout",
     "output_type": "stream",
     "text": [
      "Num of cand_id: 28 Num of cmte_id: 28 Num of cand_nm: 28\n",
      "Shape: (19875, 18)\n"
     ]
    }
   ],
   "source": [
    "df = pd.read_csv('raw_data/2019-10-18-DC.csv', index_col=False, na_values=[99999])\n",
    "\n",
    "print('Num of cand_id:',len(df['cand_id'].unique()), 'Num of cmte_id:', len(df['cmte_id'].unique()),'Num of cand_nm:', len(df['cand_nm'].unique()))\n",
    "print('Shape:', df.shape)"
   ]
  },
  {
   "cell_type": "markdown",
   "metadata": {},
   "source": [
    "## Remove all candidates except top 5 in national polls"
   ]
  },
  {
   "cell_type": "code",
   "execution_count": 3,
   "metadata": {},
   "outputs": [
    {
     "name": "stdout",
     "output_type": "stream",
     "text": [
      "28\n"
     ]
    }
   ],
   "source": [
    "print(len(df.cand_nm.unique()))"
   ]
  },
  {
   "cell_type": "code",
   "execution_count": 4,
   "metadata": {},
   "outputs": [
    {
     "name": "stdout",
     "output_type": "stream",
     "text": [
      "Num of candidates: 5\n"
     ]
    }
   ],
   "source": [
    "cand_list = ['Warren, Elizabeth ', 'Trump, Donald J.', 'Sanders, Bernard', 'Buttigieg, Pete', 'Biden, Joseph R Jr']\n",
    "df = df.loc[df.cand_nm.isin(cand_list)]\n",
    "print('Num of candidates:', len(df.cand_nm.unique()))\n"
   ]
  },
  {
   "cell_type": "markdown",
   "metadata": {},
   "source": [
    "## Clean form type"
   ]
  },
  {
   "cell_type": "code",
   "execution_count": 5,
   "metadata": {},
   "outputs": [
    {
     "name": "stdout",
     "output_type": "stream",
     "text": [
      "SA17A    12029\n",
      "SA18       903\n",
      "SB28A      206\n",
      "Name: form_tp, dtype: int64\n"
     ]
    }
   ],
   "source": [
    "print(df.form_tp.value_counts())"
   ]
  },
  {
   "cell_type": "code",
   "execution_count": 6,
   "metadata": {},
   "outputs": [],
   "source": [
    "# check which candidates have the instances of SB28A (refunds)\n",
    "# Buttigieg (88), Biden (62), Sanders (38), Warren (18), Trump (0)\n",
    "df.loc[df.form_tp == 'SB28A'].groupby('cand_nm').count();"
   ]
  },
  {
   "cell_type": "code",
   "execution_count": 7,
   "metadata": {},
   "outputs": [],
   "source": [
    "# drop the refunds (SB28A)\n",
    "df = df[df.form_tp != 'SB28A']\n",
    "\n",
    "# drop all contributions from committees (SA18) \n",
    "df= df[df.form_tp != 'SA18']"
   ]
  },
  {
   "cell_type": "code",
   "execution_count": 8,
   "metadata": {},
   "outputs": [
    {
     "name": "stdout",
     "output_type": "stream",
     "text": [
      "SA17A    12029\n",
      "Name: form_tp, dtype: int64\n"
     ]
    }
   ],
   "source": [
    "print(df.form_tp.value_counts())"
   ]
  },
  {
   "cell_type": "markdown",
   "metadata": {},
   "source": [
    "## Clean city names "
   ]
  },
  {
   "cell_type": "code",
   "execution_count": 9,
   "metadata": {},
   "outputs": [
    {
     "name": "stdout",
     "output_type": "stream",
     "text": [
      "WASHINGTON     12011\n",
      "BOLLING AFB       11\n",
      "BEAR               5\n",
      "WASHINGT           1\n",
      "GREENVILLE         1\n",
      "Name: contbr_city, dtype: int64\n"
     ]
    }
   ],
   "source": [
    "print(df.contbr_city.value_counts())"
   ]
  },
  {
   "cell_type": "code",
   "execution_count": 10,
   "metadata": {},
   "outputs": [
    {
     "name": "stderr",
     "output_type": "stream",
     "text": [
      "/Users/alyssaliguori/anaconda3/lib/python3.7/site-packages/ipykernel_launcher.py:4: SettingWithCopyWarning: \n",
      "A value is trying to be set on a copy of a slice from a DataFrame\n",
      "\n",
      "See the caveats in the documentation: http://pandas.pydata.org/pandas-docs/stable/indexing.html#indexing-view-versus-copy\n",
      "  after removing the cwd from sys.path.\n"
     ]
    }
   ],
   "source": [
    "# change bolling afb and washingt to washington\n",
    "ind_err = df.loc[(df.contbr_city == 'WASHINGT') |(df.contbr_city == 'BOLLING AFB')].index\n",
    "for ind in list(ind_err):\n",
    "    df.contbr_city[ind] = 'WASHINGTON'    \n",
    "\n",
    "# both are in Delaware \n",
    "df.loc[df.contbr_city == 'GREENVILLE']\n",
    "df.loc[df.contbr_city == 'BEAR']\n",
    "df.contbr_city.value_counts()\n",
    "\n",
    "# remove Delaware cities \n",
    "df = df.loc[df.contbr_city == 'WASHINGTON']"
   ]
  },
  {
   "cell_type": "code",
   "execution_count": 11,
   "metadata": {},
   "outputs": [
    {
     "name": "stdout",
     "output_type": "stream",
     "text": [
      "WASHINGTON    12023\n",
      "Name: contbr_city, dtype: int64\n"
     ]
    }
   ],
   "source": [
    "print(df.contbr_city.value_counts())"
   ]
  },
  {
   "cell_type": "markdown",
   "metadata": {},
   "source": [
    "## Clean zip codes "
   ]
  },
  {
   "cell_type": "code",
   "execution_count": 12,
   "metadata": {},
   "outputs": [],
   "source": [
    "df.loc[(df.contbr_zip.isna() != False)]                         \n",
    "df.loc[df.contbr_nm == 'THOMPSON, KENNETH D JR', 'contbr_zip'] = 20001"
   ]
  },
  {
   "cell_type": "code",
   "execution_count": 13,
   "metadata": {},
   "outputs": [
    {
     "name": "stdout",
     "output_type": "stream",
     "text": [
      "50\n"
     ]
    }
   ],
   "source": [
    "df['contbr_zip'] = df.contbr_zip.astype('str')\n",
    "df.contbr_zip = df['contbr_zip'].apply(lambda x: x[0:5])\n",
    "print(len(df.contbr_zip.unique()))"
   ]
  },
  {
   "cell_type": "code",
   "execution_count": 14,
   "metadata": {},
   "outputs": [
    {
     "name": "stdout",
     "output_type": "stream",
     "text": [
      "Null zip codes: 0\n"
     ]
    }
   ],
   "source": [
    "print('Null zip codes:', df.contbr_zip.isna().sum())"
   ]
  },
  {
   "cell_type": "code",
   "execution_count": 15,
   "metadata": {},
   "outputs": [
    {
     "name": "stdout",
     "output_type": "stream",
     "text": [
      "['20008' '20007' '20037' '20003' '20016' '20001' '20009' '20006' '20013'\n",
      " '20018' '20010' '20002' '20024' '20011' '20005' '20015' '20012' '20552'\n",
      " '20212' '20004' '20036' '20019' '20526' '20017' '20301' '20540' '20032'\n",
      " '20020' '22205' '25413' '20585' '20057' '20375' '20472' '20270' '20026'\n",
      " '20229' '20420' '20591' '20500' '20210' '20038' '20044' '10036' '20014'\n",
      " '20027' '20577' '11217' '20052' '20035']\n"
     ]
    },
    {
     "data": {
      "text/plain": [
       "50"
      ]
     },
     "execution_count": 15,
     "metadata": {},
     "output_type": "execute_result"
    }
   ],
   "source": [
    "print(df.contbr_zip.unique())\n",
    "len(df.contbr_zip.unique()) # 48 unique zip codes "
   ]
  },
  {
   "cell_type": "code",
   "execution_count": 16,
   "metadata": {},
   "outputs": [],
   "source": [
    "# (df.contbr_zip == '11217')].index)\n",
    "df = df[df.contbr_zip != '10036']\n",
    "df = df[df.contbr_zip !='11217']\n"
   ]
  },
  {
   "cell_type": "code",
   "execution_count": 17,
   "metadata": {},
   "outputs": [
    {
     "data": {
      "text/plain": [
       "48"
      ]
     },
     "execution_count": 17,
     "metadata": {},
     "output_type": "execute_result"
    }
   ],
   "source": [
    "len(df.contbr_zip.unique())"
   ]
  },
  {
   "cell_type": "markdown",
   "metadata": {},
   "source": [
    "## Clean contribution amounts"
   ]
  },
  {
   "cell_type": "code",
   "execution_count": 18,
   "metadata": {},
   "outputs": [
    {
     "name": "stdout",
     "output_type": "stream",
     "text": [
      "Min contribution: $ 0.01\n"
     ]
    }
   ],
   "source": [
    "# filter out negative values\n",
    "df = df.loc[df.contb_receipt_amt > 0]\n",
    "print('Min contribution: $', df.contb_receipt_amt.min())"
   ]
  },
  {
   "cell_type": "code",
   "execution_count": 19,
   "metadata": {},
   "outputs": [
    {
     "name": "stdout",
     "output_type": "stream",
     "text": [
      "Max contribution: $ 2800.0\n"
     ]
    }
   ],
   "source": [
    "# filter out values over legal limit\n",
    "df = df.loc[df.contb_receipt_amt <= 2800]\n",
    "print('Max contribution: $', df.contb_receipt_amt.max())"
   ]
  },
  {
   "cell_type": "code",
   "execution_count": 20,
   "metadata": {},
   "outputs": [
    {
     "data": {
      "text/plain": [
       "count    11917.000000\n",
       "mean       203.320155\n",
       "std        468.130976\n",
       "min          0.010000\n",
       "25%         25.000000\n",
       "50%         50.000000\n",
       "75%        100.000000\n",
       "max       2800.000000\n",
       "Name: contb_receipt_amt, dtype: float64"
      ]
     },
     "execution_count": 20,
     "metadata": {},
     "output_type": "execute_result"
    }
   ],
   "source": [
    "df.contb_receipt_amt.describe()"
   ]
  },
  {
   "cell_type": "markdown",
   "metadata": {},
   "source": [
    "## Clean occupations"
   ]
  },
  {
   "cell_type": "code",
   "execution_count": 21,
   "metadata": {},
   "outputs": [
    {
     "name": "stdout",
     "output_type": "stream",
     "text": [
      "954\n",
      "object\n"
     ]
    },
    {
     "data": {
      "text/plain": [
       "NOT EMPLOYED                             1910\n",
       "ATTORNEY                                 1395\n",
       "CONSULTANT                                494\n",
       "LAWYER                                    359\n",
       "RETIRED                                   341\n",
       "TEACHER                                   187\n",
       "PHYSICIAN                                 160\n",
       "ANALYST                                   150\n",
       "CHST                                      111\n",
       "PROFESSOR                                 111\n",
       "PROGRAM MANAGER                           110\n",
       "SOFTWARE ENGINEER                         110\n",
       "ECONOMIST                                 110\n",
       "MANAGER                                    93\n",
       "EXECUTIVE                                  93\n",
       "ARCHITECT                                  91\n",
       "REALTOR                                    84\n",
       "IT                                         77\n",
       "EXECUTIVE DIRECTOR                         76\n",
       "POLICY ANALYST                             76\n",
       "STAFF ASSISTANT FOR ECONOMIC ANALYSIS      68\n",
       "WRITER                                     66\n",
       "DIRECTOR                                   62\n",
       "VICE PRESIDENT                             62\n",
       "ENGINEER                                   59\n",
       "CEO                                        59\n",
       "RESEARCHER                                 55\n",
       "COMMUNICATIONS                             54\n",
       "CHIEF OF STAFF                             49\n",
       "EDUCATOR                                   47\n",
       "                                         ... \n",
       "TELECOMMUNICATIONS                          1\n",
       "ADJUNCT FACULTY                             1\n",
       "UNIVERSITY HISTORY PROFESSOR                1\n",
       "LECTURER                                    1\n",
       "GENERAL PRESIDENT                           1\n",
       "CONGRESSIONAL STAFFER                       1\n",
       "BANKING                                     1\n",
       "NON PROFIT ADVOCACY                         1\n",
       "RETIRED ENGINEER                            1\n",
       "ASSOCIATE VICE PRESIDENT                    1\n",
       "CO CHAIRMAN                                 1\n",
       "NON PROFIT MANAGEMENT                       1\n",
       "CO-FOUNDER/CTO                              1\n",
       "GOVERNMENT AFFAIRS CONSULTANT               1\n",
       "APPLICATIONS ENGINEER                       1\n",
       "PROFESSIONAL                                1\n",
       "EXECUTIVE PRODUCER                          1\n",
       "BUSINESS MANAGER/OWNER                      1\n",
       "PROJECT SUBDIRECTOR                         1\n",
       "RETIRED LAWYER                              1\n",
       "CONTRACTOR                                  1\n",
       "ATTORNEY/JUDGE                              1\n",
       "BOARD MEMBER                                1\n",
       "JOURNALISM                                  1\n",
       "REAL ESTATE DEVELOPMENT & SERVICES          1\n",
       "POLICY ADVOCACY                             1\n",
       "REAL ESTATE CONSTRUCTION/DEVELOPMT          1\n",
       "DEPLOYMENT STRATEGIST                       1\n",
       "SALES EXECUTIVE                             1\n",
       "SOFTWARE DEVELOPMENT ENGINEER               1\n",
       "Name: contbr_occupation, Length: 953, dtype: int64"
      ]
     },
     "execution_count": 21,
     "metadata": {},
     "output_type": "execute_result"
    }
   ],
   "source": [
    "print(len(df.contbr_occupation.unique()))\n",
    "print(df.contbr_occupation.dtype)\n",
    "df.contbr_occupation.unique()[0:30]\n",
    "len(df.contbr_occupation.unique())\n",
    "df.contbr_occupation.value_counts()"
   ]
  },
  {
   "cell_type": "code",
   "execution_count": 22,
   "metadata": {},
   "outputs": [],
   "source": [
    "# standardize occupation function\n",
    "def std_occ(title): \n",
    "    if isinstance(title, float):\n",
    "        return None\n",
    "    t = title.lower().strip().split()\n",
    "    \n",
    "    for word in ['retired']:\n",
    "        if word in t: \n",
    "            title = 'retired'\n",
    "            break\n",
    "            \n",
    "    for word in ['attorney', 'lawyer', 'general counsel', 'judge','clerk', 'investigator','officer','paralegal']:\n",
    "        if word in t:\n",
    "            title = 'law'\n",
    "            break\n",
    "            \n",
    "    for word in ['teacher','professor', 'educator', 'student', 'instructor','prof','librarian','education','tutor']:\n",
    "        if word in t:\n",
    "            title = 'education'\n",
    "            break\n",
    "            \n",
    "    for word in ['physician','doc','r.n.','surgeon','nurse','psychologist','therapist']:\n",
    "        if word in t: \n",
    "            title = 'healthcare'\n",
    "            break\n",
    "            \n",
    "    for word in ['trade','government', 'federal', 'fed','policy', 'consultant','consulting', 'program', 'manager', 'analyst', 'diplomat', 'organizer','public']:\n",
    "        if word in t:\n",
    "            title = 'business/gov'\n",
    "            break\n",
    "            \n",
    "    for word in ['executive', 'ceo', 'chief', 'director','president','vice', 'owner','partner','management','vp', 'finance','senior']: \n",
    "        if word in t:\n",
    "            title = 'leadership'\n",
    "            break\n",
    "   \n",
    "    for word in ['economics','economic', 'economist', 'researcher','research','scientist']:\n",
    "        if word in t: \n",
    "            title = 'science'\n",
    "            break       \n",
    "    \n",
    "    for word in ['not', 'information', 'requested','homemaker']:\n",
    "        if word in t: \n",
    "            title = 'not employed or unknown'\n",
    "            break   \n",
    "            \n",
    "    for word in ['cybersecurity', 'software', 'engineer', 'it', 'technology','web','technical']:\n",
    "        if word in t:\n",
    "            title ='it'\n",
    "            break\n",
    "            \n",
    "    for word in ['writer', 'communications','editor','author','musician', 'designer','artist','art']:\n",
    "        if word in t: \n",
    "            title = 'artist/comm'\n",
    "            break\n",
    "            \n",
    "    for word in ['realtor', 'estate', 'architect','chst']:\n",
    "        if word in t: \n",
    "            title = 'real estate/construction'\n",
    "            break   \n",
    "    \n",
    "    for word in ['sales', 'retail', 'supervisor']:\n",
    "        if word in t: \n",
    "            title = 'sales'\n",
    "            break   \n",
    "    if title not in ['not employed or unknown','law','business/gov','leadership','education','it','artist/comm','science','real estate/construction','healthcare','retired','sales']:\n",
    "        title = 'other'\n",
    "    return title.lower()\n",
    "\n",
    "\n"
   ]
  },
  {
   "cell_type": "code",
   "execution_count": 23,
   "metadata": {},
   "outputs": [
    {
     "data": {
      "text/plain": [
       "not employed or unknown     1990\n",
       "law                         1889\n",
       "business/gov                1869\n",
       "other                       1854\n",
       "leadership                  1300\n",
       "education                    527\n",
       "it                           485\n",
       "artist/comm                  451\n",
       "science                      387\n",
       "real estate/construction     372\n",
       "retired                      341\n",
       "healthcare                   296\n",
       "sales                        154\n",
       "Name: occ_cat, dtype: int64"
      ]
     },
     "execution_count": 23,
     "metadata": {},
     "output_type": "execute_result"
    }
   ],
   "source": [
    "df['occ_cat'] = df.contbr_occupation.apply(std_occ)\n",
    "df[['occ_cat', 'contbr_occupation']]\n",
    "df.occ_cat.value_counts()"
   ]
  },
  {
   "cell_type": "code",
   "execution_count": 24,
   "metadata": {},
   "outputs": [],
   "source": [
    "df.contbr_employer.fillna('none-listed', inplace=True)"
   ]
  },
  {
   "cell_type": "markdown",
   "metadata": {},
   "source": [
    "## Convert dates to Month and Year"
   ]
  },
  {
   "cell_type": "code",
   "execution_count": 25,
   "metadata": {},
   "outputs": [],
   "source": [
    "# convert receipt date to datetime format and then add second column called converted_date\n",
    "df.contb_receipt_dt = pd.to_datetime(df.contb_receipt_dt)"
   ]
  },
  {
   "cell_type": "code",
   "execution_count": 26,
   "metadata": {},
   "outputs": [
    {
     "data": {
      "text/plain": [
       "count                   11917\n",
       "unique                    379\n",
       "top       2019-09-30 00:00:00\n",
       "freq                      440\n",
       "first     2016-11-09 00:00:00\n",
       "last      2019-09-30 00:00:00\n",
       "Name: contb_receipt_dt, dtype: object"
      ]
     },
     "execution_count": 26,
     "metadata": {},
     "output_type": "execute_result"
    }
   ],
   "source": [
    "df.contb_receipt_dt.describe()"
   ]
  },
  {
   "cell_type": "code",
   "execution_count": 27,
   "metadata": {},
   "outputs": [],
   "source": [
    "df['converted_date'] = df.contb_receipt_dt.map(lambda x: 100*x.year + x.month)\n",
    "df['payment_yr'] = df.contb_receipt_dt.map(lambda x: x.year)"
   ]
  },
  {
   "cell_type": "markdown",
   "metadata": {},
   "source": [
    "## Drop unneeded features "
   ]
  },
  {
   "cell_type": "code",
   "execution_count": 28,
   "metadata": {},
   "outputs": [],
   "source": [
    "# tran_id is not a unique value \n",
    "df[df.duplicated(subset = 'tran_id', keep=False)]\n",
    "df = df.drop(['cand_id', 'file_num', 'contbr_nm','contb_receipt_dt','form_tp','election_tp','contbr_city', 'memo_cd', 'receipt_desc', 'contbr_st', 'memo_text','cmte_id', 'tran_id'], axis=1)\n",
    "\n"
   ]
  },
  {
   "cell_type": "markdown",
   "metadata": {},
   "source": [
    "## Look at different years "
   ]
  },
  {
   "cell_type": "code",
   "execution_count": 29,
   "metadata": {},
   "outputs": [],
   "source": [
    "df.sort_values(by=['payment_yr']);"
   ]
  },
  {
   "cell_type": "code",
   "execution_count": 30,
   "metadata": {},
   "outputs": [
    {
     "data": {
      "text/html": [
       "<div>\n",
       "<style scoped>\n",
       "    .dataframe tbody tr th:only-of-type {\n",
       "        vertical-align: middle;\n",
       "    }\n",
       "\n",
       "    .dataframe tbody tr th {\n",
       "        vertical-align: top;\n",
       "    }\n",
       "\n",
       "    .dataframe thead th {\n",
       "        text-align: right;\n",
       "    }\n",
       "</style>\n",
       "<table border=\"1\" class=\"dataframe\">\n",
       "  <thead>\n",
       "    <tr style=\"text-align: right;\">\n",
       "      <th></th>\n",
       "      <th></th>\n",
       "      <th>contb_receipt_amt</th>\n",
       "    </tr>\n",
       "    <tr>\n",
       "      <th>cand_nm</th>\n",
       "      <th>payment_yr</th>\n",
       "      <th></th>\n",
       "    </tr>\n",
       "  </thead>\n",
       "  <tbody>\n",
       "    <tr>\n",
       "      <th>Biden, Joseph R Jr</th>\n",
       "      <th>2019</th>\n",
       "      <td>455.352748</td>\n",
       "    </tr>\n",
       "    <tr>\n",
       "      <th>Buttigieg, Pete</th>\n",
       "      <th>2019</th>\n",
       "      <td>317.258267</td>\n",
       "    </tr>\n",
       "    <tr>\n",
       "      <th>Sanders, Bernard</th>\n",
       "      <th>2019</th>\n",
       "      <td>60.139579</td>\n",
       "    </tr>\n",
       "    <tr>\n",
       "      <th rowspan=\"4\" valign=\"top\">Trump, Donald J.</th>\n",
       "      <th>2016</th>\n",
       "      <td>881.250000</td>\n",
       "    </tr>\n",
       "    <tr>\n",
       "      <th>2017</th>\n",
       "      <td>213.578182</td>\n",
       "    </tr>\n",
       "    <tr>\n",
       "      <th>2018</th>\n",
       "      <td>106.153846</td>\n",
       "    </tr>\n",
       "    <tr>\n",
       "      <th>2019</th>\n",
       "      <td>115.982237</td>\n",
       "    </tr>\n",
       "    <tr>\n",
       "      <th rowspan=\"2\" valign=\"top\">Warren, Elizabeth</th>\n",
       "      <th>2018</th>\n",
       "      <td>358.500000</td>\n",
       "    </tr>\n",
       "    <tr>\n",
       "      <th>2019</th>\n",
       "      <td>101.565576</td>\n",
       "    </tr>\n",
       "  </tbody>\n",
       "</table>\n",
       "</div>"
      ],
      "text/plain": [
       "                               contb_receipt_amt\n",
       "cand_nm            payment_yr                   \n",
       "Biden, Joseph R Jr 2019               455.352748\n",
       "Buttigieg, Pete    2019               317.258267\n",
       "Sanders, Bernard   2019                60.139579\n",
       "Trump, Donald J.   2016               881.250000\n",
       "                   2017               213.578182\n",
       "                   2018               106.153846\n",
       "                   2019               115.982237\n",
       "Warren, Elizabeth  2018               358.500000\n",
       "                   2019               101.565576"
      ]
     },
     "execution_count": 30,
     "metadata": {},
     "output_type": "execute_result"
    }
   ],
   "source": [
    "df_grouped_yr = df.groupby(['cand_nm','payment_yr']).mean()\n",
    "df_grouped_yr[['contb_receipt_amt']]"
   ]
  },
  {
   "cell_type": "code",
   "execution_count": 31,
   "metadata": {},
   "outputs": [
    {
     "data": {
      "text/plain": [
       "11766"
      ]
     },
     "execution_count": 31,
     "metadata": {},
     "output_type": "execute_result"
    }
   ],
   "source": [
    "# filter out 2016, 2017, and 2018 \n",
    "df = df[df.payment_yr >= 2019]\n",
    "len(df)"
   ]
  },
  {
   "cell_type": "code",
   "execution_count": 32,
   "metadata": {},
   "outputs": [
    {
     "data": {
      "image/png": "[encoded data removed]",
      "text/plain": [
       "<Figure size 432x288 with 1 Axes>"
      ]
     },
     "metadata": {
      "needs_background": "light"
     },
     "output_type": "display_data"
    }
   ],
   "source": [
    "plt.scatter(df.contb_receipt_amt, df.cand_nm)\n",
    "plt.title('2019 Individual Contributions')\n",
    "plt.xlabel('Dollars')\n",
    "plt.show()"
   ]
  },
  {
   "cell_type": "code",
   "execution_count": 33,
   "metadata": {},
   "outputs": [
    {
     "data": {
      "text/plain": [
       "cand_nm\n",
       "Biden, Joseph R Jr    455.352748\n",
       "Buttigieg, Pete       317.258267\n",
       "Sanders, Bernard       60.139579\n",
       "Trump, Donald J.      115.982237\n",
       "Warren, Elizabeth     101.565576\n",
       "Name: contb_receipt_amt, dtype: float64"
      ]
     },
     "execution_count": 33,
     "metadata": {},
     "output_type": "execute_result"
    }
   ],
   "source": [
    "df_grouped_cand = df.groupby('cand_nm').mean()\n",
    "df_grouped_cand['contb_receipt_amt']"
   ]
  },
  {
   "cell_type": "code",
   "execution_count": 34,
   "metadata": {},
   "outputs": [
    {
     "data": {
      "text/plain": [
       "Buttigieg, Pete       3750\n",
       "Warren, Elizabeth     3612\n",
       "Sanders, Bernard      2829\n",
       "Biden, Joseph R Jr    1423\n",
       "Trump, Donald J.       152\n",
       "Name: cand_nm, dtype: int64"
      ]
     },
     "execution_count": 34,
     "metadata": {},
     "output_type": "execute_result"
    }
   ],
   "source": [
    "df.cand_nm.value_counts()"
   ]
  },
  {
   "cell_type": "markdown",
   "metadata": {},
   "source": [
    "## Save as CSV file "
   ]
  },
  {
   "cell_type": "code",
   "execution_count": 35,
   "metadata": {},
   "outputs": [],
   "source": [
    "df.to_csv('clean_data/2019-all-contributions.csv')"
   ]
  },
  {
   "cell_type": "code",
   "execution_count": 36,
   "metadata": {},
   "outputs": [],
   "source": [
    "df_dems = df[df.cand_nm != 'Trump, Donald J.']"
   ]
  },
  {
   "cell_type": "code",
   "execution_count": 37,
   "metadata": {},
   "outputs": [],
   "source": [
    "df_dems.to_csv('clean_data/2019-dems-contributions.csv')"
   ]
  },
  {
   "cell_type": "code",
   "execution_count": null,
   "metadata": {},
   "outputs": [],
   "source": []
  },
  {
   "cell_type": "code",
   "execution_count": null,
   "metadata": {},
   "outputs": [],
   "source": []
  }
 ],
 "metadata": {
  "kernelspec": {
   "display_name": "Python 3",
   "language": "python",
   "name": "python3"
  },
  "language_info": {
   "codemirror_mode": {
    "name": "ipython",
    "version": 3
   },
   "file_extension": ".py",
   "mimetype": "text/x-python",
   "name": "python",
   "nbconvert_exporter": "python",
   "pygments_lexer": "ipython3",
   "version": "3.7.3"
  }
 },
 "nbformat": 4,
 "nbformat_minor": 2
}
