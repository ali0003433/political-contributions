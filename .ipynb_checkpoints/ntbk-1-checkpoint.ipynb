{
 "cells": [
  {
   "cell_type": "markdown",
   "metadata": {},
   "source": [
    "# Technical Notebook 1 - Cleaning data"
   ]
  },
  {
   "cell_type": "markdown",
   "metadata": {},
   "source": [
    "## Read in data"
   ]
  },
  {
   "cell_type": "code",
   "execution_count": 2,
   "metadata": {},
   "outputs": [],
   "source": [
    "import pandas as pd\n",
    "import matplotlib.pyplot as plt\n",
    "import math\n",
    "import numpy as np\n",
    "import datetime\n",
    "from occupation import std_occ\n"
   ]
  },
  {
   "cell_type": "code",
   "execution_count": 3,
   "metadata": {},
   "outputs": [
    {
     "name": "stdout",
     "output_type": "stream",
     "text": [
      "Num of cand_id: 28 Num of cmte_id: 28 Num of cand_nm: 28\n",
      "Shape: (19875, 18)\n"
     ]
    }
   ],
   "source": [
    "df = pd.read_csv('raw_data/2019-10-18-DC.csv', index_col=False, na_values=[99999])\n",
    "\n",
    "print('Num of cand_id:',len(df['cand_id'].unique()), \n",
    "      'Num of cmte_id:', len(df['cmte_id'].unique()),\n",
    "      'Num of cand_nm:', len(df['cand_nm'].unique()))\n",
    "print('Shape:', df.shape)"
   ]
  },
  {
   "cell_type": "markdown",
   "metadata": {},
   "source": [
    "## Remove all candidates except top 5 in national polls"
   ]
  },
  {
   "cell_type": "code",
   "execution_count": 5,
   "metadata": {},
   "outputs": [
    {
     "name": "stdout",
     "output_type": "stream",
     "text": [
      "5\n"
     ]
    }
   ],
   "source": [
    "print(len(df.cand_nm.unique()))"
   ]
  },
  {
   "cell_type": "code",
   "execution_count": 6,
   "metadata": {},
   "outputs": [
    {
     "name": "stdout",
     "output_type": "stream",
     "text": [
      "Num of candidates: 5\n"
     ]
    }
   ],
   "source": [
    "cand_list = ['Warren, Elizabeth ', \n",
    "             'Trump, Donald J.', \n",
    "             'Sanders, Bernard', \n",
    "             'Buttigieg, Pete', \n",
    "             'Biden, Joseph R Jr']\n",
    "df = df.loc[df.cand_nm.isin(cand_list)]\n",
    "print('Num of candidates:', len(df.cand_nm.unique()))\n"
   ]
  },
  {
   "cell_type": "markdown",
   "metadata": {},
   "source": [
    "## Clean form type"
   ]
  },
  {
   "cell_type": "code",
   "execution_count": null,
   "metadata": {},
   "outputs": [],
   "source": [
    "print(df.form_tp.value_counts())"
   ]
  },
  {
   "cell_type": "code",
   "execution_count": null,
   "metadata": {},
   "outputs": [],
   "source": [
    "# check which candidates have the instances of SB28A (refunds)\n",
    "# Buttigieg (88), Biden (62), Sanders (38), Warren (18), Trump (0)\n",
    "df.loc[df.form_tp == 'SB28A'].groupby('cand_nm').count();"
   ]
  },
  {
   "cell_type": "code",
   "execution_count": null,
   "metadata": {},
   "outputs": [],
   "source": [
    "# drop the refunds (SB28A)\n",
    "df = df[df.form_tp != 'SB28A']\n",
    "\n",
    "# drop all contributions from committees (SA18) \n",
    "df= df[df.form_tp != 'SA18']"
   ]
  },
  {
   "cell_type": "code",
   "execution_count": null,
   "metadata": {},
   "outputs": [],
   "source": [
    "print(df.form_tp.value_counts())"
   ]
  },
  {
   "cell_type": "markdown",
   "metadata": {},
   "source": [
    "## Clean city names "
   ]
  },
  {
   "cell_type": "code",
   "execution_count": null,
   "metadata": {},
   "outputs": [],
   "source": [
    "print(df.contbr_city.value_counts())"
   ]
  },
  {
   "cell_type": "code",
   "execution_count": null,
   "metadata": {},
   "outputs": [],
   "source": [
    "# change bolling afb and washingt to washington\n",
    "ind_err = df.loc[(df.contbr_city == 'WASHINGT') |(df.contbr_city == 'BOLLING AFB')].index\n",
    "for ind in list(ind_err):\n",
    "    df.contbr_city[ind] = 'WASHINGTON'    \n",
    "\n",
    "# both are in Delaware \n",
    "df.loc[df.contbr_city == 'GREENVILLE']\n",
    "df.loc[df.contbr_city == 'BEAR']\n",
    "df.contbr_city.value_counts()\n",
    "\n",
    "# remove Delaware cities \n",
    "df = df.loc[df.contbr_city == 'WASHINGTON']"
   ]
  },
  {
   "cell_type": "code",
   "execution_count": null,
   "metadata": {},
   "outputs": [],
   "source": [
    "print(df.contbr_city.value_counts())"
   ]
  },
  {
   "cell_type": "markdown",
   "metadata": {},
   "source": [
    "## Clean zip codes "
   ]
  },
  {
   "cell_type": "code",
   "execution_count": 7,
   "metadata": {},
   "outputs": [],
   "source": [
    "df.loc[(df.contbr_zip.isna() != False)]                         \n",
    "df.loc[df.contbr_nm == 'THOMPSON, KENNETH D JR', 'contbr_zip'] = 20001"
   ]
  },
  {
   "cell_type": "code",
   "execution_count": 8,
   "metadata": {},
   "outputs": [
    {
     "name": "stdout",
     "output_type": "stream",
     "text": [
      "58\n"
     ]
    }
   ],
   "source": [
    "df['contbr_zip'] = df.contbr_zip.astype('str')\n",
    "df.contbr_zip = df['contbr_zip'].apply(lambda x: x[0:5])\n",
    "print(len(df.contbr_zip.unique()))"
   ]
  },
  {
   "cell_type": "code",
   "execution_count": 9,
   "metadata": {},
   "outputs": [
    {
     "name": "stdout",
     "output_type": "stream",
     "text": [
      "Null zip codes: 0\n"
     ]
    }
   ],
   "source": [
    "print('Null zip codes:', df.contbr_zip.isna().sum())"
   ]
  },
  {
   "cell_type": "code",
   "execution_count": 10,
   "metadata": {},
   "outputs": [
    {
     "name": "stdout",
     "output_type": "stream",
     "text": [
      "['20008' '20007' '20016' '20017' '20006' '20003' '20010' '20037' 'nan'\n",
      " '20004' '20019' '20002' '20015' '20001' '20009' '20036' '19701' '20032'\n",
      " '20024' '20013' '20018' '20011' '20005' '20012' '20552' '20212' '20526'\n",
      " '20301' '20540' '20020' '22205' '25413' '20585' '20057' '20375' '20472'\n",
      " '20270' '20026' '20229' '20420' '20591' '20500' '20210' '20038' '62864'\n",
      " '14000' '20224' '20044' '10036' '20052' '20855' '94123' '20014' '20027'\n",
      " '19807' '20577' '11217' '20035']\n"
     ]
    },
    {
     "data": {
      "text/plain": [
       "58"
      ]
     },
     "execution_count": 10,
     "metadata": {},
     "output_type": "execute_result"
    }
   ],
   "source": [
    "print(df.contbr_zip.unique())\n",
    "len(df.contbr_zip.unique()) # 48 unique zip codes "
   ]
  },
  {
   "cell_type": "code",
   "execution_count": 11,
   "metadata": {},
   "outputs": [],
   "source": [
    "# (df.contbr_zip == '11217')].index)\n",
    "df = df[df.contbr_zip != '10036']\n",
    "df = df[df.contbr_zip !='11217']"
   ]
  },
  {
   "cell_type": "code",
   "execution_count": 12,
   "metadata": {},
   "outputs": [
    {
     "data": {
      "text/plain": [
       "56"
      ]
     },
     "execution_count": 12,
     "metadata": {},
     "output_type": "execute_result"
    }
   ],
   "source": [
    "len(df.contbr_zip.unique())"
   ]
  },
  {
   "cell_type": "markdown",
   "metadata": {},
   "source": [
    "## Clean contribution amounts"
   ]
  },
  {
   "cell_type": "code",
   "execution_count": 13,
   "metadata": {},
   "outputs": [
    {
     "name": "stdout",
     "output_type": "stream",
     "text": [
      "Min contribution: $ 0.01\n"
     ]
    }
   ],
   "source": [
    "# filter out negative values\n",
    "df = df.loc[df.contb_receipt_amt > 0]\n",
    "print('Min contribution: $', df.contb_receipt_amt.min())"
   ]
  },
  {
   "cell_type": "code",
   "execution_count": 14,
   "metadata": {},
   "outputs": [
    {
     "name": "stdout",
     "output_type": "stream",
     "text": [
      "Max contribution: $ 2800.0\n"
     ]
    }
   ],
   "source": [
    "# filter out values over legal limit of $2800\n",
    "df = df.loc[df.contb_receipt_amt <= 2800]\n",
    "print('Max contribution: $', df.contb_receipt_amt.max())"
   ]
  },
  {
   "cell_type": "code",
   "execution_count": 15,
   "metadata": {},
   "outputs": [
    {
     "data": {
      "text/plain": [
       "count    12735.000000\n",
       "mean       203.357765\n",
       "std        472.956040\n",
       "min          0.010000\n",
       "25%         25.000000\n",
       "50%         50.000000\n",
       "75%        100.000000\n",
       "max       2800.000000\n",
       "Name: contb_receipt_amt, dtype: float64"
      ]
     },
     "execution_count": 15,
     "metadata": {},
     "output_type": "execute_result"
    }
   ],
   "source": [
    "df.contb_receipt_amt.describe()"
   ]
  },
  {
   "cell_type": "markdown",
   "metadata": {},
   "source": [
    "## Clean occupations"
   ]
  },
  {
   "cell_type": "code",
   "execution_count": 16,
   "metadata": {},
   "outputs": [
    {
     "name": "stdout",
     "output_type": "stream",
     "text": [
      "1014\n"
     ]
    }
   ],
   "source": [
    "print(len(df.contbr_occupation.unique()))\n"
   ]
  },
  {
   "cell_type": "code",
   "execution_count": 19,
   "metadata": {},
   "outputs": [
    {
     "data": {
      "text/plain": [
       "not employed or unknown     2074\n",
       "other                       2030\n",
       "business/gov                1932\n",
       "law                         1929\n",
       "leadership                  1341\n",
       "retired                      616\n",
       "education                    531\n",
       "it                           514\n",
       "artist/comm                  481\n",
       "science                      424\n",
       "real estate/construction     374\n",
       "healthcare                   330\n",
       "sales                        154\n",
       "Name: occ_cat, dtype: int64"
      ]
     },
     "execution_count": 19,
     "metadata": {},
     "output_type": "execute_result"
    }
   ],
   "source": [
    "# apply std_occ function to standardize occupation from occupation.py file\n",
    "df['occ_cat'] = df.contbr_occupation.apply(std_occ)\n",
    "df[['occ_cat', 'contbr_occupation']]\n",
    "df.occ_cat.value_counts()"
   ]
  },
  {
   "cell_type": "code",
   "execution_count": 20,
   "metadata": {},
   "outputs": [],
   "source": [
    "df.contbr_employer.fillna('none-listed', inplace=True)"
   ]
  },
  {
   "cell_type": "markdown",
   "metadata": {},
   "source": [
    "## Convert dates to Month and Year"
   ]
  },
  {
   "cell_type": "code",
   "execution_count": 21,
   "metadata": {},
   "outputs": [],
   "source": [
    "# convert receipt date to datetime format and then add second column called converted_date\n",
    "df.contb_receipt_dt = pd.to_datetime(df.contb_receipt_dt)"
   ]
  },
  {
   "cell_type": "code",
   "execution_count": 22,
   "metadata": {},
   "outputs": [
    {
     "data": {
      "text/plain": [
       "count                   12735\n",
       "unique                    529\n",
       "top       2019-09-30 00:00:00\n",
       "freq                      465\n",
       "first     2016-10-06 00:00:00\n",
       "last      2019-09-30 00:00:00\n",
       "Name: contb_receipt_dt, dtype: object"
      ]
     },
     "execution_count": 22,
     "metadata": {},
     "output_type": "execute_result"
    }
   ],
   "source": [
    "df.contb_receipt_dt.describe()"
   ]
  },
  {
   "cell_type": "code",
   "execution_count": 23,
   "metadata": {},
   "outputs": [],
   "source": [
    "df['converted_date'] = df.contb_receipt_dt.map(lambda x: 100*x.year + x.month)\n",
    "df['payment_yr'] = df.contb_receipt_dt.map(lambda x: x.year)"
   ]
  },
  {
   "cell_type": "markdown",
   "metadata": {},
   "source": [
    "## Drop unneeded features "
   ]
  },
  {
   "cell_type": "code",
   "execution_count": 24,
   "metadata": {},
   "outputs": [],
   "source": [
    "# tran_id is not a unique value \n",
    "df[df.duplicated(subset = 'tran_id', keep=False)]\n",
    "df = df.drop(['cand_id', \n",
    "              'file_num', \n",
    "              'contbr_nm',\n",
    "              'contb_receipt_dt',\n",
    "              'form_tp',\n",
    "              'election_tp',\n",
    "              'contbr_city', \n",
    "              'memo_cd', \n",
    "              'receipt_desc', \n",
    "              'contbr_st', \n",
    "              'memo_text',\n",
    "              'cmte_id', \n",
    "              'tran_id'\n",
    "             ], \n",
    "        axis=1)\n"
   ]
  },
  {
   "cell_type": "markdown",
   "metadata": {},
   "source": [
    "## Examine years "
   ]
  },
  {
   "cell_type": "code",
   "execution_count": 25,
   "metadata": {},
   "outputs": [],
   "source": [
    "df.sort_values(by=['payment_yr']);"
   ]
  },
  {
   "cell_type": "code",
   "execution_count": 26,
   "metadata": {},
   "outputs": [
    {
     "data": {
      "text/html": [
       "<div>\n",
       "<style scoped>\n",
       "    .dataframe tbody tr th:only-of-type {\n",
       "        vertical-align: middle;\n",
       "    }\n",
       "\n",
       "    .dataframe tbody tr th {\n",
       "        vertical-align: top;\n",
       "    }\n",
       "\n",
       "    .dataframe thead th {\n",
       "        text-align: right;\n",
       "    }\n",
       "</style>\n",
       "<table border=\"1\" class=\"dataframe\">\n",
       "  <thead>\n",
       "    <tr style=\"text-align: right;\">\n",
       "      <th></th>\n",
       "      <th></th>\n",
       "      <th>contb_receipt_amt</th>\n",
       "    </tr>\n",
       "    <tr>\n",
       "      <th>cand_nm</th>\n",
       "      <th>payment_yr</th>\n",
       "      <th></th>\n",
       "    </tr>\n",
       "  </thead>\n",
       "  <tbody>\n",
       "    <tr>\n",
       "      <th>Biden, Joseph R Jr</th>\n",
       "      <th>2019</th>\n",
       "      <td>455.352748</td>\n",
       "    </tr>\n",
       "    <tr>\n",
       "      <th>Buttigieg, Pete</th>\n",
       "      <th>2019</th>\n",
       "      <td>317.258267</td>\n",
       "    </tr>\n",
       "    <tr>\n",
       "      <th>Sanders, Bernard</th>\n",
       "      <th>2019</th>\n",
       "      <td>60.139579</td>\n",
       "    </tr>\n",
       "    <tr>\n",
       "      <th rowspan=\"4\" valign=\"top\">Trump, Donald J.</th>\n",
       "      <th>2016</th>\n",
       "      <td>159.666209</td>\n",
       "    </tr>\n",
       "    <tr>\n",
       "      <th>2017</th>\n",
       "      <td>282.718235</td>\n",
       "    </tr>\n",
       "    <tr>\n",
       "      <th>2018</th>\n",
       "      <td>115.706761</td>\n",
       "    </tr>\n",
       "    <tr>\n",
       "      <th>2019</th>\n",
       "      <td>209.085520</td>\n",
       "    </tr>\n",
       "    <tr>\n",
       "      <th rowspan=\"2\" valign=\"top\">Warren, Elizabeth</th>\n",
       "      <th>2018</th>\n",
       "      <td>358.500000</td>\n",
       "    </tr>\n",
       "    <tr>\n",
       "      <th>2019</th>\n",
       "      <td>101.565576</td>\n",
       "    </tr>\n",
       "  </tbody>\n",
       "</table>\n",
       "</div>"
      ],
      "text/plain": [
       "                               contb_receipt_amt\n",
       "cand_nm            payment_yr                   \n",
       "Biden, Joseph R Jr 2019               455.352748\n",
       "Buttigieg, Pete    2019               317.258267\n",
       "Sanders, Bernard   2019                60.139579\n",
       "Trump, Donald J.   2016               159.666209\n",
       "                   2017               282.718235\n",
       "                   2018               115.706761\n",
       "                   2019               209.085520\n",
       "Warren, Elizabeth  2018               358.500000\n",
       "                   2019               101.565576"
      ]
     },
     "execution_count": 26,
     "metadata": {},
     "output_type": "execute_result"
    }
   ],
   "source": [
    "df_grouped_yr = df.groupby(['cand_nm','payment_yr']).mean()\n",
    "df_grouped_yr[['contb_receipt_amt']]"
   ]
  },
  {
   "cell_type": "code",
   "execution_count": 27,
   "metadata": {},
   "outputs": [
    {
     "data": {
      "text/plain": [
       "12143"
      ]
     },
     "execution_count": 27,
     "metadata": {},
     "output_type": "execute_result"
    }
   ],
   "source": [
    "# filter out 2016, 2017, and 2018 \n",
    "df = df[df.payment_yr >= 2019]\n",
    "len(df)"
   ]
  },
  {
   "cell_type": "code",
   "execution_count": 28,
   "metadata": {},
   "outputs": [
    {
     "data": {
      "image/png": "[encoded data removed]",
      "text/plain": [
       "<Figure size 432x288 with 1 Axes>"
      ]
     },
     "metadata": {
      "needs_background": "light"
     },
     "output_type": "display_data"
    }
   ],
   "source": [
    "# graph average contribution by candidate \n",
    "plt.scatter(df.contb_receipt_amt, df.cand_nm)\n",
    "plt.title('2019 Individual Average Contribution')\n",
    "plt.xlabel('Dollars')\n",
    "plt.show()"
   ]
  },
  {
   "cell_type": "code",
   "execution_count": 29,
   "metadata": {},
   "outputs": [
    {
     "data": {
      "text/plain": [
       "cand_nm\n",
       "Biden, Joseph R Jr    455.352748\n",
       "Buttigieg, Pete       317.258267\n",
       "Sanders, Bernard       60.139579\n",
       "Trump, Donald J.      209.085520\n",
       "Warren, Elizabeth     101.565576\n",
       "Name: contb_receipt_amt, dtype: float64"
      ]
     },
     "execution_count": 29,
     "metadata": {},
     "output_type": "execute_result"
    }
   ],
   "source": [
    "df_grouped_cand = df.groupby('cand_nm').mean()\n",
    "df_grouped_cand['contb_receipt_amt']"
   ]
  },
  {
   "cell_type": "code",
   "execution_count": 30,
   "metadata": {},
   "outputs": [
    {
     "data": {
      "text/plain": [
       "Buttigieg, Pete       3750\n",
       "Warren, Elizabeth     3612\n",
       "Sanders, Bernard      2829\n",
       "Biden, Joseph R Jr    1423\n",
       "Trump, Donald J.       529\n",
       "Name: cand_nm, dtype: int64"
      ]
     },
     "execution_count": 30,
     "metadata": {},
     "output_type": "execute_result"
    }
   ],
   "source": [
    "df.cand_nm.value_counts()"
   ]
  },
  {
   "cell_type": "code",
   "execution_count": 31,
   "metadata": {},
   "outputs": [],
   "source": [
    "df_hi = df.loc[df.contb_receipt_amt == 2.7]"
   ]
  },
  {
   "cell_type": "markdown",
   "metadata": {},
   "source": [
    "## Save as CSV file "
   ]
  },
  {
   "cell_type": "code",
   "execution_count": 32,
   "metadata": {},
   "outputs": [],
   "source": [
    "df.to_csv('clean_data/2019-all-contributions.csv')"
   ]
  },
  {
   "cell_type": "code",
   "execution_count": 33,
   "metadata": {},
   "outputs": [],
   "source": [
    "df_dems = df[df.cand_nm != 'Trump, Donald J.']"
   ]
  },
  {
   "cell_type": "code",
   "execution_count": 34,
   "metadata": {},
   "outputs": [],
   "source": [
    "df_dems.to_csv('clean_data/2019-dems-contributions.csv')"
   ]
  }
 ],
 "metadata": {
  "kernelspec": {
   "display_name": "Python 3",
   "language": "python",
   "name": "python3"
  },
  "language_info": {
   "codemirror_mode": {
    "name": "ipython",
    "version": 3
   },
   "file_extension": ".py",
   "mimetype": "text/x-python",
   "name": "python",
   "nbconvert_exporter": "python",
   "pygments_lexer": "ipython3",
   "version": "3.7.3"
  }
 },
 "nbformat": 4,
 "nbformat_minor": 2
}
