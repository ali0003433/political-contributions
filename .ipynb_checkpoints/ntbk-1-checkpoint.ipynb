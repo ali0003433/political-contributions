{
 "cells": [
  {
   "cell_type": "markdown",
   "metadata": {},
   "source": [
    "## Read in data"
   ]
  },
  {
   "cell_type": "code",
   "execution_count": 1,
   "metadata": {},
   "outputs": [],
   "source": [
    "import pandas as pd\n",
    "import matplotlib.pyplot as plt\n",
    "import math\n",
    "import numpy as np\n",
    "import datetime\n"
   ]
  },
  {
   "cell_type": "code",
   "execution_count": 10,
   "metadata": {},
   "outputs": [
    {
     "name": "stdout",
     "output_type": "stream",
     "text": [
      "Num of cand_id: 28 Num of cmte_id: 28 Num of cand_nm: 28\n",
      "Shape: (19875, 18)\n"
     ]
    }
   ],
   "source": [
    "df = pd.read_csv('raw_data/2019-10-18-DC.csv', index_col=False, na_values=[99999])\n",
    "\n",
    "print('Num of cand_id:',len(df['cand_id'].unique()), 'Num of cmte_id:', len(df['cmte_id'].unique()),'Num of cand_nm:', len(df['cand_nm'].unique()))\n",
    "print('Shape:', df.shape)"
   ]
  },
  {
   "cell_type": "markdown",
   "metadata": {},
   "source": [
    "## Remove all candidates except top 5 in national polls"
   ]
  },
  {
   "cell_type": "code",
   "execution_count": 11,
   "metadata": {},
   "outputs": [
    {
     "name": "stdout",
     "output_type": "stream",
     "text": [
      "28\n"
     ]
    }
   ],
   "source": [
    "print(len(df.cand_nm.unique()))"
   ]
  },
  {
   "cell_type": "code",
   "execution_count": 12,
   "metadata": {},
   "outputs": [
    {
     "name": "stdout",
     "output_type": "stream",
     "text": [
      "Num of candidates: 5\n"
     ]
    }
   ],
   "source": [
    "cand_list = ['Warren, Elizabeth ', 'Trump, Donald J.', 'Sanders, Bernard', 'Buttigieg, Pete', 'Biden, Joseph R Jr']\n",
    "df = df.loc[df.cand_nm.isin(cand_list)]\n",
    "print('Num of candidates:', len(df.cand_nm.unique()))\n"
   ]
  },
  {
   "cell_type": "markdown",
   "metadata": {},
   "source": [
    "## Clean form type"
   ]
  },
  {
   "cell_type": "code",
   "execution_count": 13,
   "metadata": {},
   "outputs": [
    {
     "name": "stdout",
     "output_type": "stream",
     "text": [
      "SA17A    12029\n",
      "SA18       903\n",
      "SB28A      206\n",
      "Name: form_tp, dtype: int64\n"
     ]
    }
   ],
   "source": [
    "print(df.form_tp.value_counts())"
   ]
  },
  {
   "cell_type": "code",
   "execution_count": 14,
   "metadata": {},
   "outputs": [],
   "source": [
    "# check which candidates have the instances of SB28A (refunds)\n",
    "# Buttigieg (88), Biden (62), Sanders (38), Warren (18), Trump (0)\n",
    "df.loc[df.form_tp == 'SB28A'].groupby('cand_nm').count();"
   ]
  },
  {
   "cell_type": "code",
   "execution_count": 15,
   "metadata": {},
   "outputs": [],
   "source": [
    "# drop the refunds (SB28A)\n",
    "df = df[df.form_tp != 'SB28A']\n",
    "\n",
    "# drop all contributions from committees (SA18) \n",
    "df= df[df.form_tp != 'SA18']"
   ]
  },
  {
   "cell_type": "code",
   "execution_count": 16,
   "metadata": {},
   "outputs": [
    {
     "name": "stdout",
     "output_type": "stream",
     "text": [
      "SA17A    12029\n",
      "Name: form_tp, dtype: int64\n"
     ]
    }
   ],
   "source": [
    "print(df.form_tp.value_counts())"
   ]
  },
  {
   "cell_type": "markdown",
   "metadata": {},
   "source": [
    "## Clean city names "
   ]
  },
  {
   "cell_type": "code",
   "execution_count": 17,
   "metadata": {},
   "outputs": [
    {
     "name": "stdout",
     "output_type": "stream",
     "text": [
      "WASHINGTON     12011\n",
      "BOLLING AFB       11\n",
      "BEAR               5\n",
      "WASHINGT           1\n",
      "GREENVILLE         1\n",
      "Name: contbr_city, dtype: int64\n"
     ]
    }
   ],
   "source": [
    "print(df.contbr_city.value_counts())"
   ]
  },
  {
   "cell_type": "code",
   "execution_count": 18,
   "metadata": {},
   "outputs": [
    {
     "name": "stderr",
     "output_type": "stream",
     "text": [
      "/Users/alyssaliguori/anaconda3/lib/python3.7/site-packages/ipykernel_launcher.py:4: SettingWithCopyWarning: \n",
      "A value is trying to be set on a copy of a slice from a DataFrame\n",
      "\n",
      "See the caveats in the documentation: http://pandas.pydata.org/pandas-docs/stable/indexing.html#indexing-view-versus-copy\n",
      "  after removing the cwd from sys.path.\n"
     ]
    }
   ],
   "source": [
    "# change bolling afb and washingt to washington\n",
    "ind_err = df.loc[(df.contbr_city == 'WASHINGT') |(df.contbr_city == 'BOLLING AFB')].index\n",
    "for ind in list(ind_err):\n",
    "    df.contbr_city[ind] = 'WASHINGTON'    \n",
    "\n",
    "# both are in Delaware \n",
    "df.loc[df.contbr_city == 'GREENVILLE']\n",
    "df.loc[df.contbr_city == 'BEAR']\n",
    "df.contbr_city.value_counts()\n",
    "\n",
    "# remove Delaware cities \n",
    "df = df.loc[df.contbr_city == 'WASHINGTON']"
   ]
  },
  {
   "cell_type": "code",
   "execution_count": 19,
   "metadata": {},
   "outputs": [
    {
     "name": "stdout",
     "output_type": "stream",
     "text": [
      "WASHINGTON    12023\n",
      "Name: contbr_city, dtype: int64\n"
     ]
    }
   ],
   "source": [
    "print(df.contbr_city.value_counts())"
   ]
  },
  {
   "cell_type": "markdown",
   "metadata": {},
   "source": [
    "## Clean zip codes "
   ]
  },
  {
   "cell_type": "code",
   "execution_count": 20,
   "metadata": {},
   "outputs": [],
   "source": [
    "df.loc[(df.contbr_zip.isna() != False)]                         \n",
    "df.loc[df.contbr_nm == 'THOMPSON, KENNETH D JR', 'contbr_zip'] = 20001"
   ]
  },
  {
   "cell_type": "code",
   "execution_count": 21,
   "metadata": {},
   "outputs": [
    {
     "name": "stdout",
     "output_type": "stream",
     "text": [
      "50\n"
     ]
    }
   ],
   "source": [
    "df['contbr_zip'] = df.contbr_zip.astype('str')\n",
    "df.contbr_zip = df['contbr_zip'].apply(lambda x: x[0:5])\n",
    "print(len(df.contbr_zip.unique()))"
   ]
  },
  {
   "cell_type": "code",
   "execution_count": 22,
   "metadata": {},
   "outputs": [
    {
     "name": "stdout",
     "output_type": "stream",
     "text": [
      "Null zip codes: 0\n"
     ]
    }
   ],
   "source": [
    "print('Null zip codes:', df.contbr_zip.isna().sum())"
   ]
  },
  {
   "cell_type": "code",
   "execution_count": 23,
   "metadata": {},
   "outputs": [
    {
     "name": "stdout",
     "output_type": "stream",
     "text": [
      "['20008' '20007' '20037' '20003' '20016' '20001' '20009' '20006' '20013'\n",
      " '20018' '20010' '20002' '20024' '20011' '20005' '20015' '20012' '20552'\n",
      " '20212' '20004' '20036' '20019' '20526' '20017' '20301' '20540' '20032'\n",
      " '20020' '22205' '25413' '20585' '20057' '20375' '20472' '20270' '20026'\n",
      " '20229' '20420' '20591' '20500' '20210' '20038' '20044' '10036' '20014'\n",
      " '20027' '20577' '11217' '20052' '20035']\n"
     ]
    },
    {
     "data": {
      "text/plain": [
       "50"
      ]
     },
     "execution_count": 23,
     "metadata": {},
     "output_type": "execute_result"
    }
   ],
   "source": [
    "print(df.contbr_zip.unique())\n",
    "len(df.contbr_zip.unique()) # 48 unique zip codes "
   ]
  },
  {
   "cell_type": "code",
   "execution_count": 7,
   "metadata": {},
   "outputs": [
    {
     "ename": "NameError",
     "evalue": "name 'df' is not defined",
     "output_type": "error",
     "traceback": [
      "\u001b[0;31m---------------------------------------------------------------------------\u001b[0m",
      "\u001b[0;31mNameError\u001b[0m                                 Traceback (most recent call last)",
      "\u001b[0;32m<ipython-input-7-0464edb2ddba>\u001b[0m in \u001b[0;36m<module>\u001b[0;34m\u001b[0m\n\u001b[1;32m      1\u001b[0m \u001b[0;31m# (df.contbr_zip == '11217')].index)\u001b[0m\u001b[0;34m\u001b[0m\u001b[0;34m\u001b[0m\u001b[0;34m\u001b[0m\u001b[0m\n\u001b[0;32m----> 2\u001b[0;31m \u001b[0mdf\u001b[0m \u001b[0;34m=\u001b[0m \u001b[0mdf\u001b[0m\u001b[0;34m[\u001b[0m\u001b[0mdf\u001b[0m\u001b[0;34m.\u001b[0m\u001b[0mcontbr_zip\u001b[0m \u001b[0;34m!=\u001b[0m \u001b[0;34m'10036'\u001b[0m\u001b[0;34m]\u001b[0m\u001b[0;34m\u001b[0m\u001b[0;34m\u001b[0m\u001b[0m\n\u001b[0m\u001b[1;32m      3\u001b[0m \u001b[0mdf\u001b[0m \u001b[0;34m=\u001b[0m \u001b[0mdf\u001b[0m\u001b[0;34m[\u001b[0m\u001b[0mdf\u001b[0m\u001b[0;34m.\u001b[0m\u001b[0mcontbr_zip\u001b[0m \u001b[0;34m!=\u001b[0m\u001b[0;34m'11217'\u001b[0m\u001b[0;34m]\u001b[0m\u001b[0;34m\u001b[0m\u001b[0;34m\u001b[0m\u001b[0m\n",
      "\u001b[0;31mNameError\u001b[0m: name 'df' is not defined"
     ]
    }
   ],
   "source": [
    "# (df.contbr_zip == '11217')].index)\n",
    "df = df[df.contbr_zip != '10036']\n",
    "df = df[df.contbr_zip !='11217']\n"
   ]
  },
  {
   "cell_type": "code",
   "execution_count": 8,
   "metadata": {},
   "outputs": [
    {
     "ename": "NameError",
     "evalue": "name 'df' is not defined",
     "output_type": "error",
     "traceback": [
      "\u001b[0;31m---------------------------------------------------------------------------\u001b[0m",
      "\u001b[0;31mNameError\u001b[0m                                 Traceback (most recent call last)",
      "\u001b[0;32m<ipython-input-8-21d725bc3f6b>\u001b[0m in \u001b[0;36m<module>\u001b[0;34m\u001b[0m\n\u001b[0;32m----> 1\u001b[0;31m \u001b[0mlen\u001b[0m\u001b[0;34m(\u001b[0m\u001b[0mdf\u001b[0m\u001b[0;34m.\u001b[0m\u001b[0mcontbr_zip\u001b[0m\u001b[0;34m.\u001b[0m\u001b[0munique\u001b[0m\u001b[0;34m(\u001b[0m\u001b[0;34m)\u001b[0m\u001b[0;34m)\u001b[0m\u001b[0;34m\u001b[0m\u001b[0;34m\u001b[0m\u001b[0m\n\u001b[0m",
      "\u001b[0;31mNameError\u001b[0m: name 'df' is not defined"
     ]
    }
   ],
   "source": [
    "len(df.contbr_zip.unique())"
   ]
  },
  {
   "cell_type": "markdown",
   "metadata": {},
   "source": [
    "## Clean contribution amounts"
   ]
  },
  {
   "cell_type": "code",
   "execution_count": null,
   "metadata": {},
   "outputs": [],
   "source": [
    "# filter out negative values\n",
    "df = df.loc[df.contb_receipt_amt > 0]\n",
    "print('Min contribution: $', df.contb_receipt_amt.min())"
   ]
  },
  {
   "cell_type": "code",
   "execution_count": null,
   "metadata": {},
   "outputs": [],
   "source": [
    "# filter out values over legal limit\n",
    "df = df.loc[df.contb_receipt_amt <= 2800]\n",
    "print('Max contribution: $', df.contb_receipt_amt.max())"
   ]
  },
  {
   "cell_type": "code",
   "execution_count": null,
   "metadata": {},
   "outputs": [],
   "source": [
    "df.contb_receipt_amt.describe()"
   ]
  },
  {
   "cell_type": "markdown",
   "metadata": {},
   "source": [
    "## Clean occupations"
   ]
  },
  {
   "cell_type": "code",
   "execution_count": null,
   "metadata": {},
   "outputs": [],
   "source": [
    "print(len(df.contbr_occupation.unique()))\n",
    "print(df.contbr_occupation.dtype)\n",
    "df.contbr_occupation.unique()[0:30]\n",
    "len(df.contbr_occupation.unique())"
   ]
  },
  {
   "cell_type": "code",
   "execution_count": null,
   "metadata": {},
   "outputs": [],
   "source": [
    "# standardize occupation function\n",
    "def std_occ(title): \n",
    "    if isinstance(title, float):\n",
    "        return None\n",
    "    t = title.lower().strip().split()\n",
    "    \n",
    "    for word in ['retired']:\n",
    "        if word in t: \n",
    "            title = 'Retired'\n",
    "            break\n",
    "            \n",
    "    for word in ['attorney', 'lawyer', 'general counsel', 'judge','clerk', 'investigator','officer','paralegal']:\n",
    "        if word in t:\n",
    "            title = 'Law'\n",
    "            break\n",
    "            \n",
    "    for word in ['teacher','professor', 'educator', 'student', 'instructor','prof','librarian','education','tutor']:\n",
    "        if word in t:\n",
    "            title = 'Education'\n",
    "            break\n",
    "            \n",
    "    for word in ['physician','doc','r.n.','surgeon','nurse','psychologist','therapist']:\n",
    "        if word in t: \n",
    "            title = 'Healthcare'\n",
    "            break\n",
    "            \n",
    "    for word in ['trade','government', 'federal', 'policy', 'consultant','consulting', 'program', 'manager', 'analyst', 'diplomat', 'organizer','public']:\n",
    "        if word in t:\n",
    "            title = 'Gov'\n",
    "            break\n",
    "            \n",
    "    for word in ['executive', 'ceo', 'chief', 'director','president','vice', 'owner','partner','management','vp', 'finance','senior']: \n",
    "        if word in t:\n",
    "            title = 'Leadership'\n",
    "            break\n",
    "   \n",
    "    for word in ['economics','economic', 'economist', 'researcher','research','scientist']:\n",
    "        if word in t: \n",
    "            title = 'Science'\n",
    "            break       \n",
    "    \n",
    "    for word in ['not', 'information', 'requested','homemaker']:\n",
    "        if word in t: \n",
    "            title = 'Not Employed or Unknown'\n",
    "            break   \n",
    "            \n",
    "    for word in ['cybersecurity', 'software', 'engineer', 'it', 'technology','web','technical']:\n",
    "        if word in t:\n",
    "            title ='IT'\n",
    "            break\n",
    "            \n",
    "    for word in ['writer', 'communications','editor','author','musician', 'designer','artist','art']:\n",
    "        if word in t: \n",
    "            title = 'Artist'\n",
    "            break\n",
    "            \n",
    "    for word in ['realtor', 'estate', 'architect','chst']:\n",
    "        if word in t: \n",
    "            title = 'Real Estate/Construction'\n",
    "            break   \n",
    "    \n",
    "    for word in ['sales', 'retail', 'supervisor']:\n",
    "        if word in t: \n",
    "            title = 'Sales'\n",
    "            break   \n",
    "            \n",
    "    return title.lower()"
   ]
  },
  {
   "cell_type": "code",
   "execution_count": null,
   "metadata": {},
   "outputs": [],
   "source": [
    "df['occ_cat'] = df.contbr_occupation.apply(std_occ)\n",
    "df[['occ_cat', 'contbr_occupation']]\n",
    "df.occ_cat.value_counts();"
   ]
  },
  {
   "cell_type": "code",
   "execution_count": null,
   "metadata": {},
   "outputs": [],
   "source": [
    "df.contbr_employer.fillna('none-listed', inplace=True)"
   ]
  },
  {
   "cell_type": "markdown",
   "metadata": {},
   "source": [
    "## Convert dates to Month and Year"
   ]
  },
  {
   "cell_type": "code",
   "execution_count": null,
   "metadata": {},
   "outputs": [],
   "source": [
    "# convert receipt date to datetime format and then add second column called converted_date\n",
    "df.contb_receipt_dt = pd.to_datetime(df.contb_receipt_dt)"
   ]
  },
  {
   "cell_type": "code",
   "execution_count": null,
   "metadata": {},
   "outputs": [],
   "source": [
    "df.contb_receipt_dt.describe()"
   ]
  },
  {
   "cell_type": "code",
   "execution_count": null,
   "metadata": {},
   "outputs": [],
   "source": [
    "df['converted_date'] = df.contb_receipt_dt.map(lambda x: 100*x.year + x.month)\n",
    "df['payment_yr'] = df.contb_receipt_dt.map(lambda x: x.year)"
   ]
  },
  {
   "cell_type": "markdown",
   "metadata": {},
   "source": [
    "## Drop unneeded features "
   ]
  },
  {
   "cell_type": "code",
   "execution_count": null,
   "metadata": {},
   "outputs": [],
   "source": [
    "# tran_id is not a unique value \n",
    "df[df.duplicated(subset = 'tran_id', keep=False)]\n",
    "df = df.drop(['cand_id', 'file_num', 'contbr_nm','contb_receipt_dt','form_tp','election_tp','contbr_city', 'memo_cd', 'receipt_desc', 'contbr_st', 'memo_text','cmte_id', 'tran_id'], axis=1)\n",
    "\n"
   ]
  },
  {
   "cell_type": "markdown",
   "metadata": {},
   "source": [
    "## Look at different years "
   ]
  },
  {
   "cell_type": "code",
   "execution_count": null,
   "metadata": {},
   "outputs": [],
   "source": [
    "df.sort_values(by=['payment_yr']);"
   ]
  },
  {
   "cell_type": "code",
   "execution_count": null,
   "metadata": {},
   "outputs": [],
   "source": [
    "df_grouped_yr = df.groupby(['cand_nm','payment_yr']).mean()\n",
    "df_grouped_yr[['contb_receipt_amt']]"
   ]
  },
  {
   "cell_type": "code",
   "execution_count": null,
   "metadata": {},
   "outputs": [],
   "source": [
    "# filter out 2016, 2017, and 2018 \n",
    "df = df[df.payment_yr >= 2019]\n",
    "len(df)"
   ]
  },
  {
   "cell_type": "code",
   "execution_count": null,
   "metadata": {},
   "outputs": [],
   "source": [
    "plt.scatter(df.contb_receipt_amt, df.cand_nm)\n",
    "plt.title('2019 Individual Contributions')\n",
    "plt.xlabel('Dollars')\n",
    "plt.show()"
   ]
  },
  {
   "cell_type": "code",
   "execution_count": null,
   "metadata": {},
   "outputs": [],
   "source": [
    "df_grouped_cand = df.groupby('cand_nm').mean()\n",
    "df_grouped_cand['contb_receipt_amt']"
   ]
  },
  {
   "cell_type": "code",
   "execution_count": null,
   "metadata": {},
   "outputs": [],
   "source": [
    "df.cand_nm.value_counts()"
   ]
  },
  {
   "cell_type": "markdown",
   "metadata": {},
   "source": [
    "## Save as CSV file "
   ]
  },
  {
   "cell_type": "code",
   "execution_count": null,
   "metadata": {},
   "outputs": [],
   "source": [
    "df.to_csv('clean_data/2019-all-contributions.csv')"
   ]
  },
  {
   "cell_type": "code",
   "execution_count": null,
   "metadata": {},
   "outputs": [],
   "source": [
    "df_dems = df[df.cand_nm != 'Trump, Donald J.']"
   ]
  },
  {
   "cell_type": "code",
   "execution_count": null,
   "metadata": {},
   "outputs": [],
   "source": [
    "df_dems.to_csv('clean_data/2019-dems-contributions.csv')"
   ]
  }
 ],
 "metadata": {
  "kernelspec": {
   "display_name": "Python 3",
   "language": "python",
   "name": "python3"
  },
  "language_info": {
   "codemirror_mode": {
    "name": "ipython",
    "version": 3
   },
   "file_extension": ".py",
   "mimetype": "text/x-python",
   "name": "python",
   "nbconvert_exporter": "python",
   "pygments_lexer": "ipython3",
   "version": "3.7.3"
  }
 },
 "nbformat": 4,
 "nbformat_minor": 2
}
