{
 "cells": [
  {
   "cell_type": "markdown",
   "metadata": {},
   "source": [
    "# Technical Notebook 4 - LogReg"
   ]
  },
  {
   "cell_type": "code",
   "execution_count": 1,
   "metadata": {
    "ExecuteTime": {
     "end_time": "2019-11-16T18:17:26.129185Z",
     "start_time": "2019-11-16T18:17:22.685136Z"
    }
   },
   "outputs": [],
   "source": [
    "import pandas as pd\n",
    "import numpy as np\n",
    "import matplotlib.pyplot as plt\n",
    "from sklearn.preprocessing import LabelEncoder, StandardScaler\n",
    "from sklearn.model_selection import train_test_split\n",
    "from sklearn.linear_model import LogisticRegression\n",
    "from sklearn.metrics import confusion_matrix\n",
    "import statsmodels.api as sm\n",
    "%matplotlib inline"
   ]
  },
  {
   "cell_type": "code",
   "execution_count": 2,
   "metadata": {
    "ExecuteTime": {
     "end_time": "2019-11-16T18:17:26.184723Z",
     "start_time": "2019-11-16T18:17:26.134562Z"
    }
   },
   "outputs": [
    {
     "data": {
      "text/plain": [
       "(11502, 8)"
      ]
     },
     "execution_count": 2,
     "metadata": {},
     "output_type": "execute_result"
    }
   ],
   "source": [
    "# read in CSV saved after cleaning in technical notebook 2 \n",
    "df = pd.read_csv('final_data/contr-income.csv', \n",
    "                 index_col=0\n",
    "                )\n",
    "df.shape"
   ]
  },
  {
   "cell_type": "markdown",
   "metadata": {},
   "source": [
    "## Label encoding"
   ]
  },
  {
   "cell_type": "code",
   "execution_count": 3,
   "metadata": {
    "ExecuteTime": {
     "end_time": "2019-11-16T18:17:27.028488Z",
     "start_time": "2019-11-16T18:17:27.004108Z"
    }
   },
   "outputs": [],
   "source": [
    "# encode the candidates as specific labels \n",
    "df['cand_num'] = df.cand_nm\n",
    "y = df.cand_nm\n",
    "le = LabelEncoder()\n",
    "le.fit(y)\n",
    "df.cand_num = le.transform(y)\n",
    "y = df.cand_num"
   ]
  },
  {
   "cell_type": "code",
   "execution_count": 4,
   "metadata": {
    "ExecuteTime": {
     "end_time": "2019-11-16T18:17:27.457247Z",
     "start_time": "2019-11-16T18:17:27.441378Z"
    }
   },
   "outputs": [
    {
     "name": "stdout",
     "output_type": "stream",
     "text": [
      "Buttigieg, Pete       3746\n",
      "Warren, Elizabeth     3609\n",
      "Sanders, Bernard      2726\n",
      "Biden, Joseph R Jr    1421\n",
      "Name: cand_nm, dtype: int64\n",
      "1    3746\n",
      "3    3609\n",
      "2    2726\n",
      "0    1421\n",
      "Name: cand_num, dtype: int64\n"
     ]
    }
   ],
   "source": [
    "print(df.cand_nm.value_counts())\n",
    "print(df.cand_num.value_counts())"
   ]
  },
  {
   "cell_type": "markdown",
   "metadata": {},
   "source": [
    "## Convert zip code to dummy variables"
   ]
  },
  {
   "cell_type": "code",
   "execution_count": 5,
   "metadata": {
    "ExecuteTime": {
     "end_time": "2019-11-16T18:17:31.569906Z",
     "start_time": "2019-11-16T18:17:31.547917Z"
    }
   },
   "outputs": [
    {
     "data": {
      "text/plain": [
       "cand_nm               object\n",
       "contbr_zip            object\n",
       "contbr_occupation     object\n",
       "contb_receipt_amt    float64\n",
       "occ_cat               object\n",
       "converted_date         int64\n",
       "zip                  float64\n",
       "income               float64\n",
       "cand_num               int64\n",
       "dtype: object"
      ]
     },
     "execution_count": 5,
     "metadata": {},
     "output_type": "execute_result"
    }
   ],
   "source": [
    "df.contbr_zip = df.contbr_zip.astype(str)\n",
    "df.dtypes"
   ]
  },
  {
   "cell_type": "code",
   "execution_count": 6,
   "metadata": {
    "ExecuteTime": {
     "end_time": "2019-11-16T18:17:32.425269Z",
     "start_time": "2019-11-16T18:17:32.375687Z"
    }
   },
   "outputs": [
    {
     "data": {
      "text/html": [
       "<div>\n",
       "<style scoped>\n",
       "    .dataframe tbody tr th:only-of-type {\n",
       "        vertical-align: middle;\n",
       "    }\n",
       "\n",
       "    .dataframe tbody tr th {\n",
       "        vertical-align: top;\n",
       "    }\n",
       "\n",
       "    .dataframe thead th {\n",
       "        text-align: right;\n",
       "    }\n",
       "</style>\n",
       "<table border=\"1\" class=\"dataframe\">\n",
       "  <thead>\n",
       "    <tr style=\"text-align: right;\">\n",
       "      <th></th>\n",
       "      <th>converted_date</th>\n",
       "      <th>contb_receipt_amt</th>\n",
       "      <th>contbr_zip_20002</th>\n",
       "      <th>contbr_zip_20003</th>\n",
       "      <th>contbr_zip_20004</th>\n",
       "      <th>contbr_zip_20005</th>\n",
       "      <th>contbr_zip_20006</th>\n",
       "      <th>contbr_zip_20007</th>\n",
       "      <th>contbr_zip_20008</th>\n",
       "      <th>contbr_zip_20009</th>\n",
       "      <th>...</th>\n",
       "      <th>contbr_zip_20015</th>\n",
       "      <th>contbr_zip_20016</th>\n",
       "      <th>contbr_zip_20017</th>\n",
       "      <th>contbr_zip_20018</th>\n",
       "      <th>contbr_zip_20019</th>\n",
       "      <th>contbr_zip_20020</th>\n",
       "      <th>contbr_zip_20024</th>\n",
       "      <th>contbr_zip_20032</th>\n",
       "      <th>contbr_zip_20036</th>\n",
       "      <th>contbr_zip_20037</th>\n",
       "    </tr>\n",
       "  </thead>\n",
       "  <tbody>\n",
       "    <tr>\n",
       "      <th>0</th>\n",
       "      <td>201906</td>\n",
       "      <td>100.0</td>\n",
       "      <td>0</td>\n",
       "      <td>0</td>\n",
       "      <td>0</td>\n",
       "      <td>0</td>\n",
       "      <td>0</td>\n",
       "      <td>0</td>\n",
       "      <td>0</td>\n",
       "      <td>0</td>\n",
       "      <td>...</td>\n",
       "      <td>0</td>\n",
       "      <td>0</td>\n",
       "      <td>0</td>\n",
       "      <td>0</td>\n",
       "      <td>0</td>\n",
       "      <td>0</td>\n",
       "      <td>0</td>\n",
       "      <td>0</td>\n",
       "      <td>0</td>\n",
       "      <td>0</td>\n",
       "    </tr>\n",
       "    <tr>\n",
       "      <th>1</th>\n",
       "      <td>201906</td>\n",
       "      <td>3.0</td>\n",
       "      <td>0</td>\n",
       "      <td>0</td>\n",
       "      <td>0</td>\n",
       "      <td>0</td>\n",
       "      <td>0</td>\n",
       "      <td>0</td>\n",
       "      <td>0</td>\n",
       "      <td>0</td>\n",
       "      <td>...</td>\n",
       "      <td>0</td>\n",
       "      <td>0</td>\n",
       "      <td>0</td>\n",
       "      <td>0</td>\n",
       "      <td>0</td>\n",
       "      <td>0</td>\n",
       "      <td>0</td>\n",
       "      <td>0</td>\n",
       "      <td>0</td>\n",
       "      <td>0</td>\n",
       "    </tr>\n",
       "    <tr>\n",
       "      <th>2</th>\n",
       "      <td>201906</td>\n",
       "      <td>27.0</td>\n",
       "      <td>0</td>\n",
       "      <td>0</td>\n",
       "      <td>0</td>\n",
       "      <td>0</td>\n",
       "      <td>0</td>\n",
       "      <td>0</td>\n",
       "      <td>0</td>\n",
       "      <td>0</td>\n",
       "      <td>...</td>\n",
       "      <td>0</td>\n",
       "      <td>0</td>\n",
       "      <td>0</td>\n",
       "      <td>0</td>\n",
       "      <td>0</td>\n",
       "      <td>0</td>\n",
       "      <td>0</td>\n",
       "      <td>0</td>\n",
       "      <td>0</td>\n",
       "      <td>0</td>\n",
       "    </tr>\n",
       "    <tr>\n",
       "      <th>3</th>\n",
       "      <td>201903</td>\n",
       "      <td>3.0</td>\n",
       "      <td>0</td>\n",
       "      <td>0</td>\n",
       "      <td>0</td>\n",
       "      <td>0</td>\n",
       "      <td>0</td>\n",
       "      <td>1</td>\n",
       "      <td>0</td>\n",
       "      <td>0</td>\n",
       "      <td>...</td>\n",
       "      <td>0</td>\n",
       "      <td>0</td>\n",
       "      <td>0</td>\n",
       "      <td>0</td>\n",
       "      <td>0</td>\n",
       "      <td>0</td>\n",
       "      <td>0</td>\n",
       "      <td>0</td>\n",
       "      <td>0</td>\n",
       "      <td>0</td>\n",
       "    </tr>\n",
       "    <tr>\n",
       "      <th>4</th>\n",
       "      <td>201906</td>\n",
       "      <td>27.0</td>\n",
       "      <td>0</td>\n",
       "      <td>0</td>\n",
       "      <td>0</td>\n",
       "      <td>0</td>\n",
       "      <td>0</td>\n",
       "      <td>0</td>\n",
       "      <td>0</td>\n",
       "      <td>0</td>\n",
       "      <td>...</td>\n",
       "      <td>0</td>\n",
       "      <td>0</td>\n",
       "      <td>0</td>\n",
       "      <td>0</td>\n",
       "      <td>0</td>\n",
       "      <td>0</td>\n",
       "      <td>0</td>\n",
       "      <td>0</td>\n",
       "      <td>0</td>\n",
       "      <td>0</td>\n",
       "    </tr>\n",
       "  </tbody>\n",
       "</table>\n",
       "<p>5 rows × 23 columns</p>\n",
       "</div>"
      ],
      "text/plain": [
       "   converted_date  contb_receipt_amt  contbr_zip_20002  contbr_zip_20003  \\\n",
       "0          201906              100.0                 0                 0   \n",
       "1          201906                3.0                 0                 0   \n",
       "2          201906               27.0                 0                 0   \n",
       "3          201903                3.0                 0                 0   \n",
       "4          201906               27.0                 0                 0   \n",
       "\n",
       "   contbr_zip_20004  contbr_zip_20005  contbr_zip_20006  contbr_zip_20007  \\\n",
       "0                 0                 0                 0                 0   \n",
       "1                 0                 0                 0                 0   \n",
       "2                 0                 0                 0                 0   \n",
       "3                 0                 0                 0                 1   \n",
       "4                 0                 0                 0                 0   \n",
       "\n",
       "   contbr_zip_20008  contbr_zip_20009  ...  contbr_zip_20015  \\\n",
       "0                 0                 0  ...                 0   \n",
       "1                 0                 0  ...                 0   \n",
       "2                 0                 0  ...                 0   \n",
       "3                 0                 0  ...                 0   \n",
       "4                 0                 0  ...                 0   \n",
       "\n",
       "   contbr_zip_20016  contbr_zip_20017  contbr_zip_20018  contbr_zip_20019  \\\n",
       "0                 0                 0                 0                 0   \n",
       "1                 0                 0                 0                 0   \n",
       "2                 0                 0                 0                 0   \n",
       "3                 0                 0                 0                 0   \n",
       "4                 0                 0                 0                 0   \n",
       "\n",
       "   contbr_zip_20020  contbr_zip_20024  contbr_zip_20032  contbr_zip_20036  \\\n",
       "0                 0                 0                 0                 0   \n",
       "1                 0                 0                 0                 0   \n",
       "2                 0                 0                 0                 0   \n",
       "3                 0                 0                 0                 0   \n",
       "4                 0                 0                 0                 0   \n",
       "\n",
       "   contbr_zip_20037  \n",
       "0                 0  \n",
       "1                 0  \n",
       "2                 0  \n",
       "3                 0  \n",
       "4                 0  \n",
       "\n",
       "[5 rows x 23 columns]"
      ]
     },
     "execution_count": 6,
     "metadata": {},
     "output_type": "execute_result"
    }
   ],
   "source": [
    "x_feats = ['converted_date',\n",
    "           'contbr_zip',\n",
    "           'contb_receipt_amt']\n",
    "X = pd.get_dummies(df[x_feats],\n",
    "                   drop_first=True)\n",
    "X.head()"
   ]
  },
  {
   "cell_type": "code",
   "execution_count": 7,
   "metadata": {
    "ExecuteTime": {
     "end_time": "2019-11-16T18:17:34.298779Z",
     "start_time": "2019-11-16T18:17:34.293581Z"
    }
   },
   "outputs": [],
   "source": [
    "# target variable is candidate's numeric value \n",
    "y = df.cand_num"
   ]
  },
  {
   "cell_type": "markdown",
   "metadata": {
    "ExecuteTime": {
     "end_time": "2019-11-16T18:06:01.397923Z",
     "start_time": "2019-11-16T18:06:01.393512Z"
    }
   },
   "source": [
    "## Split into train and test"
   ]
  },
  {
   "cell_type": "code",
   "execution_count": 8,
   "metadata": {
    "ExecuteTime": {
     "end_time": "2019-11-16T18:17:36.067039Z",
     "start_time": "2019-11-16T18:17:36.043849Z"
    }
   },
   "outputs": [],
   "source": [
    "X_train, X_test, y_train, y_test = train_test_split(X, y, \n",
    "                                                    random_state=0, \n",
    "                                                    stratify=y, \n",
    "                                                    test_size=0.2\n",
    "                                                   )"
   ]
  },
  {
   "cell_type": "markdown",
   "metadata": {},
   "source": [
    "## Scale and transform training data"
   ]
  },
  {
   "cell_type": "code",
   "execution_count": 10,
   "metadata": {
    "ExecuteTime": {
     "end_time": "2019-11-16T18:17:44.551278Z",
     "start_time": "2019-11-16T18:17:44.527620Z"
    }
   },
   "outputs": [
    {
     "data": {
      "text/plain": [
       "array([[-0.87874505,  5.57690606, -0.32499792, ..., -0.05005989,\n",
       "        -0.15394241, -0.1674655 ],\n",
       "       [ 1.16934138, -0.39667775, -0.32499792, ..., -0.05005989,\n",
       "        -0.15394241, -0.1674655 ],\n",
       "       [-2.41480987,  1.70911798, -0.32499792, ..., -0.05005989,\n",
       "        -0.15394241, -0.1674655 ],\n",
       "       ...,\n",
       "       [-0.36672344, -0.43320686, -0.32499792, ..., -0.05005989,\n",
       "        -0.15394241, -0.1674655 ],\n",
       "       [ 1.16934138, -0.43320686, -0.32499792, ..., -0.05005989,\n",
       "        -0.15394241, -0.1674655 ],\n",
       "       [ 1.16934138, -0.41816547, -0.32499792, ..., -0.05005989,\n",
       "        -0.15394241,  5.97137928]])"
      ]
     },
     "execution_count": 10,
     "metadata": {},
     "output_type": "execute_result"
    }
   ],
   "source": [
    "scaler = StandardScaler().fit(X_train)\n",
    "X_scaled_train = scaler.transform(X_train)\n",
    "X_scaled_train"
   ]
  },
  {
   "cell_type": "markdown",
   "metadata": {},
   "source": [
    "## Create classifier"
   ]
  },
  {
   "cell_type": "code",
   "execution_count": null,
   "metadata": {
    "ExecuteTime": {
     "end_time": "2019-11-16T18:14:29.401911Z",
     "start_time": "2019-11-16T18:14:29.396607Z"
    }
   },
   "outputs": [],
   "source": [
    "clf = LogisticRegression(  C=2, \n",
    "                           solver='lbfgs', \n",
    "                           multi_class='multinomial', \n",
    "                           max_iter=1000, \n",
    "                           penalty='l2',\n",
    "                           class_weight={0: .89 ,1: .78, 2: .98, 3: .87})"
   ]
  },
  {
   "cell_type": "markdown",
   "metadata": {},
   "source": [
    "## Call the model"
   ]
  },
  {
   "cell_type": "code",
   "execution_count": null,
   "metadata": {
    "ExecuteTime": {
     "end_time": "2019-11-16T18:17:08.313306Z",
     "start_time": "2019-11-16T18:17:08.199690Z"
    }
   },
   "outputs": [],
   "source": [
    "clf.fit(X_scaled_train, y_train)\n",
    "y_hat_train = clf.predict(X_scaled_train)\n",
    "clf.score(X_scaled_train, y_train)"
   ]
  },
  {
   "cell_type": "markdown",
   "metadata": {},
   "source": [
    "## Check confusion matrix"
   ]
  },
  {
   "cell_type": "code",
   "execution_count": null,
   "metadata": {
    "ExecuteTime": {
     "end_time": "2019-11-16T18:17:10.384161Z",
     "start_time": "2019-11-16T18:17:10.355241Z"
    }
   },
   "outputs": [],
   "source": [
    "# create confusion matrix\n",
    "cm = confusion_matrix(y_train, y_hat_train)\n",
    "conf_matrix = pd.DataFrame(cm, index=['actual Biden',\n",
    "                                      'actual Buttigieg',\n",
    "                                      'actual Sanders',\n",
    "                                      'actual Warren'], \n",
    "                           columns= ['Biden', \n",
    "                                     'Buttigieg',\n",
    "                                     'Sanders',\n",
    "                                     'Warren'])\n",
    "conf_matrix"
   ]
  },
  {
   "cell_type": "code",
   "execution_count": null,
   "metadata": {
    "ExecuteTime": {
     "end_time": "2019-11-16T18:17:10.714359Z",
     "start_time": "2019-11-16T18:17:10.703062Z"
    }
   },
   "outputs": [],
   "source": [
    "clf.score(X_test, y_test)"
   ]
  },
  {
   "cell_type": "markdown",
   "metadata": {},
   "source": [
    "## Optimize for Sanders metric\n",
    "Classify correctly as many Sanders contributors as possible. "
   ]
  },
  {
   "cell_type": "code",
   "execution_count": null,
   "metadata": {},
   "outputs": [],
   "source": []
  },
  {
   "cell_type": "code",
   "execution_count": null,
   "metadata": {},
   "outputs": [],
   "source": []
  }
 ],
 "metadata": {
  "kernelspec": {
   "display_name": "Python 3",
   "language": "python",
   "name": "python3"
  },
  "language_info": {
   "codemirror_mode": {
    "name": "ipython",
    "version": 3
   },
   "file_extension": ".py",
   "mimetype": "text/x-python",
   "name": "python",
   "nbconvert_exporter": "python",
   "pygments_lexer": "ipython3",
   "version": "3.7.3"
  },
  "toc": {
   "base_numbering": 1,
   "nav_menu": {},
   "number_sections": true,
   "sideBar": true,
   "skip_h1_title": false,
   "title_cell": "Table of Contents",
   "title_sidebar": "Contents",
   "toc_cell": false,
   "toc_position": {},
   "toc_section_display": true,
   "toc_window_display": false
  }
 },
 "nbformat": 4,
 "nbformat_minor": 2
}
