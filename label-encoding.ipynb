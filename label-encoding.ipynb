{
 "cells": [
  {
   "cell_type": "code",
   "execution_count": 1,
   "metadata": {},
   "outputs": [],
   "source": [
    "import pandas as pd\n",
    "import matplotlib.pyplot as plt\n",
    "import seaborn as sns\n",
    "import numpy as np\n",
    "import statsmodels.api as sm\n",
    "from sklearn.linear_model import LogisticRegression\n",
    "from sklearn.metrics import confusion_matrix, classification_report\n",
    "from sklearn.model_selection import cross_validate\n",
    "from sklearn.model_selection import StratifiedKFold\n",
    "from sklearn.linear_model import LinearRegression, Lasso, Ridge\n",
    "from sklearn.model_selection import train_test_split, GridSearchCV\n",
    "from sklearn.metrics import r2_score, mean_squared_error\n",
    "import statsmodels.api as sm\n",
    "from statsmodels.stats.outliers_influence import variance_inflation_factor\n",
    "from sklearn.preprocessing import StandardScaler, LabelEncoder\n",
    "from scipy import stats\n",
    "from yellowbrick.regressor import ResidualsPlot, PredictionError\n",
    "\n",
    "%matplotlib inline"
   ]
  },
  {
   "cell_type": "code",
   "execution_count": 2,
   "metadata": {},
   "outputs": [],
   "source": [
    "# read in csv exported from notebook 1\n",
    "df = pd.read_csv('SA17A-contr.csv', index_col=0)"
   ]
  },
  {
   "cell_type": "code",
   "execution_count": 3,
   "metadata": {},
   "outputs": [
    {
     "data": {
      "text/plain": [
       "cand_nm               object\n",
       "contbr_city           object\n",
       "contbr_zip             int64\n",
       "contbr_employer       object\n",
       "contbr_occupation     object\n",
       "contb_receipt_amt    float64\n",
       "contb_receipt_dt      object\n",
       "form_tp               object\n",
       "tran_id               object\n",
       "election_tp           object\n",
       "dtype: object"
      ]
     },
     "execution_count": 3,
     "metadata": {},
     "output_type": "execute_result"
    }
   ],
   "source": [
    "# check datatypes\n",
    "df.dtypes"
   ]
  },
  {
   "cell_type": "code",
   "execution_count": 16,
   "metadata": {},
   "outputs": [
    {
     "data": {
      "text/plain": [
       "48"
      ]
     },
     "execution_count": 16,
     "metadata": {},
     "output_type": "execute_result"
    }
   ],
   "source": [
    "# convert zip to 5 num string\n",
    "df['contbr_zip'] = df.contbr_zip.astype('str')\n",
    "df.contbr_zip = df['contbr_zip'].apply(lambda x: x[0:5])\n",
    "len(df.contbr_zip.unique()) # 48 unique zip codes "
   ]
  },
  {
   "cell_type": "code",
   "execution_count": 8,
   "metadata": {},
   "outputs": [
    {
     "data": {
      "text/html": [
       "<div>\n",
       "<style scoped>\n",
       "    .dataframe tbody tr th:only-of-type {\n",
       "        vertical-align: middle;\n",
       "    }\n",
       "\n",
       "    .dataframe tbody tr th {\n",
       "        vertical-align: top;\n",
       "    }\n",
       "\n",
       "    .dataframe thead th {\n",
       "        text-align: right;\n",
       "    }\n",
       "</style>\n",
       "<table border=\"1\" class=\"dataframe\">\n",
       "  <thead>\n",
       "    <tr style=\"text-align: right;\">\n",
       "      <th></th>\n",
       "      <th>cand_nm</th>\n",
       "      <th>contbr_city</th>\n",
       "      <th>contbr_zip</th>\n",
       "      <th>contbr_employer</th>\n",
       "      <th>contbr_occupation</th>\n",
       "      <th>contb_receipt_amt</th>\n",
       "      <th>contb_receipt_dt</th>\n",
       "      <th>form_tp</th>\n",
       "      <th>tran_id</th>\n",
       "      <th>election_tp</th>\n",
       "      <th>converted_date</th>\n",
       "      <th>payment_yr</th>\n",
       "    </tr>\n",
       "  </thead>\n",
       "  <tbody>\n",
       "    <tr>\n",
       "      <th>0</th>\n",
       "      <td>Trump, Donald J.</td>\n",
       "      <td>WASHINGTON</td>\n",
       "      <td>20008</td>\n",
       "      <td>NICHOLS DESIGN ASSOCIATES, INC.</td>\n",
       "      <td>ARCHITECT</td>\n",
       "      <td>250.0</td>\n",
       "      <td>2016-12-10</td>\n",
       "      <td>SA17A</td>\n",
       "      <td>SA17A.425120</td>\n",
       "      <td>G2016</td>\n",
       "      <td>201612</td>\n",
       "      <td>2016</td>\n",
       "    </tr>\n",
       "    <tr>\n",
       "      <th>23</th>\n",
       "      <td>Trump, Donald J.</td>\n",
       "      <td>WASHINGTON</td>\n",
       "      <td>20007</td>\n",
       "      <td>RETIRED</td>\n",
       "      <td>RETIRED</td>\n",
       "      <td>35.0</td>\n",
       "      <td>2018-01-03</td>\n",
       "      <td>SA17A</td>\n",
       "      <td>SA17A.1061963</td>\n",
       "      <td>P2020</td>\n",
       "      <td>201801</td>\n",
       "      <td>2018</td>\n",
       "    </tr>\n",
       "    <tr>\n",
       "      <th>26</th>\n",
       "      <td>Trump, Donald J.</td>\n",
       "      <td>WASHINGTON</td>\n",
       "      <td>20007</td>\n",
       "      <td>RETIRED</td>\n",
       "      <td>RETIRED</td>\n",
       "      <td>35.0</td>\n",
       "      <td>2018-04-03</td>\n",
       "      <td>SA17A</td>\n",
       "      <td>SA17A.1274477</td>\n",
       "      <td>P2020</td>\n",
       "      <td>201804</td>\n",
       "      <td>2018</td>\n",
       "    </tr>\n",
       "    <tr>\n",
       "      <th>29</th>\n",
       "      <td>Trump, Donald J.</td>\n",
       "      <td>WASHINGTON</td>\n",
       "      <td>20037</td>\n",
       "      <td>RETIRED</td>\n",
       "      <td>RETIRED</td>\n",
       "      <td>100.0</td>\n",
       "      <td>2017-12-30</td>\n",
       "      <td>SA17A</td>\n",
       "      <td>SA17A.1019056</td>\n",
       "      <td>P2020</td>\n",
       "      <td>201712</td>\n",
       "      <td>2017</td>\n",
       "    </tr>\n",
       "    <tr>\n",
       "      <th>41</th>\n",
       "      <td>Trump, Donald J.</td>\n",
       "      <td>WASHINGTON</td>\n",
       "      <td>20007</td>\n",
       "      <td>CADWALADER</td>\n",
       "      <td>ATTORNEY</td>\n",
       "      <td>-2700.0</td>\n",
       "      <td>2017-01-20</td>\n",
       "      <td>SA17A</td>\n",
       "      <td>SA17A.445455</td>\n",
       "      <td>G2016</td>\n",
       "      <td>201701</td>\n",
       "      <td>2017</td>\n",
       "    </tr>\n",
       "  </tbody>\n",
       "</table>\n",
       "</div>"
      ],
      "text/plain": [
       "             cand_nm contbr_city contbr_zip                  contbr_employer  \\\n",
       "0   Trump, Donald J.  WASHINGTON      20008  NICHOLS DESIGN ASSOCIATES, INC.   \n",
       "23  Trump, Donald J.  WASHINGTON      20007                          RETIRED   \n",
       "26  Trump, Donald J.  WASHINGTON      20007                          RETIRED   \n",
       "29  Trump, Donald J.  WASHINGTON      20037                          RETIRED   \n",
       "41  Trump, Donald J.  WASHINGTON      20007                       CADWALADER   \n",
       "\n",
       "   contbr_occupation  contb_receipt_amt contb_receipt_dt form_tp  \\\n",
       "0          ARCHITECT              250.0       2016-12-10   SA17A   \n",
       "23           RETIRED               35.0       2018-01-03   SA17A   \n",
       "26           RETIRED               35.0       2018-04-03   SA17A   \n",
       "29           RETIRED              100.0       2017-12-30   SA17A   \n",
       "41          ATTORNEY            -2700.0       2017-01-20   SA17A   \n",
       "\n",
       "          tran_id election_tp  converted_date  payment_yr  \n",
       "0    SA17A.425120       G2016          201612        2016  \n",
       "23  SA17A.1061963       P2020          201801        2018  \n",
       "26  SA17A.1274477       P2020          201804        2018  \n",
       "29  SA17A.1019056       P2020          201712        2017  \n",
       "41   SA17A.445455       G2016          201701        2017  "
      ]
     },
     "execution_count": 8,
     "metadata": {},
     "output_type": "execute_result"
    }
   ],
   "source": [
    "# convert receipt date to datetime format and then add second column called converted_date\n",
    "df.contb_receipt_dt = pd.to_datetime(df.contb_receipt_dt)\n",
    "df['converted_date'] = df.contb_receipt_dt.map(lambda x: 100*x.year + x.month)\n",
    "df['payment_yr'] = df.contb_receipt_dt.map(lambda x: x.year)\n",
    "df.head()"
   ]
  },
  {
   "cell_type": "code",
   "execution_count": 10,
   "metadata": {},
   "outputs": [
    {
     "data": {
      "text/plain": [
       "cand_nm               Biden, Joseph R Jr\n",
       "contbr_city                   WASHINGTON\n",
       "contbr_zip                         20001\n",
       "contbr_employer                &PARTNERS\n",
       "contbr_occupation                 (NULL)\n",
       "contb_receipt_amt                   0.01\n",
       "contb_receipt_dt     2016-11-09 00:00:00\n",
       "form_tp                            SA17A\n",
       "tran_id                         10001652\n",
       "election_tp                        G2016\n",
       "converted_date                    201611\n",
       "payment_yr                          2016\n",
       "dtype: object"
      ]
     },
     "execution_count": 10,
     "metadata": {},
     "output_type": "execute_result"
    }
   ],
   "source": [
    "# filter out negative values\n",
    "df = df.loc[df.contb_receipt_amt > 0]\n",
    "df.min()"
   ]
  },
  {
   "cell_type": "code",
   "execution_count": null,
   "metadata": {},
   "outputs": [],
   "source": [
    "outcome = 'cand_nm' # or outcome = cand_val\n",
    "x_numeric = ['contb_receipt_amt', 'converted_date', 'payment_yr']\n",
    "x_cat = ['contbr_zip']"
   ]
  },
  {
   "cell_type": "code",
   "execution_count": 17,
   "metadata": {},
   "outputs": [],
   "source": [
    "# drop the max contb receipt amount from trump of $41K\n",
    "df = df.drop(df['contb_receipt_amt'].idxmax())"
   ]
  },
  {
   "cell_type": "code",
   "execution_count": 18,
   "metadata": {},
   "outputs": [
    {
     "data": {
      "text/html": [
       "<div>\n",
       "<style scoped>\n",
       "    .dataframe tbody tr th:only-of-type {\n",
       "        vertical-align: middle;\n",
       "    }\n",
       "\n",
       "    .dataframe tbody tr th {\n",
       "        vertical-align: top;\n",
       "    }\n",
       "\n",
       "    .dataframe thead th {\n",
       "        text-align: right;\n",
       "    }\n",
       "</style>\n",
       "<table border=\"1\" class=\"dataframe\">\n",
       "  <thead>\n",
       "    <tr style=\"text-align: right;\">\n",
       "      <th></th>\n",
       "      <th>contb_receipt_amt</th>\n",
       "      <th>converted_date</th>\n",
       "      <th>payment_yr</th>\n",
       "    </tr>\n",
       "  </thead>\n",
       "  <tbody>\n",
       "    <tr>\n",
       "      <th>count</th>\n",
       "      <td>11943.000000</td>\n",
       "      <td>11943.000000</td>\n",
       "      <td>11943.000000</td>\n",
       "    </tr>\n",
       "    <tr>\n",
       "      <th>mean</th>\n",
       "      <td>212.916791</td>\n",
       "      <td>201904.844093</td>\n",
       "      <td>2018.981412</td>\n",
       "    </tr>\n",
       "    <tr>\n",
       "      <th>std</th>\n",
       "      <td>512.995820</td>\n",
       "      <td>17.802188</td>\n",
       "      <td>0.177412</td>\n",
       "    </tr>\n",
       "    <tr>\n",
       "      <th>min</th>\n",
       "      <td>0.010000</td>\n",
       "      <td>201611.000000</td>\n",
       "      <td>2016.000000</td>\n",
       "    </tr>\n",
       "    <tr>\n",
       "      <th>25%</th>\n",
       "      <td>25.000000</td>\n",
       "      <td>201905.000000</td>\n",
       "      <td>2019.000000</td>\n",
       "    </tr>\n",
       "    <tr>\n",
       "      <th>50%</th>\n",
       "      <td>50.000000</td>\n",
       "      <td>201907.000000</td>\n",
       "      <td>2019.000000</td>\n",
       "    </tr>\n",
       "    <tr>\n",
       "      <th>75%</th>\n",
       "      <td>100.000000</td>\n",
       "      <td>201908.000000</td>\n",
       "      <td>2019.000000</td>\n",
       "    </tr>\n",
       "    <tr>\n",
       "      <th>max</th>\n",
       "      <td>5600.000000</td>\n",
       "      <td>201909.000000</td>\n",
       "      <td>2019.000000</td>\n",
       "    </tr>\n",
       "  </tbody>\n",
       "</table>\n",
       "</div>"
      ],
      "text/plain": [
       "       contb_receipt_amt  converted_date    payment_yr\n",
       "count       11943.000000    11943.000000  11943.000000\n",
       "mean          212.916791   201904.844093   2018.981412\n",
       "std           512.995820       17.802188      0.177412\n",
       "min             0.010000   201611.000000   2016.000000\n",
       "25%            25.000000   201905.000000   2019.000000\n",
       "50%            50.000000   201907.000000   2019.000000\n",
       "75%           100.000000   201908.000000   2019.000000\n",
       "max          5600.000000   201909.000000   2019.000000"
      ]
     },
     "execution_count": 18,
     "metadata": {},
     "output_type": "execute_result"
    }
   ],
   "source": [
    "# dropped biden's max value of 15K\n",
    "df = df.drop(df['contb_receipt_amt'].idxmax())\n",
    "df.describe()"
   ]
  },
  {
   "cell_type": "code",
   "execution_count": 20,
   "metadata": {},
   "outputs": [
    {
     "data": {
      "image/png": "[encoded data removed]",
      "text/plain": [
       "<Figure size 432x288 with 1 Axes>"
      ]
     },
     "metadata": {
      "needs_background": "light"
     },
     "output_type": "display_data"
    }
   ],
   "source": [
    "plt.scatter(df.contb_receipt_amt, df.cand_nm)\n",
    "plt.show()"
   ]
  },
  {
   "cell_type": "markdown",
   "metadata": {},
   "source": [
    "## Label Encoding by Candidate Name"
   ]
  },
  {
   "cell_type": "code",
   "execution_count": null,
   "metadata": {},
   "outputs": [],
   "source": [
    "y = df['cand_nm']\n",
    "le = LabelEncoder()\n",
    "y_cand_nm = le.fit_transform(y)"
   ]
  },
  {
   "cell_type": "code",
   "execution_count": null,
   "metadata": {},
   "outputs": [],
   "source": [
    "df['cand_label'] = y_cand_nm"
   ]
  },
  {
   "cell_type": "markdown",
   "metadata": {},
   "source": [
    "## Splitting The Training and Testing Datasets"
   ]
  },
  {
   "cell_type": "code",
   "execution_count": null,
   "metadata": {},
   "outputs": [],
   "source": [
    "X = df.contb_receipt_amt.values.reshape(-1, 1)\n",
    "y = df.cand_label\n",
    "\n",
    "# We're going to split the train and test data and stratify by candidate name\n",
    "X_train, X_test, y_train, y_test = train_test_split(\n",
    "    X, y, random_state=0, stratify=y, test_size=.2)\n"
   ]
  },
  {
   "cell_type": "markdown",
   "metadata": {},
   "source": [
    "## Checking for Linear Relationship & Multicollinearity\n",
    "\n",
    "Most values are categorical. As a test we're just looking at the candidate value(party) and the receipt amount. Pearson's R in this case is negative. \n",
    "\n",
    "No reason to look for VIF according to the result."
   ]
  },
  {
   "cell_type": "code",
   "execution_count": null,
   "metadata": {},
   "outputs": [],
   "source": [
    "#most values are categorical, as a test we're just looking at the candidate value(party) and the receipt amount\n",
    "df.corr()"
   ]
  },
  {
   "cell_type": "markdown",
   "metadata": {},
   "source": [
    "## Logistic Regression"
   ]
  },
  {
   "cell_type": "code",
   "execution_count": null,
   "metadata": {},
   "outputs": [],
   "source": [
    "# preliminary logistic regression\n",
    "lr = LogisticRegression(C=1e9, solver='lbfgs', multi_class='auto')\n",
    "lr.fit(X_train, y_train)"
   ]
  },
  {
   "cell_type": "code",
   "execution_count": null,
   "metadata": {},
   "outputs": [],
   "source": [
    "plt.figure(figsize=(12,10))\n",
    "y_train_predict = lr.predict(X_train)\n",
    "plt.scatter(X_train, y_train)\n",
    "plt.plot(X_train, y_train_predict, color='red')\n",
    "plt.xlabel('$ Amount')\n",
    "plt.ylabel('Candidate')"
   ]
  },
  {
   "cell_type": "code",
   "execution_count": null,
   "metadata": {},
   "outputs": [],
   "source": [
    "lr.score(X_train, y_train)"
   ]
  },
  {
   "cell_type": "code",
   "execution_count": null,
   "metadata": {},
   "outputs": [],
   "source": [
    "# label encoder\n",
    "# one versus rest; one versus one (costly)\n",
    "# read in scikit learn\n",
    "# linear models are sensitive to outliers; default is not always dropping outliers\n",
    "# where is threshold?\n",
    "# don't include Delaware in DC-only data; they are noise; extreme values are noise\n",
    "# extreme values are illegal; can work only in legal values\n",
    "# standardized outlier test ( p. 97)\n",
    "# what do we do with the zip codes? Don't make it 50 different columns.\n",
    "# penalization (L1 and L2) requires penalization\n",
    "# when do you do scaling? scale it in the train and apply to the test\n",
    "# sparse data set; many zeros and few ones\n",
    "# go through everything very systematically and report everything"
   ]
  },
  {
   "cell_type": "code",
   "execution_count": null,
   "metadata": {},
   "outputs": [],
   "source": [
    "def convert_label(y_series): \n",
    "    for y in y_series:\n",
    "        if y == 3:\n",
    "            label = 1\n",
    "        else:\n",
    "            label = 0 \n",
    "    return label\n"
   ]
  },
  {
   "cell_type": "code",
   "execution_count": null,
   "metadata": {},
   "outputs": [],
   "source": [
    "outcome = 'cand_nm' # or outcome = cand_val\n",
    "x_numeric = ['contb_receipt_amt', 'converted_date', 'payment_yr']\n",
    "x_cat = ['contbr_zip']"
   ]
  }
 ],
 "metadata": {
  "kernelspec": {
   "display_name": "Python 3",
   "language": "python",
   "name": "python3"
  },
  "language_info": {
   "codemirror_mode": {
    "name": "ipython",
    "version": 3
   },
   "file_extension": ".py",
   "mimetype": "text/x-python",
   "name": "python",
   "nbconvert_exporter": "python",
   "pygments_lexer": "ipython3",
   "version": "3.7.3"
  },
  "varInspector": {
   "cols": {
    "lenName": 16,
    "lenType": 16,
    "lenVar": 40
   },
   "kernels_config": {
    "python": {
     "delete_cmd_postfix": "",
     "delete_cmd_prefix": "del ",
     "library": "var_list.py",
     "varRefreshCmd": "print(var_dic_list())"
    },
    "r": {
     "delete_cmd_postfix": ") ",
     "delete_cmd_prefix": "rm(",
     "library": "var_list.r",
     "varRefreshCmd": "cat(var_dic_list()) "
    }
   },
   "types_to_exclude": [
    "module",
    "function",
    "builtin_function_or_method",
    "instance",
    "_Feature"
   ],
   "window_display": false
  }
 },
 "nbformat": 4,
 "nbformat_minor": 2
}
