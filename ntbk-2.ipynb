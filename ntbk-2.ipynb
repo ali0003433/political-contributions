{
 "cells": [
  {
   "cell_type": "markdown",
   "metadata": {},
   "source": [
    "# Model Selection"
   ]
  },
  {
   "cell_type": "markdown",
   "metadata": {},
   "source": [
    "## Preparing data for modeling"
   ]
  },
  {
   "cell_type": "code",
   "execution_count": 2,
   "metadata": {
    "ExecuteTime": {
     "end_time": "2019-11-17T13:09:49.902382Z",
     "start_time": "2019-11-17T13:09:47.092092Z"
    }
   },
   "outputs": [],
   "source": [
    "import pandas as pd\n",
    "import numpy as np\n",
    "from sklearn.model_selection import train_test_split, GridSearchCV\n",
    "from sklearn.preprocessing import StandardScaler\n",
    "from sklearn.metrics import confusion_matrix, accuracy_score\n",
    "from sklearn.linear_model import LogisticRegression\n",
    "from sklearn.neighbors import KNeighborsClassifier\n",
    "from sklearn.svm import SVC\n",
    "from sklearn.ensemble import RandomForestClassifier"
   ]
  },
  {
   "cell_type": "code",
   "execution_count": 3,
   "metadata": {
    "ExecuteTime": {
     "end_time": "2019-11-17T13:09:50.023995Z",
     "start_time": "2019-11-17T13:09:49.906225Z"
    }
   },
   "outputs": [],
   "source": [
    "# read in CSV \n",
    "df = pd.read_csv('clean_data/2019-fec-contr-census.csv', index_col=0)\n",
    "\n",
    "# target variable set as candidate class \n",
    "y = df.target\n",
    "\n",
    "# predictor values of zip, date, and contribution amount \n",
    "df.contbr_zip = df.contbr_zip.astype(str)\n",
    "X_feats = ['contbr_zip',\n",
    "           'converted_date',\n",
    "           'contb_receipt_amt']\n",
    "X = pd.get_dummies(df[X_feats],\n",
    "                   drop_first=True)"
   ]
  },
  {
   "cell_type": "code",
   "execution_count": 4,
   "metadata": {
    "ExecuteTime": {
     "end_time": "2019-11-17T13:09:50.097411Z",
     "start_time": "2019-11-17T13:09:50.028057Z"
    }
   },
   "outputs": [
    {
     "data": {
      "text/plain": [
       "(11502, 23)"
      ]
     },
     "execution_count": 4,
     "metadata": {},
     "output_type": "execute_result"
    }
   ],
   "source": [
    "# split train and test data \n",
    "X_train, X_test, y_train, y_test = train_test_split(X, y, \n",
    "                                                    random_state=0, \n",
    "                                                    stratify=y, \n",
    "                                                    test_size=0.2\n",
    "                                                   )\n",
    "# scale train data \n",
    "scaler = StandardScaler()\n",
    "scaled_X_train = scaler.fit_transform(X_train)\n",
    "\n",
    "# scale test data \n",
    "scaled_X_test = scaler.transform(X_test)\n",
    "\n",
    "# scale all X data for cross-validation \n",
    "scaler = StandardScaler()\n",
    "scaled_X = scaler.fit_transform(X)\n",
    "scaled_X.shape"
   ]
  },
  {
   "cell_type": "markdown",
   "metadata": {},
   "source": [
    "## Logistic regression optimizing for multi-class problem"
   ]
  },
  {
   "cell_type": "code",
   "execution_count": 9,
   "metadata": {
    "ExecuteTime": {
     "end_time": "2019-11-17T13:10:36.609483Z",
     "start_time": "2019-11-17T13:10:36.491652Z"
    }
   },
   "outputs": [
    {
     "name": "stdout",
     "output_type": "stream",
     "text": [
      "Logistic regression train score: 0.44\n"
     ]
    }
   ],
   "source": [
    "# logistic regression model \n",
    "lr = LogisticRegression(  C=2, \n",
    "                           solver='lbfgs', \n",
    "                           multi_class='multinomial', \n",
    "                           max_iter=1000, \n",
    "                           penalty='l2',\n",
    "                           class_weight={0: .89 ,1: .78, 2: .98, 3: .87})\n",
    "\n",
    "# fit train data to model \n",
    "lr.fit(scaled_X_train, y_train)\n",
    "\n",
    "# predict train values \n",
    "y_hat_train = lr.predict(scaled_X_train)\n",
    "print('Logistic regression train score:', round(lr.score(scaled_X_train, y_train),2))"
   ]
  },
  {
   "cell_type": "code",
   "execution_count": 11,
   "metadata": {
    "ExecuteTime": {
     "end_time": "2019-11-17T13:10:58.014102Z",
     "start_time": "2019-11-17T13:10:58.005213Z"
    }
   },
   "outputs": [
    {
     "name": "stdout",
     "output_type": "stream",
     "text": [
      "Logistic regression test score: 0.42\n"
     ]
    }
   ],
   "source": [
    "# predict and print score \n",
    "y_hat_test = lr.predict(scaled_X_test)\n",
    "print('Logistic regression test score:', round(lr.score(scaled_X_test, y_test),2))"
   ]
  },
  {
   "cell_type": "code",
   "execution_count": 12,
   "metadata": {
    "ExecuteTime": {
     "end_time": "2019-11-17T13:11:02.182950Z",
     "start_time": "2019-11-17T13:11:02.161289Z"
    }
   },
   "outputs": [
    {
     "data": {
      "text/html": [
       "<div>\n",
       "<style scoped>\n",
       "    .dataframe tbody tr th:only-of-type {\n",
       "        vertical-align: middle;\n",
       "    }\n",
       "\n",
       "    .dataframe tbody tr th {\n",
       "        vertical-align: top;\n",
       "    }\n",
       "\n",
       "    .dataframe thead th {\n",
       "        text-align: right;\n",
       "    }\n",
       "</style>\n",
       "<table border=\"1\" class=\"dataframe\">\n",
       "  <thead>\n",
       "    <tr style=\"text-align: right;\">\n",
       "      <th></th>\n",
       "      <th>Biden</th>\n",
       "      <th>Buttigieg</th>\n",
       "      <th>Sanders</th>\n",
       "      <th>Warren</th>\n",
       "    </tr>\n",
       "  </thead>\n",
       "  <tbody>\n",
       "    <tr>\n",
       "      <th>actual Biden</th>\n",
       "      <td>25</td>\n",
       "      <td>99</td>\n",
       "      <td>83</td>\n",
       "      <td>77</td>\n",
       "    </tr>\n",
       "    <tr>\n",
       "      <th>actual Buttigieg</th>\n",
       "      <td>13</td>\n",
       "      <td>297</td>\n",
       "      <td>136</td>\n",
       "      <td>304</td>\n",
       "    </tr>\n",
       "    <tr>\n",
       "      <th>actual Sanders</th>\n",
       "      <td>8</td>\n",
       "      <td>43</td>\n",
       "      <td>246</td>\n",
       "      <td>248</td>\n",
       "    </tr>\n",
       "    <tr>\n",
       "      <th>actual Warren</th>\n",
       "      <td>9</td>\n",
       "      <td>140</td>\n",
       "      <td>172</td>\n",
       "      <td>401</td>\n",
       "    </tr>\n",
       "  </tbody>\n",
       "</table>\n",
       "</div>"
      ],
      "text/plain": [
       "                  Biden  Buttigieg  Sanders  Warren\n",
       "actual Biden         25         99       83      77\n",
       "actual Buttigieg     13        297      136     304\n",
       "actual Sanders        8         43      246     248\n",
       "actual Warren         9        140      172     401"
      ]
     },
     "execution_count": 12,
     "metadata": {},
     "output_type": "execute_result"
    }
   ],
   "source": [
    "# create confusion matrix for test results \n",
    "cm = confusion_matrix(y_test, y_hat_test)\n",
    "conf_matrix = pd.DataFrame(cm, index=['actual Biden',\n",
    "                                      'actual Buttigieg',\n",
    "                                      'actual Sanders',\n",
    "                                      'actual Warren'], \n",
    "                           columns= ['Biden', \n",
    "                                     'Buttigieg',\n",
    "                                     'Sanders',\n",
    "                                     'Warren'])\n",
    "conf_matrix"
   ]
  },
  {
   "cell_type": "markdown",
   "metadata": {},
   "source": [
    "## Logistic regression optimizing for single class"
   ]
  },
  {
   "cell_type": "code",
   "execution_count": 13,
   "metadata": {
    "ExecuteTime": {
     "end_time": "2019-11-17T13:11:07.466898Z",
     "start_time": "2019-11-17T13:11:07.236277Z"
    }
   },
   "outputs": [],
   "source": [
    "# logistic regression model \n",
    "lr_sanders = LogisticRegression(  C=0.01, \n",
    "                                   solver='saga', \n",
    "                                   multi_class='multinomial', \n",
    "                                   max_iter=1000,\n",
    "                                  penalty = 'l2',\n",
    "                                   class_weight={0: .4 ,1: .2, 2: 1.8, 3: .4})\n",
    "\n",
    "# fit model \n",
    "lr_sanders.fit(scaled_X_train, y_train)\n",
    "\n",
    "# predict test \n",
    "y_hat_test = lr_sanders.predict(scaled_X_test)"
   ]
  },
  {
   "cell_type": "code",
   "execution_count": 14,
   "metadata": {
    "ExecuteTime": {
     "end_time": "2019-11-17T13:11:21.754612Z",
     "start_time": "2019-11-17T13:11:21.734991Z"
    }
   },
   "outputs": [
    {
     "data": {
      "text/html": [
       "<div>\n",
       "<style scoped>\n",
       "    .dataframe tbody tr th:only-of-type {\n",
       "        vertical-align: middle;\n",
       "    }\n",
       "\n",
       "    .dataframe tbody tr th {\n",
       "        vertical-align: top;\n",
       "    }\n",
       "\n",
       "    .dataframe thead th {\n",
       "        text-align: right;\n",
       "    }\n",
       "</style>\n",
       "<table border=\"1\" class=\"dataframe\">\n",
       "  <thead>\n",
       "    <tr style=\"text-align: right;\">\n",
       "      <th></th>\n",
       "      <th>Biden</th>\n",
       "      <th>Buttigieg</th>\n",
       "      <th>Sanders</th>\n",
       "      <th>Warren</th>\n",
       "    </tr>\n",
       "  </thead>\n",
       "  <tbody>\n",
       "    <tr>\n",
       "      <th>actual Biden</th>\n",
       "      <td>42</td>\n",
       "      <td>11</td>\n",
       "      <td>229</td>\n",
       "      <td>2</td>\n",
       "    </tr>\n",
       "    <tr>\n",
       "      <th>actual Buttigieg</th>\n",
       "      <td>36</td>\n",
       "      <td>34</td>\n",
       "      <td>678</td>\n",
       "      <td>2</td>\n",
       "    </tr>\n",
       "    <tr>\n",
       "      <th>actual Sanders</th>\n",
       "      <td>0</td>\n",
       "      <td>1</td>\n",
       "      <td>544</td>\n",
       "      <td>0</td>\n",
       "    </tr>\n",
       "    <tr>\n",
       "      <th>actual Warren</th>\n",
       "      <td>8</td>\n",
       "      <td>7</td>\n",
       "      <td>706</td>\n",
       "      <td>1</td>\n",
       "    </tr>\n",
       "  </tbody>\n",
       "</table>\n",
       "</div>"
      ],
      "text/plain": [
       "                  Biden  Buttigieg  Sanders  Warren\n",
       "actual Biden         42         11      229       2\n",
       "actual Buttigieg     36         34      678       2\n",
       "actual Sanders        0          1      544       0\n",
       "actual Warren         8          7      706       1"
      ]
     },
     "execution_count": 14,
     "metadata": {},
     "output_type": "execute_result"
    }
   ],
   "source": [
    "# create confusion matrix\n",
    "cm = confusion_matrix(y_test, y_hat_test)\n",
    "conf_matrix = pd.DataFrame(cm, index=['actual Biden',\n",
    "                                      'actual Buttigieg',\n",
    "                                      'actual Sanders',\n",
    "                                      'actual Warren'], \n",
    "                           columns= ['Biden', \n",
    "                                     'Buttigieg',\n",
    "                                     'Sanders',\n",
    "                                     'Warren'])\n",
    "conf_matrix"
   ]
  },
  {
   "cell_type": "code",
   "execution_count": 19,
   "metadata": {
    "ExecuteTime": {
     "end_time": "2019-11-17T13:12:06.928367Z",
     "start_time": "2019-11-17T13:12:06.916526Z"
    }
   },
   "outputs": [
    {
     "name": "stdout",
     "output_type": "stream",
     "text": [
      "Predicted Sanders and was True Sanders: 544 \n",
      " Total True Sanders: 545 \n",
      " True Positive: 99.82 \n",
      " False Positive: 74.78\n"
     ]
    }
   ],
   "source": [
    "# sanders metrics\n",
    "corr = cm[2][2]\n",
    "total = sum(cm[2])\n",
    "true_pos = corr/total\n",
    "\n",
    "incorrect = cm[:,2]\n",
    "false_pos = (sum(incorrect) - corr)/ sum(incorrect)\n",
    "\n",
    "print('Predicted Sanders and was True Sanders:', corr,'\\n', \n",
    "      'Total True Sanders:', total,'\\n', \n",
    "      'True Positive:', round(100*true_pos,2),'\\n',\n",
    "     'False Positive:', round(100*false_pos, 2)\n",
    ")"
   ]
  },
  {
   "cell_type": "markdown",
   "metadata": {},
   "source": [
    "## K-Nearest Neighbors (KNN)"
   ]
  },
  {
   "cell_type": "code",
   "execution_count": 20,
   "metadata": {
    "ExecuteTime": {
     "end_time": "2019-11-17T13:13:58.037643Z",
     "start_time": "2019-11-17T13:13:40.183674Z"
    }
   },
   "outputs": [
    {
     "name": "stdout",
     "output_type": "stream",
     "text": [
      "KNN gridsearchcv best score: 0.42\n"
     ]
    }
   ],
   "source": [
    "# knn model \n",
    "knn = KNeighborsClassifier()\n",
    "param_grid = {'n_neighbors': [20, 40, 60],\n",
    "              'weights': ['distance'],\n",
    "              'algorithm': ['auto'], \n",
    "              'leaf_size': [3, 5],\n",
    "              'p':[1]\n",
    "             }\n",
    "\n",
    "# call GridSearchCV with knn estimator \n",
    "gs = GridSearchCV( knn, \n",
    "                   param_grid, \n",
    "                   n_jobs=-1,\n",
    "                   scoring='accuracy',\n",
    "                   cv=3\n",
    "                 )\n",
    "\n",
    "# fit model \n",
    "gs.fit(scaled_X, y)\n",
    "\n",
    "# print best params and score from gridsearchcv\n",
    "gs.best_params_\n",
    "print('KNN gridsearchcv best score:', \n",
    "      round(gs.best_score_,2)\n",
    "     )"
   ]
  },
  {
   "cell_type": "markdown",
   "metadata": {},
   "source": [
    "## Support Vector Machines (SVM) "
   ]
  },
  {
   "cell_type": "code",
   "execution_count": 21,
   "metadata": {
    "ExecuteTime": {
     "end_time": "2019-11-17T13:14:36.973718Z",
     "start_time": "2019-11-17T13:14:25.512768Z"
    }
   },
   "outputs": [
    {
     "name": "stdout",
     "output_type": "stream",
     "text": [
      "SVM linear train: 0.36\n"
     ]
    }
   ],
   "source": [
    "# run svm with linear kernel \n",
    "svm = SVC(kernel='linear', \n",
    "          class_weight='balanced')\n",
    "\n",
    "# fit model to scaled train data\n",
    "svm.fit(scaled_X_train, y_train)\n",
    "\n",
    "# predict and print train score\n",
    "y_hat_train = svm.predict(scaled_X_train)\n",
    "score = accuracy_score(y_train, y_hat_train)\n",
    "print('SVM linear train:', \n",
    "      round(score,2)\n",
    "     )"
   ]
  },
  {
   "cell_type": "code",
   "execution_count": 22,
   "metadata": {
    "ExecuteTime": {
     "end_time": "2019-11-17T13:14:59.597087Z",
     "start_time": "2019-11-17T13:14:48.887856Z"
    }
   },
   "outputs": [
    {
     "name": "stdout",
     "output_type": "stream",
     "text": [
      "SVM linear test: 0.36\n"
     ]
    }
   ],
   "source": [
    "# run test data \n",
    "svm.fit(scaled_X_train, y_train)\n",
    "y_hat_test = svm.predict(scaled_X_test)\n",
    "score = accuracy_score(y_test, y_hat_test)\n",
    "\n",
    "# print test score \n",
    "print('SVM linear test:', \n",
    "      round(score,2)\n",
    "     )"
   ]
  },
  {
   "cell_type": "code",
   "execution_count": 23,
   "metadata": {
    "ExecuteTime": {
     "end_time": "2019-11-17T13:15:49.891851Z",
     "start_time": "2019-11-17T13:15:38.068126Z"
    }
   },
   "outputs": [
    {
     "name": "stdout",
     "output_type": "stream",
     "text": [
      "SVM rbf train: 0.38\n"
     ]
    }
   ],
   "source": [
    "# run svm with radial basis function \n",
    "svm = SVC(kernel='rbf', \n",
    "          class_weight='balanced'\n",
    "         )\n",
    "\n",
    "# fit to scaled train data\n",
    "svm.fit(scaled_X_train, y_train)\n",
    "\n",
    "# predict and print train score\n",
    "y_hat_train = svm.predict(scaled_X_train)\n",
    "score = accuracy_score(y_train, y_hat_train)\n",
    "print('SVM rbf train:', \n",
    "      round(score,2)\n",
    "     )"
   ]
  },
  {
   "cell_type": "code",
   "execution_count": 24,
   "metadata": {
    "ExecuteTime": {
     "end_time": "2019-11-17T13:16:06.488556Z",
     "start_time": "2019-11-17T13:15:57.095856Z"
    }
   },
   "outputs": [
    {
     "name": "stdout",
     "output_type": "stream",
     "text": [
      "SVM rbf test: 0.37\n"
     ]
    }
   ],
   "source": [
    "# run test data \n",
    "svm.fit(scaled_X_train, y_train)\n",
    "\n",
    "# print test score \n",
    "y_hat_test = svm.predict(scaled_X_test)\n",
    "score = accuracy_score(y_test, y_hat_test)\n",
    "print('SVM rbf test:', \n",
    "      round(score, 2)\n",
    "     )"
   ]
  },
  {
   "cell_type": "markdown",
   "metadata": {},
   "source": [
    "## Random forest "
   ]
  },
  {
   "cell_type": "code",
   "execution_count": 25,
   "metadata": {
    "ExecuteTime": {
     "end_time": "2019-11-17T13:16:30.596854Z",
     "start_time": "2019-11-17T13:16:30.458420Z"
    }
   },
   "outputs": [
    {
     "name": "stdout",
     "output_type": "stream",
     "text": [
      "Random forest train: 0.7\n"
     ]
    },
    {
     "name": "stderr",
     "output_type": "stream",
     "text": [
      "/Users/alyssaliguori/anaconda3/lib/python3.7/site-packages/sklearn/ensemble/forest.py:245: FutureWarning: The default value of n_estimators will change from 10 in version 0.20 to 100 in 0.22.\n",
      "  \"10 in version 0.20 to 100 in 0.22.\", FutureWarning)\n"
     ]
    }
   ],
   "source": [
    "# run train data \n",
    "rf = RandomForestClassifier()\n",
    "\n",
    "# fit model to train data\n",
    "rf.fit(scaled_X_train, y_train)\n",
    "\n",
    "# print train score \n",
    "y_hat_train = rf.predict(scaled_X_train)\n",
    "score = accuracy_score(y_train, y_hat_train)\n",
    "print('Random forest train:', \n",
    "      round(score,2)\n",
    "     )"
   ]
  },
  {
   "cell_type": "code",
   "execution_count": 26,
   "metadata": {
    "ExecuteTime": {
     "end_time": "2019-11-17T13:16:33.661828Z",
     "start_time": "2019-11-17T13:16:33.638615Z"
    }
   },
   "outputs": [
    {
     "name": "stdout",
     "output_type": "stream",
     "text": [
      "Random forest test: 0.53\n"
     ]
    }
   ],
   "source": [
    "# predict and print test score \n",
    "y_hat_test = rf.predict(scaled_X_test)\n",
    "score = accuracy_score(y_test, y_hat_test)\n",
    "print('Random forest test:', \n",
    "      round(score,2)\n",
    "     )"
   ]
  }
 ],
 "metadata": {
  "kernelspec": {
   "display_name": "Python 3",
   "language": "python",
   "name": "python3"
  },
  "language_info": {
   "codemirror_mode": {
    "name": "ipython",
    "version": 3
   },
   "file_extension": ".py",
   "mimetype": "text/x-python",
   "name": "python",
   "nbconvert_exporter": "python",
   "pygments_lexer": "ipython3",
   "version": "3.7.3"
  },
  "toc": {
   "base_numbering": 1,
   "nav_menu": {},
   "number_sections": true,
   "sideBar": true,
   "skip_h1_title": false,
   "title_cell": "Table of Contents",
   "title_sidebar": "Contents",
   "toc_cell": false,
   "toc_position": {},
   "toc_section_display": true,
   "toc_window_display": false
  }
 },
 "nbformat": 4,
 "nbformat_minor": 2
}
