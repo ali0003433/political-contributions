{
 "cells": [
  {
   "cell_type": "markdown",
   "metadata": {},
   "source": [
    "## Read in CSV cleaned from ntbk-1\n"
   ]
  },
  {
   "cell_type": "code",
   "execution_count": 1,
   "metadata": {},
   "outputs": [],
   "source": [
    "import pandas as pd\n",
    "import numpy as np\n",
    "import matplotlib.pyplot as plt\n",
    "import sqlite3\n",
    "import csv"
   ]
  },
  {
   "cell_type": "code",
   "execution_count": 2,
   "metadata": {},
   "outputs": [],
   "source": [
    "df = pd.read_csv('clean_data/2019-dems-contributions.csv', usecols=['cand_nm','contb_receipt_amt','contbr_zip','contbr_occupation','occ_cat','converted_date'])\n",
    "\n"
   ]
  },
  {
   "cell_type": "code",
   "execution_count": 3,
   "metadata": {},
   "outputs": [
    {
     "data": {
      "text/html": [
       "<div>\n",
       "<style scoped>\n",
       "    .dataframe tbody tr th:only-of-type {\n",
       "        vertical-align: middle;\n",
       "    }\n",
       "\n",
       "    .dataframe tbody tr th {\n",
       "        vertical-align: top;\n",
       "    }\n",
       "\n",
       "    .dataframe thead th {\n",
       "        text-align: right;\n",
       "    }\n",
       "</style>\n",
       "<table border=\"1\" class=\"dataframe\">\n",
       "  <thead>\n",
       "    <tr style=\"text-align: right;\">\n",
       "      <th></th>\n",
       "      <th>cand_nm</th>\n",
       "      <th>contbr_zip</th>\n",
       "      <th>contbr_occupation</th>\n",
       "      <th>contb_receipt_amt</th>\n",
       "      <th>occ_cat</th>\n",
       "      <th>converted_date</th>\n",
       "    </tr>\n",
       "  </thead>\n",
       "  <tbody>\n",
       "    <tr>\n",
       "      <th>0</th>\n",
       "      <td>Sanders, Bernard</td>\n",
       "      <td>20001</td>\n",
       "      <td>UNION REPRESENTATIVE</td>\n",
       "      <td>100.0</td>\n",
       "      <td>union representative</td>\n",
       "      <td>201906</td>\n",
       "    </tr>\n",
       "    <tr>\n",
       "      <th>1</th>\n",
       "      <td>Sanders, Bernard</td>\n",
       "      <td>20001</td>\n",
       "      <td>UNION REPRESENTATIVE</td>\n",
       "      <td>3.0</td>\n",
       "      <td>union representative</td>\n",
       "      <td>201906</td>\n",
       "    </tr>\n",
       "    <tr>\n",
       "      <th>2</th>\n",
       "      <td>Sanders, Bernard</td>\n",
       "      <td>20001</td>\n",
       "      <td>UNION REPRESENTATIVE</td>\n",
       "      <td>27.0</td>\n",
       "      <td>union representative</td>\n",
       "      <td>201906</td>\n",
       "    </tr>\n",
       "    <tr>\n",
       "      <th>3</th>\n",
       "      <td>Sanders, Bernard</td>\n",
       "      <td>20007</td>\n",
       "      <td>IT</td>\n",
       "      <td>3.0</td>\n",
       "      <td>it</td>\n",
       "      <td>201903</td>\n",
       "    </tr>\n",
       "    <tr>\n",
       "      <th>4</th>\n",
       "      <td>Sanders, Bernard</td>\n",
       "      <td>20001</td>\n",
       "      <td>SOFTWARE DEVELOPER</td>\n",
       "      <td>27.0</td>\n",
       "      <td>it</td>\n",
       "      <td>201906</td>\n",
       "    </tr>\n",
       "  </tbody>\n",
       "</table>\n",
       "</div>"
      ],
      "text/plain": [
       "            cand_nm  contbr_zip     contbr_occupation  contb_receipt_amt  \\\n",
       "0  Sanders, Bernard       20001  UNION REPRESENTATIVE              100.0   \n",
       "1  Sanders, Bernard       20001  UNION REPRESENTATIVE                3.0   \n",
       "2  Sanders, Bernard       20001  UNION REPRESENTATIVE               27.0   \n",
       "3  Sanders, Bernard       20007                    IT                3.0   \n",
       "4  Sanders, Bernard       20001    SOFTWARE DEVELOPER               27.0   \n",
       "\n",
       "                occ_cat  converted_date  \n",
       "0  union representative          201906  \n",
       "1  union representative          201906  \n",
       "2  union representative          201906  \n",
       "3                    it          201903  \n",
       "4                    it          201906  "
      ]
     },
     "execution_count": 3,
     "metadata": {},
     "output_type": "execute_result"
    }
   ],
   "source": [
    "df.head()"
   ]
  },
  {
   "cell_type": "markdown",
   "metadata": {},
   "source": [
    "## Group zip codes by income "
   ]
  },
  {
   "cell_type": "code",
   "execution_count": 4,
   "metadata": {},
   "outputs": [
    {
     "name": "stdout",
     "output_type": "stream",
     "text": [
      "48\n",
      "int64\n",
      "<class 'pandas.core.frame.DataFrame'>\n",
      "RangeIndex: 11614 entries, 0 to 11613\n",
      "Data columns (total 6 columns):\n",
      "cand_nm              11614 non-null object\n",
      "contbr_zip           11614 non-null int64\n",
      "contbr_occupation    11614 non-null object\n",
      "contb_receipt_amt    11614 non-null float64\n",
      "occ_cat              11614 non-null object\n",
      "converted_date       11614 non-null int64\n",
      "dtypes: float64(1), int64(2), object(3)\n",
      "memory usage: 544.5+ KB\n"
     ]
    }
   ],
   "source": [
    "print(len(list(df.contbr_zip.unique())))\n",
    "print(df.contbr_zip.dtype)\n",
    "df.info()"
   ]
  },
  {
   "cell_type": "code",
   "execution_count": 5,
   "metadata": {},
   "outputs": [],
   "source": [
    "conn = sqlite3.connect('')\n",
    "cur = conn.cursor()"
   ]
  },
  {
   "cell_type": "code",
   "execution_count": 6,
   "metadata": {},
   "outputs": [],
   "source": [
    "read_income = pd.read_csv('ACS_15_5YR_S1903/ACS_15_5YR_S1903_with_ann.csv', header =0, index_col=0, usecols=['GEO.id', 'GEO.id2','HC02_EST_VC02'], skiprows=[1,2],na_values='-')\n"
   ]
  },
  {
   "cell_type": "code",
   "execution_count": 7,
   "metadata": {},
   "outputs": [],
   "source": [
    "read_income.to_sql('INCOME', conn, if_exists = 'append')"
   ]
  },
  {
   "cell_type": "code",
   "execution_count": 8,
   "metadata": {},
   "outputs": [],
   "source": [
    "df_income = pd.DataFrame(read_income)\n",
    "df_income = df_income.rename(columns={'GEO.id2': 'zip', 'HC02_EST_VC02': 'income'})"
   ]
  },
  {
   "cell_type": "code",
   "execution_count": 9,
   "metadata": {},
   "outputs": [
    {
     "data": {
      "text/plain": [
       "cand_nm               object\n",
       "contbr_zip             int64\n",
       "contbr_occupation     object\n",
       "contb_receipt_amt    float64\n",
       "occ_cat               object\n",
       "converted_date         int64\n",
       "dtype: object"
      ]
     },
     "execution_count": 9,
     "metadata": {},
     "output_type": "execute_result"
    }
   ],
   "source": [
    "len(df_income.income.value_counts())\n",
    "df.dtypes"
   ]
  },
  {
   "cell_type": "markdown",
   "metadata": {},
   "source": [
    "## Take zip code and income from census table and match to contributions table"
   ]
  },
  {
   "cell_type": "code",
   "execution_count": 10,
   "metadata": {},
   "outputs": [],
   "source": [
    "df_merged = df.merge(df_income, how='left', left_on='contbr_zip', right_on='zip', suffixes=('_left','_right'))"
   ]
  },
  {
   "cell_type": "code",
   "execution_count": 11,
   "metadata": {},
   "outputs": [
    {
     "name": "stdout",
     "output_type": "stream",
     "text": [
      "cand_nm                0\n",
      "contbr_zip             0\n",
      "contbr_occupation      0\n",
      "contb_receipt_amt      0\n",
      "occ_cat                0\n",
      "converted_date         0\n",
      "zip                  105\n",
      "income               112\n",
      "dtype: int64\n",
      "cand_nm               object\n",
      "contbr_zip             int64\n",
      "contbr_occupation     object\n",
      "contb_receipt_amt    float64\n",
      "occ_cat               object\n",
      "converted_date         int64\n",
      "zip                  float64\n",
      "income               float64\n",
      "dtype: object\n"
     ]
    }
   ],
   "source": [
    "print(df_merged.isna().sum())\n",
    "print(df_merged.dtypes)\n",
    "pd.to_numeric(df_merged.income);"
   ]
  },
  {
   "cell_type": "code",
   "execution_count": 12,
   "metadata": {},
   "outputs": [
    {
     "data": {
      "text/plain": [
       "cand_nm              0\n",
       "contbr_zip           0\n",
       "contbr_occupation    0\n",
       "contb_receipt_amt    0\n",
       "occ_cat              0\n",
       "converted_date       0\n",
       "dtype: int64"
      ]
     },
     "execution_count": 12,
     "metadata": {},
     "output_type": "execute_result"
    }
   ],
   "source": [
    "df_merged.shape\n",
    "df.isna().sum()"
   ]
  },
  {
   "cell_type": "code",
   "execution_count": 13,
   "metadata": {},
   "outputs": [
    {
     "data": {
      "text/html": [
       "<div>\n",
       "<style scoped>\n",
       "    .dataframe tbody tr th:only-of-type {\n",
       "        vertical-align: middle;\n",
       "    }\n",
       "\n",
       "    .dataframe tbody tr th {\n",
       "        vertical-align: top;\n",
       "    }\n",
       "\n",
       "    .dataframe thead th {\n",
       "        text-align: right;\n",
       "    }\n",
       "</style>\n",
       "<table border=\"1\" class=\"dataframe\">\n",
       "  <thead>\n",
       "    <tr style=\"text-align: right;\">\n",
       "      <th></th>\n",
       "      <th>contbr_zip</th>\n",
       "      <th>contbr_occupation</th>\n",
       "      <th>contb_receipt_amt</th>\n",
       "      <th>occ_cat</th>\n",
       "      <th>converted_date</th>\n",
       "      <th>zip</th>\n",
       "      <th>income</th>\n",
       "    </tr>\n",
       "    <tr>\n",
       "      <th>cand_nm</th>\n",
       "      <th></th>\n",
       "      <th></th>\n",
       "      <th></th>\n",
       "      <th></th>\n",
       "      <th></th>\n",
       "      <th></th>\n",
       "      <th></th>\n",
       "    </tr>\n",
       "  </thead>\n",
       "  <tbody>\n",
       "    <tr>\n",
       "      <th>Biden, Joseph R Jr</th>\n",
       "      <td>20044</td>\n",
       "      <td>WASHINGTON DIRECTOR</td>\n",
       "      <td>2800.0</td>\n",
       "      <td>volunteer</td>\n",
       "      <td>201909</td>\n",
       "      <td>20037.0</td>\n",
       "      <td>161352.0</td>\n",
       "    </tr>\n",
       "    <tr>\n",
       "      <th>Buttigieg, Pete</th>\n",
       "      <td>20052</td>\n",
       "      <td>WRITER</td>\n",
       "      <td>2800.0</td>\n",
       "      <td>wine</td>\n",
       "      <td>201909</td>\n",
       "      <td>20052.0</td>\n",
       "      <td>161352.0</td>\n",
       "    </tr>\n",
       "    <tr>\n",
       "      <th>Sanders, Bernard</th>\n",
       "      <td>25413</td>\n",
       "      <td>YOGA</td>\n",
       "      <td>2719.0</td>\n",
       "      <td>yoga</td>\n",
       "      <td>201909</td>\n",
       "      <td>20540.0</td>\n",
       "      <td>161352.0</td>\n",
       "    </tr>\n",
       "    <tr>\n",
       "      <th>Warren, Elizabeth</th>\n",
       "      <td>20038</td>\n",
       "      <td>WRITER/EDITOR</td>\n",
       "      <td>2800.0</td>\n",
       "      <td>writer/editor</td>\n",
       "      <td>201909</td>\n",
       "      <td>20037.0</td>\n",
       "      <td>161352.0</td>\n",
       "    </tr>\n",
       "  </tbody>\n",
       "</table>\n",
       "</div>"
      ],
      "text/plain": [
       "                    contbr_zip    contbr_occupation  contb_receipt_amt  \\\n",
       "cand_nm                                                                  \n",
       "Biden, Joseph R Jr       20044  WASHINGTON DIRECTOR             2800.0   \n",
       "Buttigieg, Pete          20052               WRITER             2800.0   \n",
       "Sanders, Bernard         25413                 YOGA             2719.0   \n",
       "Warren, Elizabeth        20038        WRITER/EDITOR             2800.0   \n",
       "\n",
       "                          occ_cat  converted_date      zip    income  \n",
       "cand_nm                                                               \n",
       "Biden, Joseph R Jr      volunteer          201909  20037.0  161352.0  \n",
       "Buttigieg, Pete              wine          201909  20052.0  161352.0  \n",
       "Sanders, Bernard             yoga          201909  20540.0  161352.0  \n",
       "Warren, Elizabeth   writer/editor          201909  20037.0  161352.0  "
      ]
     },
     "execution_count": 13,
     "metadata": {},
     "output_type": "execute_result"
    }
   ],
   "source": [
    "df_merged.groupby('cand_nm').max()"
   ]
  },
  {
   "cell_type": "code",
   "execution_count": 14,
   "metadata": {},
   "outputs": [
    {
     "data": {
      "text/plain": [
       "cand_nm                0\n",
       "contbr_zip             0\n",
       "contbr_occupation      0\n",
       "contb_receipt_amt      0\n",
       "occ_cat                0\n",
       "converted_date         0\n",
       "zip                  105\n",
       "income               112\n",
       "dtype: int64"
      ]
     },
     "execution_count": 14,
     "metadata": {},
     "output_type": "execute_result"
    }
   ],
   "source": [
    "df_merged.isna().sum()"
   ]
  },
  {
   "cell_type": "code",
   "execution_count": 15,
   "metadata": {},
   "outputs": [
    {
     "name": "stdout",
     "output_type": "stream",
     "text": [
      "              cand_nm  contbr_zip contbr_occupation  contb_receipt_amt  \\\n",
      "0  Biden, Joseph R Jr       20016      NOT EMPLOYED               50.0   \n",
      "\n",
      "                   occ_cat  converted_date      zip    income  \n",
      "0  not employed or unknown          201909  20016.0  124080.0  \n",
      "           cand_nm  contbr_zip contbr_occupation  contb_receipt_amt  \\\n",
      "0  Buttigieg, Pete       20009      NOT EMPLOYED              100.0   \n",
      "\n",
      "                   occ_cat  converted_date      zip   income  \n",
      "0  not employed or unknown          201909  20009.0  94213.0  \n",
      "            cand_nm  contbr_zip contbr_occupation  contb_receipt_amt occ_cat  \\\n",
      "0  Sanders, Bernard       20009      NOT EMPLOYED               27.0     gov   \n",
      "\n",
      "   converted_date      zip   income  \n",
      "0          201909  20009.0  94213.0  \n",
      "              cand_nm  contbr_zip contbr_occupation  contb_receipt_amt  \\\n",
      "0  Warren, Elizabeth        20009          ATTORNEY               25.0   \n",
      "\n",
      "  occ_cat  converted_date      zip   income  \n",
      "0     law          201909  20009.0  94213.0  \n"
     ]
    }
   ],
   "source": [
    "print(df_merged.loc[df.cand_nm == 'Biden, Joseph R Jr'].mode())\n",
    "print(df_merged.loc[df.cand_nm == 'Buttigieg, Pete'].mode())\n",
    "print(df_merged.loc[df.cand_nm == 'Sanders, Bernard'].mode())\n",
    "print(df_merged.loc[df.cand_nm == 'Warren, Elizabeth '].mode())"
   ]
  },
  {
   "cell_type": "code",
   "execution_count": 16,
   "metadata": {},
   "outputs": [
    {
     "name": "stdout",
     "output_type": "stream",
     "text": [
      "3\n",
      "2\n",
      "1\n",
      "99\n"
     ]
    }
   ],
   "source": [
    "# how many income values are each candidate missing? \n",
    "print(len(df_merged.loc[(df_merged.cand_nm == 'Warren, Elizabeth ') & (df_merged.zip.isna() == True)]))\n",
    "print(len(df_merged.loc[(df_merged.cand_nm == 'Biden, Joseph R Jr') & (df_merged.zip.isna() == True)]))\n",
    "print(len(df_merged.loc[(df_merged.cand_nm == 'Buttigieg, Pete') & (df_merged.zip.isna() == True)]))\n",
    "print(len(df_merged.loc[(df_merged.cand_nm == 'Sanders, Bernard') & (df_merged.zip.isna() == True)]))"
   ]
  },
  {
   "cell_type": "code",
   "execution_count": 17,
   "metadata": {},
   "outputs": [
    {
     "name": "stdout",
     "output_type": "stream",
     "text": [
      "[20013 20552 20212 20526 20301 22205 25413 20585 20375 20472 20270 20026\n",
      " 20229 20420 20591 20500 20210 20014 20027 20577]\n",
      "20\n"
     ]
    },
    {
     "data": {
      "text/html": [
       "<div>\n",
       "<style scoped>\n",
       "    .dataframe tbody tr th:only-of-type {\n",
       "        vertical-align: middle;\n",
       "    }\n",
       "\n",
       "    .dataframe tbody tr th {\n",
       "        vertical-align: top;\n",
       "    }\n",
       "\n",
       "    .dataframe thead th {\n",
       "        text-align: right;\n",
       "    }\n",
       "</style>\n",
       "<table border=\"1\" class=\"dataframe\">\n",
       "  <thead>\n",
       "    <tr style=\"text-align: right;\">\n",
       "      <th></th>\n",
       "      <th>cand_nm</th>\n",
       "      <th>contbr_zip</th>\n",
       "      <th>contbr_occupation</th>\n",
       "      <th>contb_receipt_amt</th>\n",
       "      <th>occ_cat</th>\n",
       "      <th>converted_date</th>\n",
       "      <th>zip</th>\n",
       "      <th>income</th>\n",
       "    </tr>\n",
       "  </thead>\n",
       "  <tbody>\n",
       "    <tr>\n",
       "      <th>27</th>\n",
       "      <td>Sanders, Bernard</td>\n",
       "      <td>20013</td>\n",
       "      <td>NOT EMPLOYED</td>\n",
       "      <td>3.00</td>\n",
       "      <td>not employed or unknown</td>\n",
       "      <td>201903</td>\n",
       "      <td>NaN</td>\n",
       "      <td>NaN</td>\n",
       "    </tr>\n",
       "    <tr>\n",
       "      <th>85</th>\n",
       "      <td>Sanders, Bernard</td>\n",
       "      <td>20552</td>\n",
       "      <td>ECONOMIST</td>\n",
       "      <td>25.00</td>\n",
       "      <td>science</td>\n",
       "      <td>201903</td>\n",
       "      <td>NaN</td>\n",
       "      <td>NaN</td>\n",
       "    </tr>\n",
       "    <tr>\n",
       "      <th>92</th>\n",
       "      <td>Sanders, Bernard</td>\n",
       "      <td>20212</td>\n",
       "      <td>ECONOMIST</td>\n",
       "      <td>3.00</td>\n",
       "      <td>science</td>\n",
       "      <td>201903</td>\n",
       "      <td>NaN</td>\n",
       "      <td>NaN</td>\n",
       "    </tr>\n",
       "    <tr>\n",
       "      <th>102</th>\n",
       "      <td>Sanders, Bernard</td>\n",
       "      <td>20013</td>\n",
       "      <td>NOT EMPLOYED</td>\n",
       "      <td>16.66</td>\n",
       "      <td>not employed or unknown</td>\n",
       "      <td>201903</td>\n",
       "      <td>NaN</td>\n",
       "      <td>NaN</td>\n",
       "    </tr>\n",
       "    <tr>\n",
       "      <th>103</th>\n",
       "      <td>Sanders, Bernard</td>\n",
       "      <td>20013</td>\n",
       "      <td>NOT EMPLOYED</td>\n",
       "      <td>3.00</td>\n",
       "      <td>not employed or unknown</td>\n",
       "      <td>201903</td>\n",
       "      <td>NaN</td>\n",
       "      <td>NaN</td>\n",
       "    </tr>\n",
       "  </tbody>\n",
       "</table>\n",
       "</div>"
      ],
      "text/plain": [
       "              cand_nm  contbr_zip contbr_occupation  contb_receipt_amt  \\\n",
       "27   Sanders, Bernard       20013      NOT EMPLOYED               3.00   \n",
       "85   Sanders, Bernard       20552         ECONOMIST              25.00   \n",
       "92   Sanders, Bernard       20212         ECONOMIST               3.00   \n",
       "102  Sanders, Bernard       20013      NOT EMPLOYED              16.66   \n",
       "103  Sanders, Bernard       20013      NOT EMPLOYED               3.00   \n",
       "\n",
       "                     occ_cat  converted_date  zip  income  \n",
       "27   not employed or unknown          201903  NaN     NaN  \n",
       "85                   science          201903  NaN     NaN  \n",
       "92                   science          201903  NaN     NaN  \n",
       "102  not employed or unknown          201903  NaN     NaN  \n",
       "103  not employed or unknown          201903  NaN     NaN  "
      ]
     },
     "execution_count": 17,
     "metadata": {},
     "output_type": "execute_result"
    }
   ],
   "source": [
    "# what's going on with all of Bernie Sanders' null values? \n",
    "df_bernie_nas = df_merged.loc[(df_merged.cand_nm == 'Sanders, Bernard') & (df_merged.zip.isna() == True)]\n",
    "print(df_bernie_nas.contbr_zip.unique())\n",
    "print(len(df_bernie_nas.contbr_zip.unique()))\n",
    "df_bernie_nas.head()"
   ]
  },
  {
   "cell_type": "code",
   "execution_count": 18,
   "metadata": {},
   "outputs": [],
   "source": [
    "# Warren's missing values were for an economist so I filled that in with average salary in DC for economist \n",
    "# df_merged = df_merged.loc[(df_merged.cand_nm == 'Warren, Elizabeth ')].fillna('107000')\n",
    "# df_merged.loc[(df_merged.cand_nm == 'Warren, Elizabeth ') & (df_merged.zip.isna() == True)]"
   ]
  },
  {
   "cell_type": "code",
   "execution_count": 19,
   "metadata": {},
   "outputs": [
    {
     "data": {
      "text/plain": [
       "112"
      ]
     },
     "execution_count": 19,
     "metadata": {},
     "output_type": "execute_result"
    }
   ],
   "source": [
    "nulls = df_merged.loc[df_merged.income.isna() == True].index\n",
    "len(nulls)"
   ]
  },
  {
   "cell_type": "code",
   "execution_count": 20,
   "metadata": {},
   "outputs": [
    {
     "data": {
      "text/plain": [
       "11502"
      ]
     },
     "execution_count": 20,
     "metadata": {},
     "output_type": "execute_result"
    }
   ],
   "source": [
    "# drop null income values, most of them went to Bernie Sanders \n",
    "df_merged = df_merged.drop(index=nulls)\n",
    "len(df_merged)\n"
   ]
  },
  {
   "cell_type": "code",
   "execution_count": 21,
   "metadata": {},
   "outputs": [
    {
     "data": {
      "text/html": [
       "<div>\n",
       "<style scoped>\n",
       "    .dataframe tbody tr th:only-of-type {\n",
       "        vertical-align: middle;\n",
       "    }\n",
       "\n",
       "    .dataframe tbody tr th {\n",
       "        vertical-align: top;\n",
       "    }\n",
       "\n",
       "    .dataframe thead th {\n",
       "        text-align: right;\n",
       "    }\n",
       "</style>\n",
       "<table border=\"1\" class=\"dataframe\">\n",
       "  <thead>\n",
       "    <tr style=\"text-align: right;\">\n",
       "      <th></th>\n",
       "      <th>cand_nm</th>\n",
       "      <th>contbr_zip</th>\n",
       "      <th>contbr_occupation</th>\n",
       "      <th>contb_receipt_amt</th>\n",
       "      <th>occ_cat</th>\n",
       "      <th>converted_date</th>\n",
       "      <th>zip</th>\n",
       "      <th>income</th>\n",
       "    </tr>\n",
       "  </thead>\n",
       "  <tbody>\n",
       "    <tr>\n",
       "      <th>0</th>\n",
       "      <td>Sanders, Bernard</td>\n",
       "      <td>20001</td>\n",
       "      <td>UNION REPRESENTATIVE</td>\n",
       "      <td>100.0</td>\n",
       "      <td>union representative</td>\n",
       "      <td>201906</td>\n",
       "      <td>20001.0</td>\n",
       "      <td>85976.0</td>\n",
       "    </tr>\n",
       "    <tr>\n",
       "      <th>1</th>\n",
       "      <td>Sanders, Bernard</td>\n",
       "      <td>20001</td>\n",
       "      <td>UNION REPRESENTATIVE</td>\n",
       "      <td>3.0</td>\n",
       "      <td>union representative</td>\n",
       "      <td>201906</td>\n",
       "      <td>20001.0</td>\n",
       "      <td>85976.0</td>\n",
       "    </tr>\n",
       "    <tr>\n",
       "      <th>2</th>\n",
       "      <td>Sanders, Bernard</td>\n",
       "      <td>20001</td>\n",
       "      <td>UNION REPRESENTATIVE</td>\n",
       "      <td>27.0</td>\n",
       "      <td>union representative</td>\n",
       "      <td>201906</td>\n",
       "      <td>20001.0</td>\n",
       "      <td>85976.0</td>\n",
       "    </tr>\n",
       "    <tr>\n",
       "      <th>3</th>\n",
       "      <td>Sanders, Bernard</td>\n",
       "      <td>20007</td>\n",
       "      <td>IT</td>\n",
       "      <td>3.0</td>\n",
       "      <td>it</td>\n",
       "      <td>201903</td>\n",
       "      <td>20007.0</td>\n",
       "      <td>119267.0</td>\n",
       "    </tr>\n",
       "    <tr>\n",
       "      <th>4</th>\n",
       "      <td>Sanders, Bernard</td>\n",
       "      <td>20001</td>\n",
       "      <td>SOFTWARE DEVELOPER</td>\n",
       "      <td>27.0</td>\n",
       "      <td>it</td>\n",
       "      <td>201906</td>\n",
       "      <td>20001.0</td>\n",
       "      <td>85976.0</td>\n",
       "    </tr>\n",
       "  </tbody>\n",
       "</table>\n",
       "</div>"
      ],
      "text/plain": [
       "            cand_nm  contbr_zip     contbr_occupation  contb_receipt_amt  \\\n",
       "0  Sanders, Bernard       20001  UNION REPRESENTATIVE              100.0   \n",
       "1  Sanders, Bernard       20001  UNION REPRESENTATIVE                3.0   \n",
       "2  Sanders, Bernard       20001  UNION REPRESENTATIVE               27.0   \n",
       "3  Sanders, Bernard       20007                    IT                3.0   \n",
       "4  Sanders, Bernard       20001    SOFTWARE DEVELOPER               27.0   \n",
       "\n",
       "                occ_cat  converted_date      zip    income  \n",
       "0  union representative          201906  20001.0   85976.0  \n",
       "1  union representative          201906  20001.0   85976.0  \n",
       "2  union representative          201906  20001.0   85976.0  \n",
       "3                    it          201903  20007.0  119267.0  \n",
       "4                    it          201906  20001.0   85976.0  "
      ]
     },
     "execution_count": 21,
     "metadata": {},
     "output_type": "execute_result"
    }
   ],
   "source": [
    "df_merged.head()"
   ]
  },
  {
   "cell_type": "code",
   "execution_count": 22,
   "metadata": {},
   "outputs": [
    {
     "data": {
      "text/plain": [
       "(11502, 8)"
      ]
     },
     "execution_count": 22,
     "metadata": {},
     "output_type": "execute_result"
    }
   ],
   "source": [
    "df_merged.shape"
   ]
  },
  {
   "cell_type": "code",
   "execution_count": 23,
   "metadata": {},
   "outputs": [
    {
     "data": {
      "text/plain": [
       "Buttigieg, Pete       3746\n",
       "Warren, Elizabeth     3609\n",
       "Sanders, Bernard      2726\n",
       "Biden, Joseph R Jr    1421\n",
       "Name: cand_nm, dtype: int64"
      ]
     },
     "execution_count": 23,
     "metadata": {},
     "output_type": "execute_result"
    }
   ],
   "source": [
    "df_merged.cand_nm.value_counts()"
   ]
  },
  {
   "cell_type": "code",
   "execution_count": 26,
   "metadata": {},
   "outputs": [],
   "source": [
    "df_merged.to_csv('final_data/contr-income.csv')"
   ]
  }
 ],
 "metadata": {
  "kernelspec": {
   "display_name": "Python 3",
   "language": "python",
   "name": "python3"
  },
  "language_info": {
   "codemirror_mode": {
    "name": "ipython",
    "version": 3
   },
   "file_extension": ".py",
   "mimetype": "text/x-python",
   "name": "python",
   "nbconvert_exporter": "python",
   "pygments_lexer": "ipython3",
   "version": "3.7.3"
  }
 },
 "nbformat": 4,
 "nbformat_minor": 2
}
