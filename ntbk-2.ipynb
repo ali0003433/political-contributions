{
 "cells": [
  {
   "cell_type": "markdown",
   "metadata": {},
   "source": [
    "# Predicting candidate using contributor data"
   ]
  },
  {
   "cell_type": "code",
   "execution_count": 1,
   "metadata": {
    "ExecuteTime": {
     "end_time": "2019-11-16T20:28:28.409517Z",
     "start_time": "2019-11-16T20:28:24.734682Z"
    }
   },
   "outputs": [],
   "source": [
    "import pandas as pd\n",
    "import numpy as np\n",
    "import matplotlib.pyplot as plt\n",
    "from sklearn.preprocessing import StandardScaler\n",
    "from sklearn.model_selection import train_test_split\n",
    "from sklearn.linear_model import LogisticRegression\n",
    "from sklearn.metrics import confusion_matrix\n",
    "import statsmodels.api as sm\n",
    "%matplotlib inline"
   ]
  },
  {
   "cell_type": "code",
   "execution_count": 2,
   "metadata": {
    "ExecuteTime": {
     "end_time": "2019-11-16T20:28:34.640945Z",
     "start_time": "2019-11-16T20:28:34.585491Z"
    }
   },
   "outputs": [
    {
     "data": {
      "text/html": [
       "<div>\n",
       "<style scoped>\n",
       "    .dataframe tbody tr th:only-of-type {\n",
       "        vertical-align: middle;\n",
       "    }\n",
       "\n",
       "    .dataframe tbody tr th {\n",
       "        vertical-align: top;\n",
       "    }\n",
       "\n",
       "    .dataframe thead th {\n",
       "        text-align: right;\n",
       "    }\n",
       "</style>\n",
       "<table border=\"1\" class=\"dataframe\">\n",
       "  <thead>\n",
       "    <tr style=\"text-align: right;\">\n",
       "      <th></th>\n",
       "      <th>cand_nm</th>\n",
       "      <th>contbr_zip</th>\n",
       "      <th>contb_receipt_amt</th>\n",
       "      <th>converted_date</th>\n",
       "      <th>income</th>\n",
       "      <th>target</th>\n",
       "    </tr>\n",
       "  </thead>\n",
       "  <tbody>\n",
       "    <tr>\n",
       "      <th>0</th>\n",
       "      <td>Sanders, Bernard</td>\n",
       "      <td>20001</td>\n",
       "      <td>100.0</td>\n",
       "      <td>201906</td>\n",
       "      <td>85976.0</td>\n",
       "      <td>2</td>\n",
       "    </tr>\n",
       "    <tr>\n",
       "      <th>1</th>\n",
       "      <td>Sanders, Bernard</td>\n",
       "      <td>20001</td>\n",
       "      <td>3.0</td>\n",
       "      <td>201906</td>\n",
       "      <td>85976.0</td>\n",
       "      <td>2</td>\n",
       "    </tr>\n",
       "    <tr>\n",
       "      <th>2</th>\n",
       "      <td>Sanders, Bernard</td>\n",
       "      <td>20001</td>\n",
       "      <td>27.0</td>\n",
       "      <td>201906</td>\n",
       "      <td>85976.0</td>\n",
       "      <td>2</td>\n",
       "    </tr>\n",
       "    <tr>\n",
       "      <th>3</th>\n",
       "      <td>Sanders, Bernard</td>\n",
       "      <td>20007</td>\n",
       "      <td>3.0</td>\n",
       "      <td>201903</td>\n",
       "      <td>119267.0</td>\n",
       "      <td>2</td>\n",
       "    </tr>\n",
       "    <tr>\n",
       "      <th>4</th>\n",
       "      <td>Sanders, Bernard</td>\n",
       "      <td>20001</td>\n",
       "      <td>27.0</td>\n",
       "      <td>201906</td>\n",
       "      <td>85976.0</td>\n",
       "      <td>2</td>\n",
       "    </tr>\n",
       "  </tbody>\n",
       "</table>\n",
       "</div>"
      ],
      "text/plain": [
       "            cand_nm  contbr_zip  contb_receipt_amt  converted_date    income  \\\n",
       "0  Sanders, Bernard       20001              100.0          201906   85976.0   \n",
       "1  Sanders, Bernard       20001                3.0          201906   85976.0   \n",
       "2  Sanders, Bernard       20001               27.0          201906   85976.0   \n",
       "3  Sanders, Bernard       20007                3.0          201903  119267.0   \n",
       "4  Sanders, Bernard       20001               27.0          201906   85976.0   \n",
       "\n",
       "   target  \n",
       "0       2  \n",
       "1       2  \n",
       "2       2  \n",
       "3       2  \n",
       "4       2  "
      ]
     },
     "execution_count": 2,
     "metadata": {},
     "output_type": "execute_result"
    }
   ],
   "source": [
    "# read in CSV \n",
    "df = pd.read_csv('clean_data/2019-fec-contr-census.csv', index_col=0)\n",
    "df.head()"
   ]
  },
  {
   "cell_type": "code",
   "execution_count": 3,
   "metadata": {
    "ExecuteTime": {
     "end_time": "2019-11-16T20:29:09.437635Z",
     "start_time": "2019-11-16T20:29:09.433058Z"
    }
   },
   "outputs": [],
   "source": [
    "y = df.target"
   ]
  },
  {
   "cell_type": "code",
   "execution_count": 4,
   "metadata": {
    "ExecuteTime": {
     "end_time": "2019-11-16T20:29:10.015821Z",
     "start_time": "2019-11-16T20:29:09.954421Z"
    }
   },
   "outputs": [
    {
     "name": "stdout",
     "output_type": "stream",
     "text": [
      "(11502, 23)\n"
     ]
    },
    {
     "data": {
      "text/html": [
       "<div>\n",
       "<style scoped>\n",
       "    .dataframe tbody tr th:only-of-type {\n",
       "        vertical-align: middle;\n",
       "    }\n",
       "\n",
       "    .dataframe tbody tr th {\n",
       "        vertical-align: top;\n",
       "    }\n",
       "\n",
       "    .dataframe thead th {\n",
       "        text-align: right;\n",
       "    }\n",
       "</style>\n",
       "<table border=\"1\" class=\"dataframe\">\n",
       "  <thead>\n",
       "    <tr style=\"text-align: right;\">\n",
       "      <th></th>\n",
       "      <th>converted_date</th>\n",
       "      <th>contb_receipt_amt</th>\n",
       "      <th>contbr_zip_20002</th>\n",
       "      <th>contbr_zip_20003</th>\n",
       "      <th>contbr_zip_20004</th>\n",
       "      <th>contbr_zip_20005</th>\n",
       "      <th>contbr_zip_20006</th>\n",
       "      <th>contbr_zip_20007</th>\n",
       "      <th>contbr_zip_20008</th>\n",
       "      <th>contbr_zip_20009</th>\n",
       "      <th>...</th>\n",
       "      <th>contbr_zip_20015</th>\n",
       "      <th>contbr_zip_20016</th>\n",
       "      <th>contbr_zip_20017</th>\n",
       "      <th>contbr_zip_20018</th>\n",
       "      <th>contbr_zip_20019</th>\n",
       "      <th>contbr_zip_20020</th>\n",
       "      <th>contbr_zip_20024</th>\n",
       "      <th>contbr_zip_20032</th>\n",
       "      <th>contbr_zip_20036</th>\n",
       "      <th>contbr_zip_20037</th>\n",
       "    </tr>\n",
       "  </thead>\n",
       "  <tbody>\n",
       "    <tr>\n",
       "      <th>0</th>\n",
       "      <td>201906</td>\n",
       "      <td>100.0</td>\n",
       "      <td>0</td>\n",
       "      <td>0</td>\n",
       "      <td>0</td>\n",
       "      <td>0</td>\n",
       "      <td>0</td>\n",
       "      <td>0</td>\n",
       "      <td>0</td>\n",
       "      <td>0</td>\n",
       "      <td>...</td>\n",
       "      <td>0</td>\n",
       "      <td>0</td>\n",
       "      <td>0</td>\n",
       "      <td>0</td>\n",
       "      <td>0</td>\n",
       "      <td>0</td>\n",
       "      <td>0</td>\n",
       "      <td>0</td>\n",
       "      <td>0</td>\n",
       "      <td>0</td>\n",
       "    </tr>\n",
       "    <tr>\n",
       "      <th>1</th>\n",
       "      <td>201906</td>\n",
       "      <td>3.0</td>\n",
       "      <td>0</td>\n",
       "      <td>0</td>\n",
       "      <td>0</td>\n",
       "      <td>0</td>\n",
       "      <td>0</td>\n",
       "      <td>0</td>\n",
       "      <td>0</td>\n",
       "      <td>0</td>\n",
       "      <td>...</td>\n",
       "      <td>0</td>\n",
       "      <td>0</td>\n",
       "      <td>0</td>\n",
       "      <td>0</td>\n",
       "      <td>0</td>\n",
       "      <td>0</td>\n",
       "      <td>0</td>\n",
       "      <td>0</td>\n",
       "      <td>0</td>\n",
       "      <td>0</td>\n",
       "    </tr>\n",
       "    <tr>\n",
       "      <th>2</th>\n",
       "      <td>201906</td>\n",
       "      <td>27.0</td>\n",
       "      <td>0</td>\n",
       "      <td>0</td>\n",
       "      <td>0</td>\n",
       "      <td>0</td>\n",
       "      <td>0</td>\n",
       "      <td>0</td>\n",
       "      <td>0</td>\n",
       "      <td>0</td>\n",
       "      <td>...</td>\n",
       "      <td>0</td>\n",
       "      <td>0</td>\n",
       "      <td>0</td>\n",
       "      <td>0</td>\n",
       "      <td>0</td>\n",
       "      <td>0</td>\n",
       "      <td>0</td>\n",
       "      <td>0</td>\n",
       "      <td>0</td>\n",
       "      <td>0</td>\n",
       "    </tr>\n",
       "    <tr>\n",
       "      <th>3</th>\n",
       "      <td>201903</td>\n",
       "      <td>3.0</td>\n",
       "      <td>0</td>\n",
       "      <td>0</td>\n",
       "      <td>0</td>\n",
       "      <td>0</td>\n",
       "      <td>0</td>\n",
       "      <td>1</td>\n",
       "      <td>0</td>\n",
       "      <td>0</td>\n",
       "      <td>...</td>\n",
       "      <td>0</td>\n",
       "      <td>0</td>\n",
       "      <td>0</td>\n",
       "      <td>0</td>\n",
       "      <td>0</td>\n",
       "      <td>0</td>\n",
       "      <td>0</td>\n",
       "      <td>0</td>\n",
       "      <td>0</td>\n",
       "      <td>0</td>\n",
       "    </tr>\n",
       "    <tr>\n",
       "      <th>4</th>\n",
       "      <td>201906</td>\n",
       "      <td>27.0</td>\n",
       "      <td>0</td>\n",
       "      <td>0</td>\n",
       "      <td>0</td>\n",
       "      <td>0</td>\n",
       "      <td>0</td>\n",
       "      <td>0</td>\n",
       "      <td>0</td>\n",
       "      <td>0</td>\n",
       "      <td>...</td>\n",
       "      <td>0</td>\n",
       "      <td>0</td>\n",
       "      <td>0</td>\n",
       "      <td>0</td>\n",
       "      <td>0</td>\n",
       "      <td>0</td>\n",
       "      <td>0</td>\n",
       "      <td>0</td>\n",
       "      <td>0</td>\n",
       "      <td>0</td>\n",
       "    </tr>\n",
       "  </tbody>\n",
       "</table>\n",
       "<p>5 rows × 23 columns</p>\n",
       "</div>"
      ],
      "text/plain": [
       "   converted_date  contb_receipt_amt  contbr_zip_20002  contbr_zip_20003  \\\n",
       "0          201906              100.0                 0                 0   \n",
       "1          201906                3.0                 0                 0   \n",
       "2          201906               27.0                 0                 0   \n",
       "3          201903                3.0                 0                 0   \n",
       "4          201906               27.0                 0                 0   \n",
       "\n",
       "   contbr_zip_20004  contbr_zip_20005  contbr_zip_20006  contbr_zip_20007  \\\n",
       "0                 0                 0                 0                 0   \n",
       "1                 0                 0                 0                 0   \n",
       "2                 0                 0                 0                 0   \n",
       "3                 0                 0                 0                 1   \n",
       "4                 0                 0                 0                 0   \n",
       "\n",
       "   contbr_zip_20008  contbr_zip_20009  ...  contbr_zip_20015  \\\n",
       "0                 0                 0  ...                 0   \n",
       "1                 0                 0  ...                 0   \n",
       "2                 0                 0  ...                 0   \n",
       "3                 0                 0  ...                 0   \n",
       "4                 0                 0  ...                 0   \n",
       "\n",
       "   contbr_zip_20016  contbr_zip_20017  contbr_zip_20018  contbr_zip_20019  \\\n",
       "0                 0                 0                 0                 0   \n",
       "1                 0                 0                 0                 0   \n",
       "2                 0                 0                 0                 0   \n",
       "3                 0                 0                 0                 0   \n",
       "4                 0                 0                 0                 0   \n",
       "\n",
       "   contbr_zip_20020  contbr_zip_20024  contbr_zip_20032  contbr_zip_20036  \\\n",
       "0                 0                 0                 0                 0   \n",
       "1                 0                 0                 0                 0   \n",
       "2                 0                 0                 0                 0   \n",
       "3                 0                 0                 0                 0   \n",
       "4                 0                 0                 0                 0   \n",
       "\n",
       "   contbr_zip_20037  \n",
       "0                 0  \n",
       "1                 0  \n",
       "2                 0  \n",
       "3                 0  \n",
       "4                 0  \n",
       "\n",
       "[5 rows x 23 columns]"
      ]
     },
     "execution_count": 4,
     "metadata": {},
     "output_type": "execute_result"
    }
   ],
   "source": [
    "df.contbr_zip = df.contbr_zip.astype(str)\n",
    "X_feats = ['contbr_zip',\n",
    "           'converted_date',\n",
    "           'contb_receipt_amt']\n",
    "X = pd.get_dummies(df[X_feats],\n",
    "                   drop_first=True)\n",
    "print(X.shape)\n",
    "X.head()"
   ]
  },
  {
   "cell_type": "code",
   "execution_count": 5,
   "metadata": {
    "ExecuteTime": {
     "end_time": "2019-11-16T20:29:16.733735Z",
     "start_time": "2019-11-16T20:29:16.698989Z"
    }
   },
   "outputs": [],
   "source": [
    "X_train, X_test, y_train, y_test = train_test_split(X, y, \n",
    "                                                    random_state=0, \n",
    "                                                    stratify=y, \n",
    "                                                    test_size=0.2\n",
    "                                                   )"
   ]
  },
  {
   "cell_type": "code",
   "execution_count": 6,
   "metadata": {
    "ExecuteTime": {
     "end_time": "2019-11-16T20:29:24.668277Z",
     "start_time": "2019-11-16T20:29:24.643788Z"
    }
   },
   "outputs": [],
   "source": [
    "scaler = StandardScaler()\n",
    "scaled_X_train = scaler.fit_transform(X_train)"
   ]
  },
  {
   "cell_type": "code",
   "execution_count": 7,
   "metadata": {
    "ExecuteTime": {
     "end_time": "2019-11-16T20:29:25.954299Z",
     "start_time": "2019-11-16T20:29:25.949001Z"
    }
   },
   "outputs": [],
   "source": [
    "clf = LogisticRegression(  C=2, \n",
    "                           solver='lbfgs', \n",
    "                           multi_class='multinomial', \n",
    "                           max_iter=1000, \n",
    "                           penalty='l2',\n",
    "                           class_weight={0: .89 ,1: .78, 2: .98, 3: .87})"
   ]
  },
  {
   "cell_type": "code",
   "execution_count": 8,
   "metadata": {
    "ExecuteTime": {
     "end_time": "2019-11-16T20:29:28.340662Z",
     "start_time": "2019-11-16T20:29:28.221989Z"
    }
   },
   "outputs": [
    {
     "data": {
      "text/plain": [
       "0.44027823062710575"
      ]
     },
     "execution_count": 8,
     "metadata": {},
     "output_type": "execute_result"
    }
   ],
   "source": [
    "clf.fit(scaled_X_train, y_train)\n",
    "y_hat_train = clf.predict(scaled_X_train)\n",
    "clf.score(scaled_X_train, y_train)"
   ]
  },
  {
   "cell_type": "code",
   "execution_count": 9,
   "metadata": {
    "ExecuteTime": {
     "end_time": "2019-11-16T20:29:29.191733Z",
     "start_time": "2019-11-16T20:29:29.158295Z"
    }
   },
   "outputs": [
    {
     "data": {
      "text/html": [
       "<div>\n",
       "<style scoped>\n",
       "    .dataframe tbody tr th:only-of-type {\n",
       "        vertical-align: middle;\n",
       "    }\n",
       "\n",
       "    .dataframe tbody tr th {\n",
       "        vertical-align: top;\n",
       "    }\n",
       "\n",
       "    .dataframe thead th {\n",
       "        text-align: right;\n",
       "    }\n",
       "</style>\n",
       "<table border=\"1\" class=\"dataframe\">\n",
       "  <thead>\n",
       "    <tr style=\"text-align: right;\">\n",
       "      <th></th>\n",
       "      <th>Biden</th>\n",
       "      <th>Buttigieg</th>\n",
       "      <th>Sanders</th>\n",
       "      <th>Warren</th>\n",
       "    </tr>\n",
       "  </thead>\n",
       "  <tbody>\n",
       "    <tr>\n",
       "      <th>actual Biden</th>\n",
       "      <td>120</td>\n",
       "      <td>435</td>\n",
       "      <td>293</td>\n",
       "      <td>289</td>\n",
       "    </tr>\n",
       "    <tr>\n",
       "      <th>actual Buttigieg</th>\n",
       "      <td>86</td>\n",
       "      <td>1197</td>\n",
       "      <td>539</td>\n",
       "      <td>1174</td>\n",
       "    </tr>\n",
       "    <tr>\n",
       "      <th>actual Sanders</th>\n",
       "      <td>18</td>\n",
       "      <td>241</td>\n",
       "      <td>992</td>\n",
       "      <td>930</td>\n",
       "    </tr>\n",
       "    <tr>\n",
       "      <th>actual Warren</th>\n",
       "      <td>31</td>\n",
       "      <td>488</td>\n",
       "      <td>626</td>\n",
       "      <td>1742</td>\n",
       "    </tr>\n",
       "  </tbody>\n",
       "</table>\n",
       "</div>"
      ],
      "text/plain": [
       "                  Biden  Buttigieg  Sanders  Warren\n",
       "actual Biden        120        435      293     289\n",
       "actual Buttigieg     86       1197      539    1174\n",
       "actual Sanders       18        241      992     930\n",
       "actual Warren        31        488      626    1742"
      ]
     },
     "execution_count": 9,
     "metadata": {},
     "output_type": "execute_result"
    }
   ],
   "source": [
    "# create confusion matrix\n",
    "cm = confusion_matrix(y_train, y_hat_train)\n",
    "conf_matrix = pd.DataFrame(cm, index=['actual Biden',\n",
    "                                      'actual Buttigieg',\n",
    "                                      'actual Sanders',\n",
    "                                      'actual Warren'], \n",
    "                           columns= ['Biden', \n",
    "                                     'Buttigieg',\n",
    "                                     'Sanders',\n",
    "                                     'Warren'])\n",
    "conf_matrix"
   ]
  },
  {
   "cell_type": "code",
   "execution_count": 10,
   "metadata": {
    "ExecuteTime": {
     "end_time": "2019-11-16T20:29:29.859090Z",
     "start_time": "2019-11-16T20:29:29.846115Z"
    }
   },
   "outputs": [
    {
     "data": {
      "text/plain": [
       "0.4211212516297262"
      ]
     },
     "execution_count": 10,
     "metadata": {},
     "output_type": "execute_result"
    }
   ],
   "source": [
    "scaled_X_test = scaler.transform(X_test)\n",
    "clf.score(scaled_X_test, y_test)"
   ]
  },
  {
   "cell_type": "code",
   "execution_count": null,
   "metadata": {},
   "outputs": [],
   "source": []
  },
  {
   "cell_type": "code",
   "execution_count": null,
   "metadata": {},
   "outputs": [],
   "source": []
  }
 ],
 "metadata": {
  "kernelspec": {
   "display_name": "Python 3",
   "language": "python",
   "name": "python3"
  },
  "language_info": {
   "codemirror_mode": {
    "name": "ipython",
    "version": 3
   },
   "file_extension": ".py",
   "mimetype": "text/x-python",
   "name": "python",
   "nbconvert_exporter": "python",
   "pygments_lexer": "ipython3",
   "version": "3.7.3"
  },
  "toc": {
   "base_numbering": 1,
   "nav_menu": {},
   "number_sections": true,
   "sideBar": true,
   "skip_h1_title": false,
   "title_cell": "Table of Contents",
   "title_sidebar": "Contents",
   "toc_cell": false,
   "toc_position": {},
   "toc_section_display": true,
   "toc_window_display": false
  }
 },
 "nbformat": 4,
 "nbformat_minor": 2
}
